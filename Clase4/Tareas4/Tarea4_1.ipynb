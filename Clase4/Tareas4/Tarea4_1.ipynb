{
 "cells": [
  {
   "cell_type": "markdown",
   "metadata": {},
   "source": [
    "# Lista de ejercicios 2\n",
    "***"
   ]
  },
  {
   "cell_type": "markdown",
   "metadata": {},
   "source": [
    "* Explica las siguientes expresiones:"
   ]
  },
  {
   "cell_type": "code",
   "execution_count": 13,
   "metadata": {},
   "outputs": [
    {
     "data": {
      "text/html": [
       "4"
      ],
      "text/latex": [
       "4"
      ],
      "text/markdown": [
       "4"
      ],
      "text/plain": [
       "[1] 4"
      ]
     },
     "metadata": {},
     "output_type": "display_data"
    },
    {
     "data": {
      "text/html": [
       "<ol class=list-inline>\n",
       "\t<li>1</li>\n",
       "\t<li>2</li>\n",
       "\t<li>3</li>\n",
       "\t<li>4</li>\n",
       "</ol>\n"
      ],
      "text/latex": [
       "\\begin{enumerate*}\n",
       "\\item 1\n",
       "\\item 2\n",
       "\\item 3\n",
       "\\item 4\n",
       "\\end{enumerate*}\n"
      ],
      "text/markdown": [
       "1. 1\n",
       "2. 2\n",
       "3. 3\n",
       "4. 4\n",
       "\n",
       "\n"
      ],
      "text/plain": [
       "[1] 1 2 3 4"
      ]
     },
     "metadata": {},
     "output_type": "display_data"
    },
    {
     "data": {
      "text/plain": [
       "[1] NA"
      ]
     },
     "metadata": {},
     "output_type": "display_data"
    },
    {
     "data": {
      "text/html": [
       "2"
      ],
      "text/latex": [
       "2"
      ],
      "text/markdown": [
       "2"
      ],
      "text/plain": [
       "[1] 2"
      ]
     },
     "metadata": {},
     "output_type": "display_data"
    }
   ],
   "source": [
    "# Declaramos una vector x\n",
    "x<- c(1,2,3,4)\n",
    "sum(!is.na(x)) # Primero is.na evalúa cada elemento de x, si es de tipo NA será 1, sino 0, pero como está \n",
    "               # la negación, entonces retornará 1 por cada valor de x, así la suma de todos esos valores será 3\n",
    "\n",
    "c(x,x[-(1:length(x))]) # En este caso se concatena dos vectores, el vector x con el mismo vector x pero este último \n",
    "                    # no tiene valores, ya que al aplicarle el -(1:length(x)) no se muestra ningún valor de x. Entonces\n",
    "                    # si concatenamos x con x[vacio] será el mismo vector x \n",
    "\n",
    "x[length(x) + 1] / length(x) # length( x) + 1 es una valor NA, por lo tengo al dividir el valor NA evaluado en el\n",
    "                             # vector x, entre length(x) nos dará NA. \n",
    "\n",
    "sum(x > mean(x)) # Nos sumará todos los valores que cumplen la condicional. Si cumple será 1 sino 0. "
   ]
  },
  {
   "cell_type": "markdown",
   "metadata": {},
   "source": [
    "* Pregunta 2:"
   ]
  },
  {
   "cell_type": "code",
   "execution_count": 14,
   "metadata": {
    "collapsed": true
   },
   "outputs": [],
   "source": [
    "# Declaramos la función sinh\n",
    "sinh <- function(x) {\n",
    "   \n",
    "  p <- exp(x) - exp(-x) / 2\n",
    "  print(p) #mostramos p\n",
    "  \n",
    "}"
   ]
  },
  {
   "cell_type": "markdown",
   "metadata": {},
   "source": [
    "* Pregunta 3:"
   ]
  },
  {
   "cell_type": "code",
   "execution_count": 15,
   "metadata": {},
   "outputs": [
    {
     "data": {
      "text/html": [
       "<ol class=list-inline>\n",
       "\t<li>-19.884530844147</li>\n",
       "\t<li>-22.1787533893421</li>\n",
       "\t<li>-24.4906967328013</li>\n",
       "\t<li>-26.7731824429934</li>\n",
       "\t<li>-28.9692377680936</li>\n",
       "\t<li>-31.0111864393745</li>\n",
       "\t<li>-32.8197747603385</li>\n",
       "\t<li>-34.3033601103737</li>\n",
       "\t<li>-35.3571936185304</li>\n",
       "\t<li>-35.8628337123077</li>\n",
       "\t<li>-35.6877324801191</li>\n",
       "\t<li>-34.6850422516681</li>\n",
       "\t<li>-32.6936954283217</li>\n",
       "\t<li>-29.538816297263</li>\n",
       "\t<li>-25.03252922904</li>\n",
       "\t<li>-18.975233154959</li>\n",
       "\t<li>-11.1574173896475</li>\n",
       "\t<li>-1.36209851820575</li>\n",
       "\t<li>10.632038010192</li>\n",
       "\t<li>25.046704998273</li>\n",
       "\t<li>42.0992010625384</li>\n",
       "\t<li>61.9966302766945</li>\n",
       "\t<li>84.9290673625027</li>\n",
       "\t<li>111.061586042026</li>\n",
       "\t<li>140.525075052788</li>\n",
       "\t<li>173.405776408577</li>\n",
       "\t<li>209.733494247835</li>\n",
       "\t<li>249.468440558857</li>\n",
       "\t<li>292.486706737123</li>\n",
       "\t<li>338.564377858512</li>\n",
       "\t<li>387.360340290931</li>\n",
       "</ol>\n"
      ],
      "text/latex": [
       "\\begin{enumerate*}\n",
       "\\item -19.884530844147\n",
       "\\item -22.1787533893421\n",
       "\\item -24.4906967328013\n",
       "\\item -26.7731824429934\n",
       "\\item -28.9692377680936\n",
       "\\item -31.0111864393745\n",
       "\\item -32.8197747603385\n",
       "\\item -34.3033601103737\n",
       "\\item -35.3571936185304\n",
       "\\item -35.8628337123077\n",
       "\\item -35.6877324801191\n",
       "\\item -34.6850422516681\n",
       "\\item -32.6936954283217\n",
       "\\item -29.538816297263\n",
       "\\item -25.03252922904\n",
       "\\item -18.975233154959\n",
       "\\item -11.1574173896475\n",
       "\\item -1.36209851820575\n",
       "\\item 10.632038010192\n",
       "\\item 25.046704998273\n",
       "\\item 42.0992010625384\n",
       "\\item 61.9966302766945\n",
       "\\item 84.9290673625027\n",
       "\\item 111.061586042026\n",
       "\\item 140.525075052788\n",
       "\\item 173.405776408577\n",
       "\\item 209.733494247835\n",
       "\\item 249.468440558857\n",
       "\\item 292.486706737123\n",
       "\\item 338.564377858512\n",
       "\\item 387.360340290931\n",
       "\\end{enumerate*}\n"
      ],
      "text/markdown": [
       "1. -19.884530844147\n",
       "2. -22.1787533893421\n",
       "3. -24.4906967328013\n",
       "4. -26.7731824429934\n",
       "5. -28.9692377680936\n",
       "6. -31.0111864393745\n",
       "7. -32.8197747603385\n",
       "8. -34.3033601103737\n",
       "9. -35.3571936185304\n",
       "10. -35.8628337123077\n",
       "11. -35.6877324801191\n",
       "12. -34.6850422516681\n",
       "13. -32.6936954283217\n",
       "14. -29.538816297263\n",
       "15. -25.03252922904\n",
       "16. -18.975233154959\n",
       "17. -11.1574173896475\n",
       "18. -1.36209851820575\n",
       "19. 10.632038010192\n",
       "20. 25.046704998273\n",
       "21. 42.0992010625384\n",
       "22. 61.9966302766945\n",
       "23. 84.9290673625027\n",
       "24. 111.061586042026\n",
       "25. 140.525075052788\n",
       "26. 173.405776408577\n",
       "27. 209.733494247835\n",
       "28. 249.468440558857\n",
       "29. 292.486706737123\n",
       "30. 338.564377858512\n",
       "31. 387.360340290931\n",
       "\n",
       "\n"
      ],
      "text/plain": [
       " [1] -19.884531 -22.178753 -24.490697 -26.773182 -28.969238 -31.011186\n",
       " [7] -32.819775 -34.303360 -35.357194 -35.862834 -35.687732 -34.685042\n",
       "[13] -32.693695 -29.538816 -25.032529 -18.975233 -11.157417  -1.362099\n",
       "[19]  10.632038  25.046705  42.099201  61.996630  84.929067 111.061586\n",
       "[25] 140.525075 173.405776 209.733494 249.468441 292.486707 338.564378\n",
       "[31] 387.360340"
      ]
     },
     "metadata": {},
     "output_type": "display_data"
    }
   ],
   "source": [
    "# Generamos una secuencia con la función seq que varía en 0.1 \n",
    "x <- seq( from = 3, to = 6, by = 0.1)\n",
    "y <- exp(x)* cos(x)\n",
    "y"
   ]
  },
  {
   "cell_type": "markdown",
   "metadata": {},
   "source": [
    "* Pregunta 4:"
   ]
  },
  {
   "cell_type": "code",
   "execution_count": 16,
   "metadata": {},
   "outputs": [
    {
     "data": {
      "text/html": [
       "<ol class=list-inline>\n",
       "\t<li>'vector 1'</li>\n",
       "\t<li>'vector 2'</li>\n",
       "\t<li>'vector 3'</li>\n",
       "\t<li>'vector 4'</li>\n",
       "\t<li>'vector 5'</li>\n",
       "\t<li>'vector 6'</li>\n",
       "\t<li>'vector 7'</li>\n",
       "\t<li>'vector 8'</li>\n",
       "\t<li>'vector 9'</li>\n",
       "\t<li>'vector 10'</li>\n",
       "\t<li>'vector 11'</li>\n",
       "\t<li>'vector 12'</li>\n",
       "\t<li>'vector 13'</li>\n",
       "\t<li>'vector 14'</li>\n",
       "\t<li>'vector 15'</li>\n",
       "\t<li>'vector 16'</li>\n",
       "\t<li>'vector 17'</li>\n",
       "\t<li>'vector 18'</li>\n",
       "\t<li>'vector 19'</li>\n",
       "\t<li>'vector 20'</li>\n",
       "\t<li>'vector 21'</li>\n",
       "\t<li>'vector 22'</li>\n",
       "\t<li>'vector 23'</li>\n",
       "\t<li>'vector 24'</li>\n",
       "\t<li>'vector 25'</li>\n",
       "\t<li>'vector 26'</li>\n",
       "\t<li>'vector 27'</li>\n",
       "\t<li>'vector 28'</li>\n",
       "\t<li>'vector 29'</li>\n",
       "\t<li>'vector 30'</li>\n",
       "</ol>\n"
      ],
      "text/latex": [
       "\\begin{enumerate*}\n",
       "\\item 'vector 1'\n",
       "\\item 'vector 2'\n",
       "\\item 'vector 3'\n",
       "\\item 'vector 4'\n",
       "\\item 'vector 5'\n",
       "\\item 'vector 6'\n",
       "\\item 'vector 7'\n",
       "\\item 'vector 8'\n",
       "\\item 'vector 9'\n",
       "\\item 'vector 10'\n",
       "\\item 'vector 11'\n",
       "\\item 'vector 12'\n",
       "\\item 'vector 13'\n",
       "\\item 'vector 14'\n",
       "\\item 'vector 15'\n",
       "\\item 'vector 16'\n",
       "\\item 'vector 17'\n",
       "\\item 'vector 18'\n",
       "\\item 'vector 19'\n",
       "\\item 'vector 20'\n",
       "\\item 'vector 21'\n",
       "\\item 'vector 22'\n",
       "\\item 'vector 23'\n",
       "\\item 'vector 24'\n",
       "\\item 'vector 25'\n",
       "\\item 'vector 26'\n",
       "\\item 'vector 27'\n",
       "\\item 'vector 28'\n",
       "\\item 'vector 29'\n",
       "\\item 'vector 30'\n",
       "\\end{enumerate*}\n"
      ],
      "text/markdown": [
       "1. 'vector 1'\n",
       "2. 'vector 2'\n",
       "3. 'vector 3'\n",
       "4. 'vector 4'\n",
       "5. 'vector 5'\n",
       "6. 'vector 6'\n",
       "7. 'vector 7'\n",
       "8. 'vector 8'\n",
       "9. 'vector 9'\n",
       "10. 'vector 10'\n",
       "11. 'vector 11'\n",
       "12. 'vector 12'\n",
       "13. 'vector 13'\n",
       "14. 'vector 14'\n",
       "15. 'vector 15'\n",
       "16. 'vector 16'\n",
       "17. 'vector 17'\n",
       "18. 'vector 18'\n",
       "19. 'vector 19'\n",
       "20. 'vector 20'\n",
       "21. 'vector 21'\n",
       "22. 'vector 22'\n",
       "23. 'vector 23'\n",
       "24. 'vector 24'\n",
       "25. 'vector 25'\n",
       "26. 'vector 26'\n",
       "27. 'vector 27'\n",
       "28. 'vector 28'\n",
       "29. 'vector 29'\n",
       "30. 'vector 30'\n",
       "\n",
       "\n"
      ],
      "text/plain": [
       " [1] \"vector 1\"  \"vector 2\"  \"vector 3\"  \"vector 4\"  \"vector 5\"  \"vector 6\" \n",
       " [7] \"vector 7\"  \"vector 8\"  \"vector 9\"  \"vector 10\" \"vector 11\" \"vector 12\"\n",
       "[13] \"vector 13\" \"vector 14\" \"vector 15\" \"vector 16\" \"vector 17\" \"vector 18\"\n",
       "[19] \"vector 19\" \"vector 20\" \"vector 21\" \"vector 22\" \"vector 23\" \"vector 24\"\n",
       "[25] \"vector 25\" \"vector 26\" \"vector 27\" \"vector 28\" \"vector 29\" \"vector 30\""
      ]
     },
     "metadata": {},
     "output_type": "display_data"
    },
    {
     "data": {
      "text/html": [
       "<ol class=list-inline>\n",
       "\t<li>'fn1'</li>\n",
       "\t<li>'fn2'</li>\n",
       "\t<li>'fn3'</li>\n",
       "\t<li>'fn4'</li>\n",
       "\t<li>'fn5'</li>\n",
       "\t<li>'fn6'</li>\n",
       "\t<li>'fn7'</li>\n",
       "\t<li>'fn8'</li>\n",
       "\t<li>'fn9'</li>\n",
       "\t<li>'fn10'</li>\n",
       "\t<li>'fn11'</li>\n",
       "\t<li>'fn12'</li>\n",
       "\t<li>'fn13'</li>\n",
       "\t<li>'fn14'</li>\n",
       "\t<li>'fn15'</li>\n",
       "\t<li>'fn16'</li>\n",
       "\t<li>'fn17'</li>\n",
       "\t<li>'fn18'</li>\n",
       "\t<li>'fn19'</li>\n",
       "\t<li>'fn20'</li>\n",
       "\t<li>'fn21'</li>\n",
       "\t<li>'fn22'</li>\n",
       "\t<li>'fn23'</li>\n",
       "\t<li>'fn24'</li>\n",
       "\t<li>'fn25'</li>\n",
       "\t<li>'fn26'</li>\n",
       "\t<li>'fn27'</li>\n",
       "\t<li>'fn28'</li>\n",
       "\t<li>'fn29'</li>\n",
       "\t<li>'fn30'</li>\n",
       "</ol>\n"
      ],
      "text/latex": [
       "\\begin{enumerate*}\n",
       "\\item 'fn1'\n",
       "\\item 'fn2'\n",
       "\\item 'fn3'\n",
       "\\item 'fn4'\n",
       "\\item 'fn5'\n",
       "\\item 'fn6'\n",
       "\\item 'fn7'\n",
       "\\item 'fn8'\n",
       "\\item 'fn9'\n",
       "\\item 'fn10'\n",
       "\\item 'fn11'\n",
       "\\item 'fn12'\n",
       "\\item 'fn13'\n",
       "\\item 'fn14'\n",
       "\\item 'fn15'\n",
       "\\item 'fn16'\n",
       "\\item 'fn17'\n",
       "\\item 'fn18'\n",
       "\\item 'fn19'\n",
       "\\item 'fn20'\n",
       "\\item 'fn21'\n",
       "\\item 'fn22'\n",
       "\\item 'fn23'\n",
       "\\item 'fn24'\n",
       "\\item 'fn25'\n",
       "\\item 'fn26'\n",
       "\\item 'fn27'\n",
       "\\item 'fn28'\n",
       "\\item 'fn29'\n",
       "\\item 'fn30'\n",
       "\\end{enumerate*}\n"
      ],
      "text/markdown": [
       "1. 'fn1'\n",
       "2. 'fn2'\n",
       "3. 'fn3'\n",
       "4. 'fn4'\n",
       "5. 'fn5'\n",
       "6. 'fn6'\n",
       "7. 'fn7'\n",
       "8. 'fn8'\n",
       "9. 'fn9'\n",
       "10. 'fn10'\n",
       "11. 'fn11'\n",
       "12. 'fn12'\n",
       "13. 'fn13'\n",
       "14. 'fn14'\n",
       "15. 'fn15'\n",
       "16. 'fn16'\n",
       "17. 'fn17'\n",
       "18. 'fn18'\n",
       "19. 'fn19'\n",
       "20. 'fn20'\n",
       "21. 'fn21'\n",
       "22. 'fn22'\n",
       "23. 'fn23'\n",
       "24. 'fn24'\n",
       "25. 'fn25'\n",
       "26. 'fn26'\n",
       "27. 'fn27'\n",
       "28. 'fn28'\n",
       "29. 'fn29'\n",
       "30. 'fn30'\n",
       "\n",
       "\n"
      ],
      "text/plain": [
       " [1] \"fn1\"  \"fn2\"  \"fn3\"  \"fn4\"  \"fn5\"  \"fn6\"  \"fn7\"  \"fn8\"  \"fn9\"  \"fn10\"\n",
       "[11] \"fn11\" \"fn12\" \"fn13\" \"fn14\" \"fn15\" \"fn16\" \"fn17\" \"fn18\" \"fn19\" \"fn20\"\n",
       "[21] \"fn21\" \"fn22\" \"fn23\" \"fn24\" \"fn25\" \"fn26\" \"fn27\" \"fn28\" \"fn29\" \"fn30\""
      ]
     },
     "metadata": {},
     "output_type": "display_data"
    }
   ],
   "source": [
    "#Usamos la función paste para poder concatenar vectores que luego los convertiŕa a caracter\n",
    "# La función rep se encarga de poder repetir la palabra \"vector\"\n",
    "paste(rep(\"vector\") , c(1:30))\n",
    "\n",
    "#Usamos sep = \"\", para poder juntar los términos\n",
    "paste(rep(\"fn\") , c(1:30), sep = \"\")"
   ]
  },
  {
   "cell_type": "markdown",
   "metadata": {},
   "source": [
    "* Pregunta 5:"
   ]
  },
  {
   "cell_type": "code",
   "execution_count": 17,
   "metadata": {},
   "outputs": [
    {
     "data": {
      "text/html": [
       "-2"
      ],
      "text/latex": [
       "-2"
      ],
      "text/markdown": [
       "-2"
      ],
      "text/plain": [
       "[1] -2"
      ]
     },
     "metadata": {},
     "output_type": "display_data"
    }
   ],
   "source": [
    "DF <- D(expression(cos(x)/sin(x)), \"x\") # DF retorna la derivada de  \"expression\", la cual es -csc(x)^2 \n",
    "  x <- pi/4  # Después le damos a x el valor de pi/4\n",
    "  eval(DF)  # Por último evaluamos ese valor de x en DF. "
   ]
  },
  {
   "cell_type": "markdown",
   "metadata": {},
   "source": [
    "* Pregunta 6:"
   ]
  },
  {
   "cell_type": "code",
   "execution_count": null,
   "metadata": {
    "collapsed": true
   },
   "outputs": [],
   "source": []
  },
  {
   "cell_type": "markdown",
   "metadata": {},
   "source": [
    "* Pregunta 7:"
   ]
  },
  {
   "cell_type": "code",
   "execution_count": 18,
   "metadata": {},
   "outputs": [
    {
     "data": {
      "text/html": [
       "<ol class=list-inline>\n",
       "\t<li>1</li>\n",
       "\t<li>1</li>\n",
       "\t<li>1</li>\n",
       "\t<li>1</li>\n",
       "\t<li>1</li>\n",
       "\t<li>2</li>\n",
       "\t<li>2</li>\n",
       "\t<li>2</li>\n",
       "\t<li>2</li>\n",
       "\t<li>2</li>\n",
       "\t<li>3</li>\n",
       "\t<li>3</li>\n",
       "\t<li>3</li>\n",
       "\t<li>3</li>\n",
       "\t<li>3</li>\n",
       "\t<li>4</li>\n",
       "\t<li>4</li>\n",
       "\t<li>4</li>\n",
       "\t<li>4</li>\n",
       "\t<li>4</li>\n",
       "\t<li>5</li>\n",
       "\t<li>5</li>\n",
       "\t<li>5</li>\n",
       "\t<li>5</li>\n",
       "\t<li>5</li>\n",
       "</ol>\n"
      ],
      "text/latex": [
       "\\begin{enumerate*}\n",
       "\\item 1\n",
       "\\item 1\n",
       "\\item 1\n",
       "\\item 1\n",
       "\\item 1\n",
       "\\item 2\n",
       "\\item 2\n",
       "\\item 2\n",
       "\\item 2\n",
       "\\item 2\n",
       "\\item 3\n",
       "\\item 3\n",
       "\\item 3\n",
       "\\item 3\n",
       "\\item 3\n",
       "\\item 4\n",
       "\\item 4\n",
       "\\item 4\n",
       "\\item 4\n",
       "\\item 4\n",
       "\\item 5\n",
       "\\item 5\n",
       "\\item 5\n",
       "\\item 5\n",
       "\\item 5\n",
       "\\end{enumerate*}\n"
      ],
      "text/markdown": [
       "1. 1\n",
       "2. 1\n",
       "3. 1\n",
       "4. 1\n",
       "5. 1\n",
       "6. 2\n",
       "7. 2\n",
       "8. 2\n",
       "9. 2\n",
       "10. 2\n",
       "11. 3\n",
       "12. 3\n",
       "13. 3\n",
       "14. 3\n",
       "15. 3\n",
       "16. 4\n",
       "17. 4\n",
       "18. 4\n",
       "19. 4\n",
       "20. 4\n",
       "21. 5\n",
       "22. 5\n",
       "23. 5\n",
       "24. 5\n",
       "25. 5\n",
       "\n",
       "\n"
      ],
      "text/plain": [
       " [1] 1 1 1 1 1 2 2 2 2 2 3 3 3 3 3 4 4 4 4 4 5 5 5 5 5"
      ]
     },
     "metadata": {},
     "output_type": "display_data"
    },
    {
     "data": {
      "text/html": [
       "<ol class=list-inline>\n",
       "\t<li>0</li>\n",
       "\t<li>1</li>\n",
       "\t<li>2</li>\n",
       "\t<li>3</li>\n",
       "\t<li>4</li>\n",
       "\t<li>0</li>\n",
       "\t<li>1</li>\n",
       "\t<li>2</li>\n",
       "\t<li>3</li>\n",
       "\t<li>4</li>\n",
       "\t<li>0</li>\n",
       "\t<li>1</li>\n",
       "\t<li>2</li>\n",
       "\t<li>3</li>\n",
       "\t<li>4</li>\n",
       "\t<li>0</li>\n",
       "\t<li>1</li>\n",
       "\t<li>2</li>\n",
       "\t<li>3</li>\n",
       "\t<li>4</li>\n",
       "\t<li>0</li>\n",
       "\t<li>1</li>\n",
       "\t<li>2</li>\n",
       "\t<li>3</li>\n",
       "\t<li>4</li>\n",
       "</ol>\n"
      ],
      "text/latex": [
       "\\begin{enumerate*}\n",
       "\\item 0\n",
       "\\item 1\n",
       "\\item 2\n",
       "\\item 3\n",
       "\\item 4\n",
       "\\item 0\n",
       "\\item 1\n",
       "\\item 2\n",
       "\\item 3\n",
       "\\item 4\n",
       "\\item 0\n",
       "\\item 1\n",
       "\\item 2\n",
       "\\item 3\n",
       "\\item 4\n",
       "\\item 0\n",
       "\\item 1\n",
       "\\item 2\n",
       "\\item 3\n",
       "\\item 4\n",
       "\\item 0\n",
       "\\item 1\n",
       "\\item 2\n",
       "\\item 3\n",
       "\\item 4\n",
       "\\end{enumerate*}\n"
      ],
      "text/markdown": [
       "1. 0\n",
       "2. 1\n",
       "3. 2\n",
       "4. 3\n",
       "5. 4\n",
       "6. 0\n",
       "7. 1\n",
       "8. 2\n",
       "9. 3\n",
       "10. 4\n",
       "11. 0\n",
       "12. 1\n",
       "13. 2\n",
       "14. 3\n",
       "15. 4\n",
       "16. 0\n",
       "17. 1\n",
       "18. 2\n",
       "19. 3\n",
       "20. 4\n",
       "21. 0\n",
       "22. 1\n",
       "23. 2\n",
       "24. 3\n",
       "25. 4\n",
       "\n",
       "\n"
      ],
      "text/plain": [
       " [1] 0 1 2 3 4 0 1 2 3 4 0 1 2 3 4 0 1 2 3 4 0 1 2 3 4"
      ]
     },
     "metadata": {},
     "output_type": "display_data"
    }
   ],
   "source": [
    "#Primera secuencia \n",
    "z <-rep( seq(0:4), each = 5)\n",
    "z\n",
    "\n",
    "#Segunda secuencia \n",
    "rep(0:4,5)"
   ]
  },
  {
   "cell_type": "markdown",
   "metadata": {},
   "source": [
    "* Pregunta 8:"
   ]
  },
  {
   "cell_type": "code",
   "execution_count": 24,
   "metadata": {},
   "outputs": [
    {
     "data": {
      "text/html": [
       "'La suma es 6.976346'"
      ],
      "text/latex": [
       "'La suma es 6.976346'"
      ],
      "text/markdown": [
       "'La suma es 6.976346'"
      ],
      "text/plain": [
       "[1] \"La suma es 6.976346\""
      ]
     },
     "metadata": {},
     "output_type": "display_data"
    }
   ],
   "source": [
    "x <- 2:38 # Vector de 2 a 38\n",
    "x <- x[x%%2==0] #Solo coge los índices pares\n",
    "\n",
    "fraccion1 <- x/(x+1) \n",
    "fraccion2 <- cumprod(fraccion1) # aplicamos la fución cumprod ya que acumula los productos \n",
    "suma <- 1+sum(fraccion2)\n",
    "sprintf(\"La suma es %f\",suma)\n",
    " "
   ]
  },
  {
   "cell_type": "markdown",
   "metadata": {},
   "source": [
    "* Pregunta 9:"
   ]
  },
  {
   "cell_type": "code",
   "execution_count": 25,
   "metadata": {},
   "outputs": [
    {
     "data": {
      "text/html": [
       "<table>\n",
       "<thead><tr><th scope=col>Moneda</th><th scope=col>Dados</th></tr></thead>\n",
       "<tbody>\n",
       "\t<tr><td>C</td><td>5</td></tr>\n",
       "\t<tr><td>S</td><td>5</td></tr>\n",
       "\t<tr><td>C</td><td>3</td></tr>\n",
       "\t<tr><td>S</td><td>3</td></tr>\n",
       "\t<tr><td>C</td><td>3</td></tr>\n",
       "\t<tr><td>S</td><td>3</td></tr>\n",
       "\t<tr><td>C</td><td>1</td></tr>\n",
       "\t<tr><td>S</td><td>1</td></tr>\n",
       "\t<tr><td>C</td><td>1</td></tr>\n",
       "\t<tr><td>S</td><td>1</td></tr>\n",
       "\t<tr><td>C</td><td>4</td></tr>\n",
       "\t<tr><td>S</td><td>4</td></tr>\n",
       "</tbody>\n",
       "</table>\n"
      ],
      "text/latex": [
       "\\begin{tabular}{r|ll}\n",
       " Moneda & Dados\\\\\n",
       "\\hline\n",
       "\t C & 5\\\\\n",
       "\t S & 5\\\\\n",
       "\t C & 3\\\\\n",
       "\t S & 3\\\\\n",
       "\t C & 3\\\\\n",
       "\t S & 3\\\\\n",
       "\t C & 1\\\\\n",
       "\t S & 1\\\\\n",
       "\t C & 1\\\\\n",
       "\t S & 1\\\\\n",
       "\t C & 4\\\\\n",
       "\t S & 4\\\\\n",
       "\\end{tabular}\n"
      ],
      "text/markdown": [
       "\n",
       "Moneda | Dados | \n",
       "|---|---|---|---|---|---|---|---|---|---|---|---|\n",
       "| C | 5 | \n",
       "| S | 5 | \n",
       "| C | 3 | \n",
       "| S | 3 | \n",
       "| C | 3 | \n",
       "| S | 3 | \n",
       "| C | 1 | \n",
       "| S | 1 | \n",
       "| C | 1 | \n",
       "| S | 1 | \n",
       "| C | 4 | \n",
       "| S | 4 | \n",
       "\n",
       "\n"
      ],
      "text/plain": [
       "   Moneda Dados\n",
       "1  C      5    \n",
       "2  S      5    \n",
       "3  C      3    \n",
       "4  S      3    \n",
       "5  C      3    \n",
       "6  S      3    \n",
       "7  C      1    \n",
       "8  S      1    \n",
       "9  C      1    \n",
       "10 S      1    \n",
       "11 C      4    \n",
       "12 S      4    "
      ]
     },
     "metadata": {},
     "output_type": "display_data"
    }
   ],
   "source": [
    "# Utilizamos la funcion expand.grid para poder obtener todos los valores posibles que se pueden dar en los\n",
    "# experimentos \n",
    "Tabla <- expand.grid(Moneda = sample(c(\"C\",\"S\"), replace = T), Dados = sample(c(1:6),replace = T))\n",
    "Tabla\n",
    "  "
   ]
  },
  {
   "cell_type": "markdown",
   "metadata": {},
   "source": [
    "* Pregunta 10:"
   ]
  },
  {
   "cell_type": "code",
   "execution_count": 27,
   "metadata": {},
   "outputs": [
    {
     "data": {
      "text/html": [
       "<table>\n",
       "<tbody>\n",
       "\t<tr><td>rojo    </td><td>rojo    </td><td>rojo    </td><td>rojo    </td><td>rojo    </td><td>rojo    </td><td>rojo    </td><td>rojo    </td><td>rojo    </td><td>rojo    </td><td>azul    </td><td>azul    </td><td>azul    </td><td>azul    </td><td>azul    </td><td>azul    </td><td>verde   </td><td>verde   </td><td>verde   </td><td>blanco  </td></tr>\n",
       "\t<tr><td>azul    </td><td>azul    </td><td>azul    </td><td>azul    </td><td>verde   </td><td>verde   </td><td>verde   </td><td>blanco  </td><td>blanco  </td><td>negro   </td><td>verde   </td><td>verde   </td><td>verde   </td><td>blanco  </td><td>blanco  </td><td>negro   </td><td>blanco  </td><td>blanco  </td><td>negro   </td><td>negro   </td></tr>\n",
       "\t<tr><td>verde   </td><td>blanco  </td><td>negro   </td><td>amarillo</td><td>blanco  </td><td>negro   </td><td>amarillo</td><td>negro   </td><td>amarillo</td><td>amarillo</td><td>blanco  </td><td>negro   </td><td>amarillo</td><td>negro   </td><td>amarillo</td><td>amarillo</td><td>negro   </td><td>amarillo</td><td>amarillo</td><td>amarillo</td></tr>\n",
       "</tbody>\n",
       "</table>\n"
      ],
      "text/latex": [
       "\\begin{tabular}{llllllllllllllllllll}\n",
       "\t rojo     & rojo     & rojo     & rojo     & rojo     & rojo     & rojo     & rojo     & rojo     & rojo     & azul     & azul     & azul     & azul     & azul     & azul     & verde    & verde    & verde    & blanco  \\\\\n",
       "\t azul     & azul     & azul     & azul     & verde    & verde    & verde    & blanco   & blanco   & negro    & verde    & verde    & verde    & blanco   & blanco   & negro    & blanco   & blanco   & negro    & negro   \\\\\n",
       "\t verde    & blanco   & negro    & amarillo & blanco   & negro    & amarillo & negro    & amarillo & amarillo & blanco   & negro    & amarillo & negro    & amarillo & amarillo & negro    & amarillo & amarillo & amarillo\\\\\n",
       "\\end{tabular}\n"
      ],
      "text/markdown": [
       "\n",
       "| rojo     | rojo     | rojo     | rojo     | rojo     | rojo     | rojo     | rojo     | rojo     | rojo     | azul     | azul     | azul     | azul     | azul     | azul     | verde    | verde    | verde    | blanco   | \n",
       "| azul     | azul     | azul     | azul     | verde    | verde    | verde    | blanco   | blanco   | negro    | verde    | verde    | verde    | blanco   | blanco   | negro    | blanco   | blanco   | negro    | negro    | \n",
       "| verde    | blanco   | negro    | amarillo | blanco   | negro    | amarillo | negro    | amarillo | amarillo | blanco   | negro    | amarillo | negro    | amarillo | amarillo | negro    | amarillo | amarillo | amarillo | \n",
       "\n",
       "\n"
      ],
      "text/plain": [
       "     [,1]  [,2]   [,3]  [,4]     [,5]   [,6]  [,7]     [,8]   [,9]     [,10]   \n",
       "[1,] rojo  rojo   rojo  rojo     rojo   rojo  rojo     rojo   rojo     rojo    \n",
       "[2,] azul  azul   azul  azul     verde  verde verde    blanco blanco   negro   \n",
       "[3,] verde blanco negro amarillo blanco negro amarillo negro  amarillo amarillo\n",
       "     [,11]  [,12] [,13]    [,14]  [,15]    [,16]    [,17]  [,18]    [,19]   \n",
       "[1,] azul   azul  azul     azul   azul     azul     verde  verde    verde   \n",
       "[2,] verde  verde verde    blanco blanco   negro    blanco blanco   negro   \n",
       "[3,] blanco negro amarillo negro  amarillo amarillo negro  amarillo amarillo\n",
       "     [,20]   \n",
       "[1,] blanco  \n",
       "[2,] negro   \n",
       "[3,] amarillo"
      ]
     },
     "metadata": {},
     "output_type": "display_data"
    },
    {
     "data": {
      "text/html": [
       "20"
      ],
      "text/latex": [
       "20"
      ],
      "text/markdown": [
       "20"
      ],
      "text/plain": [
       "[1] 20"
      ]
     },
     "metadata": {},
     "output_type": "display_data"
    }
   ],
   "source": [
    "#Creamos un vector con los colores pedidos.\n",
    "d <- c(\"rojo\",\"azul\",\"verde\",\"blanco\",\"negro\",\"amarillo\")\n",
    "combn(d,3) #usamos esta funcion para visualizar las combinaciones posibles sin repetición\n",
    "choose(6,3) # Mostramos el numero de combinaciones "
   ]
  },
  {
   "cell_type": "markdown",
   "metadata": {},
   "source": [
    "* Pregunta 11:"
   ]
  },
  {
   "cell_type": "code",
   "execution_count": 28,
   "metadata": {},
   "outputs": [
    {
     "data": {
      "text/html": [
       "<table>\n",
       "<tbody>\n",
       "\t<tr><td>rojo    </td><td>azul    </td><td>verde   </td><td>blanco  </td><td>negro   </td><td>amarillo</td></tr>\n",
       "</tbody>\n",
       "</table>\n"
      ],
      "text/latex": [
       "\\begin{tabular}{llllll}\n",
       "\t rojo     & azul     & verde    & blanco   & negro    & amarillo\\\\\n",
       "\\end{tabular}\n"
      ],
      "text/markdown": [
       "\n",
       "| rojo     | azul     | verde    | blanco   | negro    | amarillo | \n",
       "\n",
       "\n"
      ],
      "text/plain": [
       "     [,1] [,2] [,3]  [,4]   [,5]  [,6]    \n",
       "[1,] rojo azul verde blanco negro amarillo"
      ]
     },
     "metadata": {},
     "output_type": "display_data"
    },
    {
     "data": {
      "text/html": [
       "<table>\n",
       "<tbody>\n",
       "\t<tr><td>rojo    </td><td>rojo    </td><td>rojo    </td><td>rojo    </td><td>rojo    </td><td>azul    </td><td>azul    </td><td>azul    </td><td>azul    </td><td>verde   </td><td>verde   </td><td>verde   </td><td>blanco  </td><td>blanco  </td><td>negro   </td></tr>\n",
       "\t<tr><td>azul    </td><td>verde   </td><td>blanco  </td><td>negro   </td><td>amarillo</td><td>verde   </td><td>blanco  </td><td>negro   </td><td>amarillo</td><td>blanco  </td><td>negro   </td><td>amarillo</td><td>negro   </td><td>amarillo</td><td>amarillo</td></tr>\n",
       "</tbody>\n",
       "</table>\n"
      ],
      "text/latex": [
       "\\begin{tabular}{lllllllllllllll}\n",
       "\t rojo     & rojo     & rojo     & rojo     & rojo     & azul     & azul     & azul     & azul     & verde    & verde    & verde    & blanco   & blanco   & negro   \\\\\n",
       "\t azul     & verde    & blanco   & negro    & amarillo & verde    & blanco   & negro    & amarillo & blanco   & negro    & amarillo & negro    & amarillo & amarillo\\\\\n",
       "\\end{tabular}\n"
      ],
      "text/markdown": [
       "\n",
       "| rojo     | rojo     | rojo     | rojo     | rojo     | azul     | azul     | azul     | azul     | verde    | verde    | verde    | blanco   | blanco   | negro    | \n",
       "| azul     | verde    | blanco   | negro    | amarillo | verde    | blanco   | negro    | amarillo | blanco   | negro    | amarillo | negro    | amarillo | amarillo | \n",
       "\n",
       "\n"
      ],
      "text/plain": [
       "     [,1] [,2]  [,3]   [,4]  [,5]     [,6]  [,7]   [,8]  [,9]     [,10]  [,11]\n",
       "[1,] rojo rojo  rojo   rojo  rojo     azul  azul   azul  azul     verde  verde\n",
       "[2,] azul verde blanco negro amarillo verde blanco negro amarillo blanco negro\n",
       "     [,12]    [,13]  [,14]    [,15]   \n",
       "[1,] verde    blanco blanco   negro   \n",
       "[2,] amarillo negro  amarillo amarillo"
      ]
     },
     "metadata": {},
     "output_type": "display_data"
    },
    {
     "data": {
      "text/html": [
       "<table>\n",
       "<tbody>\n",
       "\t<tr><td>rojo    </td><td>rojo    </td><td>rojo    </td><td>rojo    </td><td>rojo    </td><td>rojo    </td><td>rojo    </td><td>rojo    </td><td>rojo    </td><td>rojo    </td><td>azul    </td><td>azul    </td><td>azul    </td><td>azul    </td><td>azul    </td><td>azul    </td><td>verde   </td><td>verde   </td><td>verde   </td><td>blanco  </td></tr>\n",
       "\t<tr><td>azul    </td><td>azul    </td><td>azul    </td><td>azul    </td><td>verde   </td><td>verde   </td><td>verde   </td><td>blanco  </td><td>blanco  </td><td>negro   </td><td>verde   </td><td>verde   </td><td>verde   </td><td>blanco  </td><td>blanco  </td><td>negro   </td><td>blanco  </td><td>blanco  </td><td>negro   </td><td>negro   </td></tr>\n",
       "\t<tr><td>verde   </td><td>blanco  </td><td>negro   </td><td>amarillo</td><td>blanco  </td><td>negro   </td><td>amarillo</td><td>negro   </td><td>amarillo</td><td>amarillo</td><td>blanco  </td><td>negro   </td><td>amarillo</td><td>negro   </td><td>amarillo</td><td>amarillo</td><td>negro   </td><td>amarillo</td><td>amarillo</td><td>amarillo</td></tr>\n",
       "</tbody>\n",
       "</table>\n"
      ],
      "text/latex": [
       "\\begin{tabular}{llllllllllllllllllll}\n",
       "\t rojo     & rojo     & rojo     & rojo     & rojo     & rojo     & rojo     & rojo     & rojo     & rojo     & azul     & azul     & azul     & azul     & azul     & azul     & verde    & verde    & verde    & blanco  \\\\\n",
       "\t azul     & azul     & azul     & azul     & verde    & verde    & verde    & blanco   & blanco   & negro    & verde    & verde    & verde    & blanco   & blanco   & negro    & blanco   & blanco   & negro    & negro   \\\\\n",
       "\t verde    & blanco   & negro    & amarillo & blanco   & negro    & amarillo & negro    & amarillo & amarillo & blanco   & negro    & amarillo & negro    & amarillo & amarillo & negro    & amarillo & amarillo & amarillo\\\\\n",
       "\\end{tabular}\n"
      ],
      "text/markdown": [
       "\n",
       "| rojo     | rojo     | rojo     | rojo     | rojo     | rojo     | rojo     | rojo     | rojo     | rojo     | azul     | azul     | azul     | azul     | azul     | azul     | verde    | verde    | verde    | blanco   | \n",
       "| azul     | azul     | azul     | azul     | verde    | verde    | verde    | blanco   | blanco   | negro    | verde    | verde    | verde    | blanco   | blanco   | negro    | blanco   | blanco   | negro    | negro    | \n",
       "| verde    | blanco   | negro    | amarillo | blanco   | negro    | amarillo | negro    | amarillo | amarillo | blanco   | negro    | amarillo | negro    | amarillo | amarillo | negro    | amarillo | amarillo | amarillo | \n",
       "\n",
       "\n"
      ],
      "text/plain": [
       "     [,1]  [,2]   [,3]  [,4]     [,5]   [,6]  [,7]     [,8]   [,9]     [,10]   \n",
       "[1,] rojo  rojo   rojo  rojo     rojo   rojo  rojo     rojo   rojo     rojo    \n",
       "[2,] azul  azul   azul  azul     verde  verde verde    blanco blanco   negro   \n",
       "[3,] verde blanco negro amarillo blanco negro amarillo negro  amarillo amarillo\n",
       "     [,11]  [,12] [,13]    [,14]  [,15]    [,16]    [,17]  [,18]    [,19]   \n",
       "[1,] azul   azul  azul     azul   azul     azul     verde  verde    verde   \n",
       "[2,] verde  verde verde    blanco blanco   negro    blanco blanco   negro   \n",
       "[3,] blanco negro amarillo negro  amarillo amarillo negro  amarillo amarillo\n",
       "     [,20]   \n",
       "[1,] blanco  \n",
       "[2,] negro   \n",
       "[3,] amarillo"
      ]
     },
     "metadata": {},
     "output_type": "display_data"
    }
   ],
   "source": [
    "# Tenemos el mismo conjunto de colores \n",
    "d <- c(\"rojo\",\"azul\",\"verde\",\"blanco\",\"negro\",\"amarillo\")\n",
    "combn(d,1) #Eligiendo un color\n",
    "combn(d,2) #Eligiendo dos colores\n",
    "combn(d,3) #Eligiendo tres colores \n"
   ]
  },
  {
   "cell_type": "markdown",
   "metadata": {},
   "source": [
    "* Pregunta 12:"
   ]
  },
  {
   "cell_type": "code",
   "execution_count": 32,
   "metadata": {},
   "outputs": [
    {
     "data": {
      "text/html": [
       "<ol class=list-inline>\n",
       "\t<li>0.00770734662925893</li>\n",
       "\t<li>0.0462440797755536</li>\n",
       "\t<li>0.127171219382772</li>\n",
       "\t<li>0.211952032304621</li>\n",
       "\t<li>0.238446036342698</li>\n",
       "\t<li>0.190756829074159</li>\n",
       "\t<li>0.111274816959926</li>\n",
       "\t<li>0.0476892072685397</li>\n",
       "\t<li>0.0149028772714186</li>\n",
       "\t<li>0.0033117505047597</li>\n",
       "\t<li>0.000496762575713955</li>\n",
       "\t<li>4.51602341558141e-05</li>\n",
       "\t<li>1.88167642315892e-06</li>\n",
       "</ol>\n"
      ],
      "text/latex": [
       "\\begin{enumerate*}\n",
       "\\item 0.00770734662925893\n",
       "\\item 0.0462440797755536\n",
       "\\item 0.127171219382772\n",
       "\\item 0.211952032304621\n",
       "\\item 0.238446036342698\n",
       "\\item 0.190756829074159\n",
       "\\item 0.111274816959926\n",
       "\\item 0.0476892072685397\n",
       "\\item 0.0149028772714186\n",
       "\\item 0.0033117505047597\n",
       "\\item 0.000496762575713955\n",
       "\\item 4.51602341558141e-05\n",
       "\\item 1.88167642315892e-06\n",
       "\\end{enumerate*}\n"
      ],
      "text/markdown": [
       "1. 0.00770734662925893\n",
       "2. 0.0462440797755536\n",
       "3. 0.127171219382772\n",
       "4. 0.211952032304621\n",
       "5. 0.238446036342698\n",
       "6. 0.190756829074159\n",
       "7. 0.111274816959926\n",
       "8. 0.0476892072685397\n",
       "9. 0.0149028772714186\n",
       "10. 0.0033117505047597\n",
       "11. 0.000496762575713955\n",
       "12. 4.51602341558141e-05\n",
       "13. 1.88167642315892e-06\n",
       "\n",
       "\n"
      ],
      "text/plain": [
       " [1] 7.707347e-03 4.624408e-02 1.271712e-01 2.119520e-01 2.384460e-01\n",
       " [6] 1.907568e-01 1.112748e-01 4.768921e-02 1.490288e-02 3.311751e-03\n",
       "[11] 4.967626e-04 4.516023e-05 1.881676e-06"
      ]
     },
     "metadata": {},
     "output_type": "display_data"
    },
    {
     "data": {
      "text/html": [
       "<ol class=list-inline>\n",
       "\t<li>0.00770734662925895</li>\n",
       "\t<li>0.0462440797755536</li>\n",
       "\t<li>0.127171219382773</li>\n",
       "\t<li>0.211952032304621</li>\n",
       "\t<li>0.238446036342698</li>\n",
       "\t<li>0.190756829074159</li>\n",
       "\t<li>0.111274816959926</li>\n",
       "\t<li>0.0476892072685397</li>\n",
       "\t<li>0.0149028772714186</li>\n",
       "\t<li>0.0033117505047597</li>\n",
       "\t<li>0.000496762575713955</li>\n",
       "\t<li>4.51602341558142e-05</li>\n",
       "\t<li>1.88167642315892e-06</li>\n",
       "</ol>\n"
      ],
      "text/latex": [
       "\\begin{enumerate*}\n",
       "\\item 0.00770734662925895\n",
       "\\item 0.0462440797755536\n",
       "\\item 0.127171219382773\n",
       "\\item 0.211952032304621\n",
       "\\item 0.238446036342698\n",
       "\\item 0.190756829074159\n",
       "\\item 0.111274816959926\n",
       "\\item 0.0476892072685397\n",
       "\\item 0.0149028772714186\n",
       "\\item 0.0033117505047597\n",
       "\\item 0.000496762575713955\n",
       "\\item 4.51602341558142e-05\n",
       "\\item 1.88167642315892e-06\n",
       "\\end{enumerate*}\n"
      ],
      "text/markdown": [
       "1. 0.00770734662925895\n",
       "2. 0.0462440797755536\n",
       "3. 0.127171219382773\n",
       "4. 0.211952032304621\n",
       "5. 0.238446036342698\n",
       "6. 0.190756829074159\n",
       "7. 0.111274816959926\n",
       "8. 0.0476892072685397\n",
       "9. 0.0149028772714186\n",
       "10. 0.0033117505047597\n",
       "11. 0.000496762575713955\n",
       "12. 4.51602341558142e-05\n",
       "13. 1.88167642315892e-06\n",
       "\n",
       "\n"
      ],
      "text/plain": [
       " [1] 7.707347e-03 4.624408e-02 1.271712e-01 2.119520e-01 2.384460e-01\n",
       " [6] 1.907568e-01 1.112748e-01 4.768921e-02 1.490288e-02 3.311751e-03\n",
       "[11] 4.967626e-04 4.516023e-05 1.881676e-06"
      ]
     },
     "metadata": {},
     "output_type": "display_data"
    }
   ],
   "source": [
    "# Parte a) \n",
    " #Primera forma \n",
    " x<- c(0:12) #Valores que toma x\n",
    "  #funcion que evalua cada valor de x mostrando su distribución binomial\n",
    "  bin <- function(x){\n",
    "    co <- choose(12,x) #coeficiente binomial\n",
    "    p <- (1/3)^x\n",
    "    q <- (2/3)^(12-x)\n",
    "    resul <- co*p*q\n",
    "    resul\n",
    "  }\n",
    " \n",
    "  bin(x)\n",
    "\n",
    "  #Segunda forma \n",
    "   #Utilizando la funcion dbinom\n",
    "  p <-dbinom(x, 12, 1/3)\n",
    "  p"
   ]
  },
  {
   "cell_type": "code",
   "execution_count": 33,
   "metadata": {},
   "outputs": [
    {
     "data": {
      "text/html": [
       "<ol class=list-inline>\n",
       "\t<li>0.00770734662925893</li>\n",
       "\t<li>0.0539514264048125</li>\n",
       "\t<li>0.181122645787585</li>\n",
       "\t<li>0.393074678092206</li>\n",
       "\t<li>0.631520714434904</li>\n",
       "\t<li>0.822277543509063</li>\n",
       "\t<li>0.933552360468988</li>\n",
       "\t<li>0.981241567737528</li>\n",
       "\t<li>0.996144445008947</li>\n",
       "\t<li>0.999456195513706</li>\n",
       "\t<li>0.99995295808942</li>\n",
       "\t<li>0.999998118323576</li>\n",
       "\t<li>0.999999999999999</li>\n",
       "</ol>\n"
      ],
      "text/latex": [
       "\\begin{enumerate*}\n",
       "\\item 0.00770734662925893\n",
       "\\item 0.0539514264048125\n",
       "\\item 0.181122645787585\n",
       "\\item 0.393074678092206\n",
       "\\item 0.631520714434904\n",
       "\\item 0.822277543509063\n",
       "\\item 0.933552360468988\n",
       "\\item 0.981241567737528\n",
       "\\item 0.996144445008947\n",
       "\\item 0.999456195513706\n",
       "\\item 0.99995295808942\n",
       "\\item 0.999998118323576\n",
       "\\item 0.999999999999999\n",
       "\\end{enumerate*}\n"
      ],
      "text/markdown": [
       "1. 0.00770734662925893\n",
       "2. 0.0539514264048125\n",
       "3. 0.181122645787585\n",
       "4. 0.393074678092206\n",
       "5. 0.631520714434904\n",
       "6. 0.822277543509063\n",
       "7. 0.933552360468988\n",
       "8. 0.981241567737528\n",
       "9. 0.996144445008947\n",
       "10. 0.999456195513706\n",
       "11. 0.99995295808942\n",
       "12. 0.999998118323576\n",
       "13. 0.999999999999999\n",
       "\n",
       "\n"
      ],
      "text/plain": [
       " [1] 0.007707347 0.053951426 0.181122646 0.393074678 0.631520714 0.822277544\n",
       " [7] 0.933552360 0.981241568 0.996144445 0.999456196 0.999952958 0.999998118\n",
       "[13] 1.000000000"
      ]
     },
     "metadata": {},
     "output_type": "display_data"
    },
    {
     "data": {
      "text/html": [
       "<ol class=list-inline>\n",
       "\t<li>0.00770734662925895</li>\n",
       "\t<li>0.0539514264048127</li>\n",
       "\t<li>0.181122645787585</li>\n",
       "\t<li>0.393074678092207</li>\n",
       "\t<li>0.631520714434904</li>\n",
       "\t<li>0.822277543509063</li>\n",
       "\t<li>0.933552360468989</li>\n",
       "\t<li>0.981241567737529</li>\n",
       "\t<li>0.996144445008947</li>\n",
       "\t<li>0.999456195513707</li>\n",
       "\t<li>0.999952958089421</li>\n",
       "\t<li>0.999998118323577</li>\n",
       "\t<li>1</li>\n",
       "</ol>\n"
      ],
      "text/latex": [
       "\\begin{enumerate*}\n",
       "\\item 0.00770734662925895\n",
       "\\item 0.0539514264048127\n",
       "\\item 0.181122645787585\n",
       "\\item 0.393074678092207\n",
       "\\item 0.631520714434904\n",
       "\\item 0.822277543509063\n",
       "\\item 0.933552360468989\n",
       "\\item 0.981241567737529\n",
       "\\item 0.996144445008947\n",
       "\\item 0.999456195513707\n",
       "\\item 0.999952958089421\n",
       "\\item 0.999998118323577\n",
       "\\item 1\n",
       "\\end{enumerate*}\n"
      ],
      "text/markdown": [
       "1. 0.00770734662925895\n",
       "2. 0.0539514264048127\n",
       "3. 0.181122645787585\n",
       "4. 0.393074678092207\n",
       "5. 0.631520714434904\n",
       "6. 0.822277543509063\n",
       "7. 0.933552360468989\n",
       "8. 0.981241567737529\n",
       "9. 0.996144445008947\n",
       "10. 0.999456195513707\n",
       "11. 0.999952958089421\n",
       "12. 0.999998118323577\n",
       "13. 1\n",
       "\n",
       "\n"
      ],
      "text/plain": [
       " [1] 0.007707347 0.053951426 0.181122646 0.393074678 0.631520714 0.822277544\n",
       " [7] 0.933552360 0.981241568 0.996144445 0.999456196 0.999952958 0.999998118\n",
       "[13] 1.000000000"
      ]
     },
     "metadata": {},
     "output_type": "display_data"
    }
   ],
   "source": [
    "# Parte b)  Calculando el CDF de X\n",
    " # Primera forma\n",
    "  cdf <-cumsum(bin(x))\n",
    "  cdf\n",
    " \n",
    " #Segunda forma \n",
    "  pbinom(x,12,1/3)"
   ]
  },
  {
   "cell_type": "markdown",
   "metadata": {},
   "source": [
    "* Pregunta 13:"
   ]
  },
  {
   "cell_type": "markdown",
   "metadata": {},
   "source": [
    "* Pregunta 14:"
   ]
  },
  {
   "cell_type": "markdown",
   "metadata": {},
   "source": [
    "* Pregunta 15:"
   ]
  },
  {
   "cell_type": "code",
   "execution_count": 44,
   "metadata": {},
   "outputs": [],
   "source": [
    "# Se usa set.seed() para que sea nuestra semilla, es decir, que cada vez que se ejecute saldrá el mismo resultado \n",
    "set.seed(50)\n",
    " xVec <- sample(0:999,250, replace = T)\n",
    " yVec <- sample(0:999,250, replace = T)"
   ]
  }
 ],
 "metadata": {
  "anaconda-cloud": {},
  "kernelspec": {
   "display_name": "R",
   "language": "R",
   "name": "ir"
  },
  "language_info": {
   "codemirror_mode": "r",
   "file_extension": ".r",
   "mimetype": "text/x-r-source",
   "name": "R",
   "pygments_lexer": "r",
   "version": "3.4.1"
  }
 },
 "nbformat": 4,
 "nbformat_minor": 1
}
