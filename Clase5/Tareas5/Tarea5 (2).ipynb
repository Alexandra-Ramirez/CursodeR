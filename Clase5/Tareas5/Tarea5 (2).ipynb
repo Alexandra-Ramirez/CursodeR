{
 "cells": [
  {
   "cell_type": "markdown",
   "metadata": {},
   "source": [
    "# Solución de ejercicios - Tarea 5"
   ]
  },
  {
   "cell_type": "markdown",
   "metadata": {},
   "source": [
    "1) Definimos:\n",
    "\n",
    "```R\n",
    " > x <- c(5,2,1,4) ; y <- rep(1,5)\n",
    "```"
   ]
  },
  {
   "cell_type": "markdown",
   "metadata": {},
   "source": [
    "   Predice las soluciones antes de escribir los comandos"
   ]
  },
  {
   "cell_type": "markdown",
   "metadata": {},
   "source": [
    "(a) \n",
    " ```R \n",
    "  > sum(x) = 12\n",
    "  > range(x) = 1 5 \n",
    "  > sum(y) = 5\n",
    "  > length(y) = 5\n",
    " ```\n",
    "(b) \n",
    " ```R\n",
    "  > c(x,y,13) = 5 2 1 4 1 1 1 1 1 13  #concatena los vectores\n",
    " ```\n",
    "(c)\n",
    "```R\n",
    "  > x[4] * y[2] = (4)*1 = 4\n",
    "  > x[2:4] + x[1:3] = 2 1 4 + 5 2 1 = 7 3 5 \n",
    "```\n",
    "(d)\n",
    " ```R\n",
    "  > x <= 2 # nos devuelve un valor logico, True o False, dependiendo de que valores cumplen\n",
    "           # con la condicion \n",
    "           # FALSE TRUE TRUE FALSE \n",
    "  > x[x<=2] #Devolverá los valores que cumplen la condicion -->  2 1 \n",
    "  > x[(x != 5) & (x>3)]  = 4 \n",
    " ```\n",
    "(e)\n",
    " ```R\n",
    "  > rep(1:4,2) = 1 2 3 4 1 2 3 4 \n",
    "  > rep(1:4, each = 2) = 1 1 2 2 3 3 4 4\n",
    "  >rep(1:4,c(2,1,2,1)) = 1 1 2 3 3 4\n",
    "  > rep(1:4, each = 2, len = 10) = 1 1 2 2 3 3 4 4 1 1 # realiza el reciclado\n",
    " ```\n",
    "(f)\n",
    " ```R\n",
    "  > 2:3^2 = 2 3 4 5 6 7 8 9\n",
    "  > seq(from = 2, to = -3) * c(-1,1) = 2 1 0 -1 -2 -3\n",
    " ```"
   ]
  },
  {
   "cell_type": "markdown",
   "metadata": {},
   "source": [
    "2)  \n",
    "   * Describe diferencias entre las estructuras fundamentales de **R**: `vectores`, `matrices`, `arrays` y `listas`. Usa ejemplos para demostrar esas diferencias."
   ]
  },
  {
   "cell_type": "markdown",
   "metadata": {},
   "source": [
    "a) Vectores:   \n",
    "   1. Son de una dimensión.\n",
    "   2. Sus valores son homogéneos, de tipo lógico,numérico o carácter."
   ]
  },
  {
   "cell_type": "code",
   "execution_count": 3,
   "metadata": {},
   "outputs": [
    {
     "data": {
      "text/html": [
       "<ol class=list-inline>\n",
       "\t<li>1</li>\n",
       "\t<li>4</li>\n",
       "\t<li>5</li>\n",
       "\t<li>2</li>\n",
       "\t<li>3</li>\n",
       "\t<li>2</li>\n",
       "</ol>\n"
      ],
      "text/latex": [
       "\\begin{enumerate*}\n",
       "\\item 1\n",
       "\\item 4\n",
       "\\item 5\n",
       "\\item 2\n",
       "\\item 3\n",
       "\\item 2\n",
       "\\end{enumerate*}\n"
      ],
      "text/markdown": [
       "1. 1\n",
       "2. 4\n",
       "3. 5\n",
       "4. 2\n",
       "5. 3\n",
       "6. 2\n",
       "\n",
       "\n"
      ],
      "text/plain": [
       "[1] 1 4 5 2 3 2"
      ]
     },
     "metadata": {},
     "output_type": "display_data"
    }
   ],
   "source": [
    " # Ejemplo : \n",
    "          x <- c(1,4,5)\n",
    "          y <- c(2,3,2)\n",
    "          c(x,y)"
   ]
  },
  {
   "cell_type": "markdown",
   "metadata": {},
   "source": [
    "   b) Matrices:  \n",
    "   1. Son bidimensionales.  \n",
    "   2. Sus valores se ordenan por filas y columnas."
   ]
  },
  {
   "cell_type": "code",
   "execution_count": 3,
   "metadata": {},
   "outputs": [
    {
     "data": {
      "text/html": [
       "<table>\n",
       "<tbody>\n",
       "\t<tr><td>1</td><td>5</td><td>3</td></tr>\n",
       "\t<tr><td>4</td><td>2</td><td>2</td></tr>\n",
       "</tbody>\n",
       "</table>\n"
      ],
      "text/latex": [
       "\\begin{tabular}{lll}\n",
       "\t 1 & 5 & 3\\\\\n",
       "\t 4 & 2 & 2\\\\\n",
       "\\end{tabular}\n"
      ],
      "text/markdown": [
       "\n",
       "| 1 | 5 | 3 | \n",
       "| 4 | 2 | 2 | \n",
       "\n",
       "\n"
      ],
      "text/plain": [
       "     [,1] [,2] [,3]\n",
       "[1,] 1    5    3   \n",
       "[2,] 4    2    2   "
      ]
     },
     "metadata": {},
     "output_type": "display_data"
    }
   ],
   "source": [
    "#Ejemplo\n",
    "\n",
    "     z <- matrix(c(x,y), nrow = 2, ncol = 3)\n",
    "     z"
   ]
  },
  {
   "cell_type": "markdown",
   "metadata": {},
   "source": [
    "c) Arrays:\n",
    " 1. Son de varias dimensiones"
   ]
  },
  {
   "cell_type": "code",
   "execution_count": 4,
   "metadata": {
    "scrolled": true
   },
   "outputs": [
    {
     "data": {
      "text/html": [
       "<ol class=list-inline>\n",
       "\t<li>1</li>\n",
       "\t<li>4</li>\n",
       "\t<li>5</li>\n",
       "\t<li>2</li>\n",
       "\t<li>3</li>\n",
       "\t<li>2</li>\n",
       "\t<li>1</li>\n",
       "\t<li>4</li>\n",
       "</ol>\n"
      ],
      "text/latex": [
       "\\begin{enumerate*}\n",
       "\\item 1\n",
       "\\item 4\n",
       "\\item 5\n",
       "\\item 2\n",
       "\\item 3\n",
       "\\item 2\n",
       "\\item 1\n",
       "\\item 4\n",
       "\\end{enumerate*}\n"
      ],
      "text/markdown": [
       "1. 1\n",
       "2. 4\n",
       "3. 5\n",
       "4. 2\n",
       "5. 3\n",
       "6. 2\n",
       "7. 1\n",
       "8. 4\n",
       "\n",
       "\n"
      ],
      "text/plain": [
       ", , 1\n",
       "\n",
       "     [,1] [,2]\n",
       "[1,]    1    5\n",
       "[2,]    4    2\n",
       "\n",
       ", , 2\n",
       "\n",
       "     [,1] [,2]\n",
       "[1,]    3    1\n",
       "[2,]    2    4\n"
      ]
     },
     "metadata": {},
     "output_type": "display_data"
    }
   ],
   "source": [
    "# Ejemplo:\n",
    "\n",
    "   array(c(x,y), c(2,2,2))\n",
    "       "
   ]
  },
  {
   "cell_type": "markdown",
   "metadata": {},
   "source": [
    "d) Listas:\n",
    "  1. Es una estructura donde podemos unir varios tipos de estructuras\n",
    "  2. Tiene elementos de diferentes tipos. "
   ]
  },
  {
   "cell_type": "code",
   "execution_count": 69,
   "metadata": {},
   "outputs": [
    {
     "data": {
      "text/html": [
       "<dl>\n",
       "\t<dt>$padre</dt>\n",
       "\t\t<dd>'Javier'</dd>\n",
       "\t<dt>$madre</dt>\n",
       "\t\t<dd>'Maria'</dd>\n",
       "\t<dt>$numero.hijos</dt>\n",
       "\t\t<dd>3</dd>\n",
       "\t<dt>$nombre.hijos</dt>\n",
       "\t\t<dd><ol class=list-inline>\n",
       "\t<li>'Mathias'</li>\n",
       "\t<li>'Carla'</li>\n",
       "\t<li>'Lorena'</li>\n",
       "</ol>\n",
       "</dd>\n",
       "\t<dt>$edades.hijos</dt>\n",
       "\t\t<dd><ol class=list-inline>\n",
       "\t<li>6</li>\n",
       "\t<li>12</li>\n",
       "\t<li>21</li>\n",
       "</ol>\n",
       "</dd>\n",
       "\t<dt>$ciudad</dt>\n",
       "\t\t<dd>'Madrid'</dd>\n",
       "</dl>\n"
      ],
      "text/latex": [
       "\\begin{description}\n",
       "\\item[\\$padre] 'Javier'\n",
       "\\item[\\$madre] 'Maria'\n",
       "\\item[\\$numero.hijos] 3\n",
       "\\item[\\$nombre.hijos] \\begin{enumerate*}\n",
       "\\item 'Mathias'\n",
       "\\item 'Carla'\n",
       "\\item 'Lorena'\n",
       "\\end{enumerate*}\n",
       "\n",
       "\\item[\\$edades.hijos] \\begin{enumerate*}\n",
       "\\item 6\n",
       "\\item 12\n",
       "\\item 21\n",
       "\\end{enumerate*}\n",
       "\n",
       "\\item[\\$ciudad] 'Madrid'\n",
       "\\end{description}\n"
      ],
      "text/markdown": [
       "$padre\n",
       ":   'Javier'\n",
       "$madre\n",
       ":   'Maria'\n",
       "$numero.hijos\n",
       ":   3\n",
       "$nombre.hijos\n",
       ":   1. 'Mathias'\n",
       "2. 'Carla'\n",
       "3. 'Lorena'\n",
       "\n",
       "\n",
       "\n",
       "$edades.hijos\n",
       ":   1. 6\n",
       "2. 12\n",
       "3. 21\n",
       "\n",
       "\n",
       "\n",
       "$ciudad\n",
       ":   'Madrid'\n",
       "\n",
       "\n"
      ],
      "text/plain": [
       "$padre\n",
       "[1] \"Javier\"\n",
       "\n",
       "$madre\n",
       "[1] \"Maria\"\n",
       "\n",
       "$numero.hijos\n",
       "[1] 3\n",
       "\n",
       "$nombre.hijos\n",
       "[1] \"Mathias\" \"Carla\"   \"Lorena\" \n",
       "\n",
       "$edades.hijos\n",
       "[1]  6 12 21\n",
       "\n",
       "$ciudad\n",
       "[1] \"Madrid\"\n"
      ]
     },
     "metadata": {},
     "output_type": "display_data"
    }
   ],
   "source": [
    "# Ejemplo:Como se puede observar son diferentes tipos de datos, caracter y numérico, en este caso. \n",
    "       \n",
    "   familia <- list(padre = \"Javier\", madre = \"Maria\", numero.hijos = 3, nombre.hijos = c(\"Mathias\",\"Carla\",\"Lorena\"),edades.hijos = c(6,12,21),ciudad = \"Madrid\") \n",
    "   familia \n",
    "        "
   ]
  },
  {
   "cell_type": "markdown",
   "metadata": {},
   "source": [
    "* Explicar las diferencias entre las funciones `rbind()`, `cbind()` y `merge()` para combinar dos estructuras de dos dimensiones en **R**. Usa ejemplos para demostrar esas diferencias."
   ]
  },
  {
   "cell_type": "markdown",
   "metadata": {},
   "source": [
    "a) `rbind()`: Combina dos matrices pero los ordena de acuerdo a las filas."
   ]
  },
  {
   "cell_type": "code",
   "execution_count": 7,
   "metadata": {},
   "outputs": [
    {
     "data": {
      "text/html": [
       "<table>\n",
       "<tbody>\n",
       "\t<tr><td>1</td><td>3</td><td>5</td></tr>\n",
       "\t<tr><td>2</td><td>4</td><td>6</td></tr>\n",
       "\t<tr><td>4</td><td>6</td><td>8</td></tr>\n",
       "\t<tr><td>5</td><td>7</td><td>9</td></tr>\n",
       "</tbody>\n",
       "</table>\n"
      ],
      "text/latex": [
       "\\begin{tabular}{lll}\n",
       "\t 1 & 3 & 5\\\\\n",
       "\t 2 & 4 & 6\\\\\n",
       "\t 4 & 6 & 8\\\\\n",
       "\t 5 & 7 & 9\\\\\n",
       "\\end{tabular}\n"
      ],
      "text/markdown": [
       "\n",
       "| 1 | 3 | 5 | \n",
       "| 2 | 4 | 6 | \n",
       "| 4 | 6 | 8 | \n",
       "| 5 | 7 | 9 | \n",
       "\n",
       "\n"
      ],
      "text/plain": [
       "     [,1] [,2] [,3]\n",
       "[1,] 1    3    5   \n",
       "[2,] 2    4    6   \n",
       "[3,] 4    6    8   \n",
       "[4,] 5    7    9   "
      ]
     },
     "metadata": {},
     "output_type": "display_data"
    }
   ],
   "source": [
    "# Ejemplo: \n",
    "   x <- matrix( 1:6, nrow = 2 )\n",
    "   y <- matrix( 4:9, nrow = 2)\n",
    "   rbind(x,y)"
   ]
  },
  {
   "cell_type": "markdown",
   "metadata": {},
   "source": [
    "b) `cbind()`: Combina dos matrices pero ordenandolos de acuerdo a las columnas."
   ]
  },
  {
   "cell_type": "code",
   "execution_count": 9,
   "metadata": {},
   "outputs": [
    {
     "data": {
      "text/html": [
       "<table>\n",
       "<tbody>\n",
       "\t<tr><td>1</td><td>3</td><td>5</td><td>4</td><td>6</td><td>8</td></tr>\n",
       "\t<tr><td>2</td><td>4</td><td>6</td><td>5</td><td>7</td><td>9</td></tr>\n",
       "</tbody>\n",
       "</table>\n"
      ],
      "text/latex": [
       "\\begin{tabular}{llllll}\n",
       "\t 1 & 3 & 5 & 4 & 6 & 8\\\\\n",
       "\t 2 & 4 & 6 & 5 & 7 & 9\\\\\n",
       "\\end{tabular}\n"
      ],
      "text/markdown": [
       "\n",
       "| 1 | 3 | 5 | 4 | 6 | 8 | \n",
       "| 2 | 4 | 6 | 5 | 7 | 9 | \n",
       "\n",
       "\n"
      ],
      "text/plain": [
       "     [,1] [,2] [,3] [,4] [,5] [,6]\n",
       "[1,] 1    3    5    4    6    8   \n",
       "[2,] 2    4    6    5    7    9   "
      ]
     },
     "metadata": {},
     "output_type": "display_data"
    }
   ],
   "source": [
    "# Ejemplo: Usamos las mismas matrices, así tenemos: \n",
    "  cbind(x,y)       "
   ]
  },
  {
   "cell_type": "markdown",
   "metadata": {},
   "source": [
    " Observamos que se añadió toda la matriz \"y\" como parte de las columnas de \"x\". "
   ]
  },
  {
   "cell_type": "markdown",
   "metadata": {},
   "source": [
    "c) `merge()`: Combina dos dataframe, pero sin necesidad de que las filas no esten en el orden correcto para poder ser usadas. Si tienen algo en común, simplemente los hace coincidir. "
   ]
  },
  {
   "cell_type": "code",
   "execution_count": 10,
   "metadata": {},
   "outputs": [
    {
     "data": {
      "text/html": [
       "<table>\n",
       "<thead><tr><th scope=col>id</th><th scope=col>edad</th><th scope=col>genero</th></tr></thead>\n",
       "<tbody>\n",
       "\t<tr><td>A </td><td>23</td><td>M </td></tr>\n",
       "\t<tr><td>B </td><td>24</td><td>F </td></tr>\n",
       "\t<tr><td>C </td><td>26</td><td>M </td></tr>\n",
       "\t<tr><td>D </td><td>27</td><td>F </td></tr>\n",
       "</tbody>\n",
       "</table>\n"
      ],
      "text/latex": [
       "\\begin{tabular}{r|lll}\n",
       " id & edad & genero\\\\\n",
       "\\hline\n",
       "\t A  & 23 & M \\\\\n",
       "\t B  & 24 & F \\\\\n",
       "\t C  & 26 & M \\\\\n",
       "\t D  & 27 & F \\\\\n",
       "\\end{tabular}\n"
      ],
      "text/markdown": [
       "\n",
       "id | edad | genero | \n",
       "|---|---|---|---|\n",
       "| A  | 23 | M  | \n",
       "| B  | 24 | F  | \n",
       "| C  | 26 | M  | \n",
       "| D  | 27 | F  | \n",
       "\n",
       "\n"
      ],
      "text/plain": [
       "  id edad genero\n",
       "1 A  23   M     \n",
       "2 B  24   F     \n",
       "3 C  26   M     \n",
       "4 D  27   F     "
      ]
     },
     "metadata": {},
     "output_type": "display_data"
    }
   ],
   "source": [
    "# Ejemplo: \n",
    "   A <- data.frame(id = c(\"A\",\"B\",\"C\",\"D\"), edad = c(23,24,26,27)) \n",
    "   B <- data.frame(genero= c(\"M\",\"F\",\"M\",\"F\"),id = c(\"A\",\"B\",\"C\",\"D\"))\n",
    "   merge(A,B)"
   ]
  },
  {
   "cell_type": "markdown",
   "metadata": {},
   "source": [
    "Se observa que como ambos tienen id, no se repite dos veces la columna (id) solo los hace coincidir. "
   ]
  },
  {
   "cell_type": "markdown",
   "metadata": {},
   "source": [
    "3) "
   ]
  },
  {
   "cell_type": "markdown",
   "metadata": {},
   "source": [
    "a) Construye y almacena una matriz 4x2 que se completa por filas con los valores 4.3,3.1,8.2,3.2,0.9,1.6 y 6.5, en ese orden."
   ]
  },
  {
   "cell_type": "code",
   "execution_count": 10,
   "metadata": {},
   "outputs": [
    {
     "data": {
      "text/html": [
       "<table>\n",
       "<tbody>\n",
       "\t<tr><td>4.3</td><td>3.1</td></tr>\n",
       "\t<tr><td>8.2</td><td>8.2</td></tr>\n",
       "\t<tr><td>3.2</td><td>0.9</td></tr>\n",
       "\t<tr><td>1.6</td><td>6.5</td></tr>\n",
       "</tbody>\n",
       "</table>\n"
      ],
      "text/latex": [
       "\\begin{tabular}{ll}\n",
       "\t 4.3 & 3.1\\\\\n",
       "\t 8.2 & 8.2\\\\\n",
       "\t 3.2 & 0.9\\\\\n",
       "\t 1.6 & 6.5\\\\\n",
       "\\end{tabular}\n"
      ],
      "text/markdown": [
       "\n",
       "| 4.3 | 3.1 | \n",
       "| 8.2 | 8.2 | \n",
       "| 3.2 | 0.9 | \n",
       "| 1.6 | 6.5 | \n",
       "\n",
       "\n"
      ],
      "text/plain": [
       "     [,1] [,2]\n",
       "[1,] 4.3  3.1 \n",
       "[2,] 8.2  8.2 \n",
       "[3,] 3.2  0.9 \n",
       "[4,] 1.6  6.5 "
      ]
     },
     "metadata": {},
     "output_type": "display_data"
    }
   ],
   "source": [
    "   p<- c(4.3,3.1,8.2,8.2,3.2,0.9,1.6,6.5)\n",
    "   n <- matrix(p,nrow= 4, ncol= 2, byrow = T )\n",
    "   n"
   ]
  },
  {
   "cell_type": "markdown",
   "metadata": {},
   "source": [
    "b) Confirma que las dimensiones de la matriz de (a) son 3 × 2 si se elimina una fila."
   ]
  },
  {
   "cell_type": "code",
   "execution_count": 9,
   "metadata": {},
   "outputs": [
    {
     "data": {
      "text/html": [
       "<table>\n",
       "<tbody>\n",
       "\t<tr><td>4.3</td><td>3.1</td></tr>\n",
       "\t<tr><td>8.2</td><td>8.2</td></tr>\n",
       "\t<tr><td>3.2</td><td>0.9</td></tr>\n",
       "</tbody>\n",
       "</table>\n"
      ],
      "text/latex": [
       "\\begin{tabular}{ll}\n",
       "\t 4.3 & 3.1\\\\\n",
       "\t 8.2 & 8.2\\\\\n",
       "\t 3.2 & 0.9\\\\\n",
       "\\end{tabular}\n"
      ],
      "text/markdown": [
       "\n",
       "| 4.3 | 3.1 | \n",
       "| 8.2 | 8.2 | \n",
       "| 3.2 | 0.9 | \n",
       "\n",
       "\n"
      ],
      "text/plain": [
       "     [,1] [,2]\n",
       "[1,] 4.3  3.1 \n",
       "[2,] 8.2  8.2 \n",
       "[3,] 3.2  0.9 "
      ]
     },
     "metadata": {},
     "output_type": "display_data"
    },
    {
     "data": {
      "text/html": [
       "<ol class=list-inline>\n",
       "\t<li>3</li>\n",
       "\t<li>2</li>\n",
       "</ol>\n"
      ],
      "text/latex": [
       "\\begin{enumerate*}\n",
       "\\item 3\n",
       "\\item 2\n",
       "\\end{enumerate*}\n"
      ],
      "text/markdown": [
       "1. 3\n",
       "2. 2\n",
       "\n",
       "\n"
      ],
      "text/plain": [
       "[1] 3 2"
      ]
     },
     "metadata": {},
     "output_type": "display_data"
    }
   ],
   "source": [
    "    n <- n[-4,] # se elimina la fila 4 \n",
    "    n\n",
    "    dim(n)  # se muestra la dimension de la nueva matriz n "
   ]
  },
  {
   "cell_type": "markdown",
   "metadata": {},
   "source": [
    "c) Sobrescribe la segunda columna de la matriz de (a) con esa misma columna ordenada de menor a mayor."
   ]
  },
  {
   "cell_type": "code",
   "execution_count": 11,
   "metadata": {},
   "outputs": [
    {
     "data": {
      "text/html": [
       "<table>\n",
       "<tbody>\n",
       "\t<tr><td>4.3</td><td>0.9</td></tr>\n",
       "\t<tr><td>8.2</td><td>3.1</td></tr>\n",
       "\t<tr><td>3.2</td><td>6.5</td></tr>\n",
       "\t<tr><td>1.6</td><td>8.2</td></tr>\n",
       "</tbody>\n",
       "</table>\n"
      ],
      "text/latex": [
       "\\begin{tabular}{ll}\n",
       "\t 4.3 & 0.9\\\\\n",
       "\t 8.2 & 3.1\\\\\n",
       "\t 3.2 & 6.5\\\\\n",
       "\t 1.6 & 8.2\\\\\n",
       "\\end{tabular}\n"
      ],
      "text/markdown": [
       "\n",
       "| 4.3 | 0.9 | \n",
       "| 8.2 | 3.1 | \n",
       "| 3.2 | 6.5 | \n",
       "| 1.6 | 8.2 | \n",
       "\n",
       "\n"
      ],
      "text/plain": [
       "     [,1] [,2]\n",
       "[1,] 4.3  0.9 \n",
       "[2,] 8.2  3.1 \n",
       "[3,] 3.2  6.5 \n",
       "[4,] 1.6  8.2 "
      ]
     },
     "metadata": {},
     "output_type": "display_data"
    }
   ],
   "source": [
    "     n[,2] <- sort(n[,2]) # aplicamos sort para ordenar la columna 2 \n",
    "     n"
   ]
  },
  {
   "cell_type": "markdown",
   "metadata": {},
   "source": [
    "d) ¿Qué devuelve R si se elimina la cuarta fila y la primera columna de (c)?. Utiliza matrix para asegurar que el resultado sea una matriz de una sola columna, en lugar de un vector."
   ]
  },
  {
   "cell_type": "code",
   "execution_count": 5,
   "metadata": {},
   "outputs": [
    {
     "data": {
      "text/html": [
       "<table>\n",
       "<tbody>\n",
       "\t<tr><td>0.9</td></tr>\n",
       "\t<tr><td>3.1</td></tr>\n",
       "\t<tr><td>6.5</td></tr>\n",
       "</tbody>\n",
       "</table>\n"
      ],
      "text/latex": [
       "\\begin{tabular}{l}\n",
       "\t 0.9\\\\\n",
       "\t 3.1\\\\\n",
       "\t 6.5\\\\\n",
       "\\end{tabular}\n"
      ],
      "text/markdown": [
       "\n",
       "| 0.9 | \n",
       "| 3.1 | \n",
       "| 6.5 | \n",
       "\n",
       "\n"
      ],
      "text/plain": [
       "     [,1]\n",
       "[1,] 0.9 \n",
       "[2,] 3.1 \n",
       "[3,] 6.5 "
      ]
     },
     "metadata": {},
     "output_type": "display_data"
    },
    {
     "data": {
      "text/html": [
       "TRUE"
      ],
      "text/latex": [
       "TRUE"
      ],
      "text/markdown": [
       "TRUE"
      ],
      "text/plain": [
       "[1] TRUE"
      ]
     },
     "metadata": {},
     "output_type": "display_data"
    }
   ],
   "source": [
    "      n <- matrix(n[-4,-1])\n",
    "      n\n",
    "      is.matrix(n)"
   ]
  },
  {
   "cell_type": "markdown",
   "metadata": {},
   "source": [
    "e) Guarde los cuatro elementos inferiores de (c) como una nueva matriz 2 × 2."
   ]
  },
  {
   "cell_type": "code",
   "execution_count": 16,
   "metadata": {},
   "outputs": [
    {
     "data": {
      "text/html": [
       "<table>\n",
       "<tbody>\n",
       "\t<tr><td>3.2</td><td>6.5</td></tr>\n",
       "\t<tr><td>1.6</td><td>8.2</td></tr>\n",
       "</tbody>\n",
       "</table>\n"
      ],
      "text/latex": [
       "\\begin{tabular}{ll}\n",
       "\t 3.2 & 6.5\\\\\n",
       "\t 1.6 & 8.2\\\\\n",
       "\\end{tabular}\n"
      ],
      "text/markdown": [
       "\n",
       "| 3.2 | 6.5 | \n",
       "| 1.6 | 8.2 | \n",
       "\n",
       "\n"
      ],
      "text/plain": [
       "     [,1] [,2]\n",
       "[1,] 3.2  6.5 \n",
       "[2,] 1.6  8.2 "
      ]
     },
     "metadata": {},
     "output_type": "display_data"
    },
    {
     "name": "stdout",
     "output_type": "stream",
     "text": [
      "[1] \"Dimensión de n1\"\n"
     ]
    },
    {
     "data": {
      "text/html": [
       "<ol class=list-inline>\n",
       "\t<li>2</li>\n",
       "\t<li>2</li>\n",
       "</ol>\n"
      ],
      "text/latex": [
       "\\begin{enumerate*}\n",
       "\\item 2\n",
       "\\item 2\n",
       "\\end{enumerate*}\n"
      ],
      "text/markdown": [
       "1. 2\n",
       "2. 2\n",
       "\n",
       "\n"
      ],
      "text/plain": [
       "[1] 2 2"
      ]
     },
     "metadata": {},
     "output_type": "display_data"
    }
   ],
   "source": [
    "  n1 <-matrix(c(n[3,],n[4,]),nrow = 2, byrow = T)\n",
    "  n1 \n",
    "  print(\"Dimensión de n1\")\n",
    "  dim(n1)"
   ]
  },
  {
   "cell_type": "markdown",
   "metadata": {},
   "source": [
    "f) ) Sobrescribe en este orden los elementos de (c) en las posiciones (4, 2),(1, 2),(4, 1) y (1, 1) con $\\frac{1}{2}$ de los dos valores de la diagonal de (e)."
   ]
  },
  {
   "cell_type": "code",
   "execution_count": 17,
   "metadata": {},
   "outputs": [
    {
     "data": {
      "text/html": [
       "<table>\n",
       "<tbody>\n",
       "\t<tr><td>4.1</td><td>4.1</td></tr>\n",
       "\t<tr><td>8.2</td><td>3.1</td></tr>\n",
       "\t<tr><td>3.2</td><td>6.5</td></tr>\n",
       "\t<tr><td>1.6</td><td>1.6</td></tr>\n",
       "</tbody>\n",
       "</table>\n"
      ],
      "text/latex": [
       "\\begin{tabular}{ll}\n",
       "\t 4.1 & 4.1\\\\\n",
       "\t 8.2 & 3.1\\\\\n",
       "\t 3.2 & 6.5\\\\\n",
       "\t 1.6 & 1.6\\\\\n",
       "\\end{tabular}\n"
      ],
      "text/markdown": [
       "\n",
       "| 4.1 | 4.1 | \n",
       "| 8.2 | 3.1 | \n",
       "| 3.2 | 6.5 | \n",
       "| 1.6 | 1.6 | \n",
       "\n",
       "\n"
      ],
      "text/plain": [
       "     [,1] [,2]\n",
       "[1,] 4.1  4.1 \n",
       "[2,] 8.2  3.1 \n",
       "[3,] 3.2  6.5 \n",
       "[4,] 1.6  1.6 "
      ]
     },
     "metadata": {},
     "output_type": "display_data"
    }
   ],
   "source": [
    "   n[c(4,1),1:2] <- 1/2 * diag(n1)\n",
    "   n "
   ]
  },
  {
   "cell_type": "markdown",
   "metadata": {},
   "source": [
    "4) Calcula lo siguiente:"
   ]
  },
  {
   "cell_type": "markdown",
   "metadata": {},
   "source": [
    "<center/>  $\\tfrac{2}{7}   \\begin{bmatrix}    \n",
    "                1 & 2\\\\ \n",
    "                2 & 4\\\\    \n",
    "                7 & 6\n",
    "                \\end{bmatrix}  -  \\begin{bmatrix}    \n",
    "                                      10 & 20\\\\ \n",
    "                                      30 & 40\\\\    \n",
    "                                      50 & 60\n",
    "                                  \\end{bmatrix} $  <center/>"
   ]
  },
  {
   "cell_type": "code",
   "execution_count": 19,
   "metadata": {},
   "outputs": [
    {
     "name": "stdout",
     "output_type": "stream",
     "text": [
      "[1] \"Matriz M1\"\n"
     ]
    },
    {
     "data": {
      "text/html": [
       "<table>\n",
       "<tbody>\n",
       "\t<tr><td>1</td><td>2</td></tr>\n",
       "\t<tr><td>2</td><td>4</td></tr>\n",
       "\t<tr><td>7</td><td>6</td></tr>\n",
       "</tbody>\n",
       "</table>\n"
      ],
      "text/latex": [
       "\\begin{tabular}{ll}\n",
       "\t 1 & 2\\\\\n",
       "\t 2 & 4\\\\\n",
       "\t 7 & 6\\\\\n",
       "\\end{tabular}\n"
      ],
      "text/markdown": [
       "\n",
       "| 1 | 2 | \n",
       "| 2 | 4 | \n",
       "| 7 | 6 | \n",
       "\n",
       "\n"
      ],
      "text/plain": [
       "     [,1] [,2]\n",
       "[1,] 1    2   \n",
       "[2,] 2    4   \n",
       "[3,] 7    6   "
      ]
     },
     "metadata": {},
     "output_type": "display_data"
    },
    {
     "name": "stdout",
     "output_type": "stream",
     "text": [
      "[1] \"Matriz M2\"\n"
     ]
    },
    {
     "data": {
      "text/html": [
       "<table>\n",
       "<tbody>\n",
       "\t<tr><td>10</td><td>20</td></tr>\n",
       "\t<tr><td>30</td><td>40</td></tr>\n",
       "\t<tr><td>50</td><td>60</td></tr>\n",
       "</tbody>\n",
       "</table>\n"
      ],
      "text/latex": [
       "\\begin{tabular}{ll}\n",
       "\t 10 & 20\\\\\n",
       "\t 30 & 40\\\\\n",
       "\t 50 & 60\\\\\n",
       "\\end{tabular}\n"
      ],
      "text/markdown": [
       "\n",
       "| 10 | 20 | \n",
       "| 30 | 40 | \n",
       "| 50 | 60 | \n",
       "\n",
       "\n"
      ],
      "text/plain": [
       "     [,1] [,2]\n",
       "[1,] 10   20  \n",
       "[2,] 30   40  \n",
       "[3,] 50   60  "
      ]
     },
     "metadata": {},
     "output_type": "display_data"
    },
    {
     "name": "stdout",
     "output_type": "stream",
     "text": [
      "[1] \"Resultado:\"\n"
     ]
    },
    {
     "data": {
      "text/html": [
       "<table>\n",
       "<tbody>\n",
       "\t<tr><td> -9.714286</td><td>-19.42857 </td></tr>\n",
       "\t<tr><td>-29.428571</td><td>-38.85714 </td></tr>\n",
       "\t<tr><td>-48.000000</td><td>-58.28571 </td></tr>\n",
       "</tbody>\n",
       "</table>\n"
      ],
      "text/latex": [
       "\\begin{tabular}{ll}\n",
       "\t  -9.714286 & -19.42857 \\\\\n",
       "\t -29.428571 & -38.85714 \\\\\n",
       "\t -48.000000 & -58.28571 \\\\\n",
       "\\end{tabular}\n"
      ],
      "text/markdown": [
       "\n",
       "|  -9.714286 | -19.42857  | \n",
       "| -29.428571 | -38.85714  | \n",
       "| -48.000000 | -58.28571  | \n",
       "\n",
       "\n"
      ],
      "text/plain": [
       "     [,1]       [,2]     \n",
       "[1,]  -9.714286 -19.42857\n",
       "[2,] -29.428571 -38.85714\n",
       "[3,] -48.000000 -58.28571"
      ]
     },
     "metadata": {},
     "output_type": "display_data"
    }
   ],
   "source": [
    "     M1 <- matrix(c(1,2,2,4,7,6), nrow = 3, byrow = T)\n",
    "     M2 <- matrix(10*seq(1,6),nrow=3,byrow = T)\n",
    "     print(\"Matriz M1\")\n",
    "     M1\n",
    "     print(\"Matriz M2\")\n",
    "     M2\n",
    "     produc <- ((2/7) * M1) - M2\n",
    "     print(\"Resultado:\")\n",
    "     produc # mostramos el resultado "
   ]
  },
  {
   "cell_type": "markdown",
   "metadata": {},
   "source": [
    "5) Almacena estas dos matrices:\n",
    " \n",
    " <center/> $A =  \\begin{bmatrix}\n",
    " 1\\\\ \n",
    " 2\\\\ \n",
    " 7\n",
    " \\end{bmatrix} \\, \\, \\, \\: \\: \\: \\: \\,  \\, B = \\begin{bmatrix}\n",
    "                                                  3\\\\ \n",
    "                                                  4\\\\ \n",
    "                                                  8\n",
    "                                                 \\end{bmatrix}  $ <center/>\n",
    "                                                 \n",
    "¿ Cuál de las siguientes multiplicaciones son posibles?. Para los que son, calcula el resultado"
   ]
  },
  {
   "cell_type": "code",
   "execution_count": 20,
   "metadata": {},
   "outputs": [
    {
     "name": "stdout",
     "output_type": "stream",
     "text": [
      "[1] \"Matriz A\"\n"
     ]
    },
    {
     "data": {
      "text/html": [
       "<table>\n",
       "<tbody>\n",
       "\t<tr><td>1</td></tr>\n",
       "\t<tr><td>2</td></tr>\n",
       "\t<tr><td>7</td></tr>\n",
       "</tbody>\n",
       "</table>\n"
      ],
      "text/latex": [
       "\\begin{tabular}{l}\n",
       "\t 1\\\\\n",
       "\t 2\\\\\n",
       "\t 7\\\\\n",
       "\\end{tabular}\n"
      ],
      "text/markdown": [
       "\n",
       "| 1 | \n",
       "| 2 | \n",
       "| 7 | \n",
       "\n",
       "\n"
      ],
      "text/plain": [
       "     [,1]\n",
       "[1,] 1   \n",
       "[2,] 2   \n",
       "[3,] 7   "
      ]
     },
     "metadata": {},
     "output_type": "display_data"
    },
    {
     "name": "stdout",
     "output_type": "stream",
     "text": [
      "[1] \"Dimensión de A:\"\n"
     ]
    },
    {
     "data": {
      "text/html": [
       "<ol class=list-inline>\n",
       "\t<li>3</li>\n",
       "\t<li>1</li>\n",
       "</ol>\n"
      ],
      "text/latex": [
       "\\begin{enumerate*}\n",
       "\\item 3\n",
       "\\item 1\n",
       "\\end{enumerate*}\n"
      ],
      "text/markdown": [
       "1. 3\n",
       "2. 1\n",
       "\n",
       "\n"
      ],
      "text/plain": [
       "[1] 3 1"
      ]
     },
     "metadata": {},
     "output_type": "display_data"
    },
    {
     "name": "stdout",
     "output_type": "stream",
     "text": [
      "[1] \"Matriz B\"\n"
     ]
    },
    {
     "data": {
      "text/html": [
       "<table>\n",
       "<tbody>\n",
       "\t<tr><td>3</td></tr>\n",
       "\t<tr><td>4</td></tr>\n",
       "\t<tr><td>8</td></tr>\n",
       "</tbody>\n",
       "</table>\n"
      ],
      "text/latex": [
       "\\begin{tabular}{l}\n",
       "\t 3\\\\\n",
       "\t 4\\\\\n",
       "\t 8\\\\\n",
       "\\end{tabular}\n"
      ],
      "text/markdown": [
       "\n",
       "| 3 | \n",
       "| 4 | \n",
       "| 8 | \n",
       "\n",
       "\n"
      ],
      "text/plain": [
       "     [,1]\n",
       "[1,] 3   \n",
       "[2,] 4   \n",
       "[3,] 8   "
      ]
     },
     "metadata": {},
     "output_type": "display_data"
    },
    {
     "name": "stdout",
     "output_type": "stream",
     "text": [
      "[1] \"Dimensión de B:\"\n"
     ]
    },
    {
     "data": {
      "text/html": [
       "<ol class=list-inline>\n",
       "\t<li>3</li>\n",
       "\t<li>1</li>\n",
       "</ol>\n"
      ],
      "text/latex": [
       "\\begin{enumerate*}\n",
       "\\item 3\n",
       "\\item 1\n",
       "\\end{enumerate*}\n"
      ],
      "text/markdown": [
       "1. 3\n",
       "2. 1\n",
       "\n",
       "\n"
      ],
      "text/plain": [
       "[1] 3 1"
      ]
     },
     "metadata": {},
     "output_type": "display_data"
    },
    {
     "data": {
      "text/html": [
       "<table>\n",
       "<tbody>\n",
       "\t<tr><td>67</td></tr>\n",
       "</tbody>\n",
       "</table>\n"
      ],
      "text/latex": [
       "\\begin{tabular}{l}\n",
       "\t 67\\\\\n",
       "\\end{tabular}\n"
      ],
      "text/markdown": [
       "\n",
       "| 67 | \n",
       "\n",
       "\n"
      ],
      "text/plain": [
       "     [,1]\n",
       "[1,] 67  "
      ]
     },
     "metadata": {},
     "output_type": "display_data"
    },
    {
     "data": {
      "text/html": [
       "<table>\n",
       "<tbody>\n",
       "\t<tr><td>67 </td><td>134</td><td>469</td></tr>\n",
       "</tbody>\n",
       "</table>\n"
      ],
      "text/latex": [
       "\\begin{tabular}{lll}\n",
       "\t 67  & 134 & 469\\\\\n",
       "\\end{tabular}\n"
      ],
      "text/markdown": [
       "\n",
       "| 67  | 134 | 469 | \n",
       "\n",
       "\n"
      ],
      "text/plain": [
       "     [,1] [,2] [,3]\n",
       "[1,] 67   134  469 "
      ]
     },
     "metadata": {},
     "output_type": "display_data"
    },
    {
     "data": {
      "text/html": [
       "<table>\n",
       "<tbody>\n",
       "\t<tr><td>-0.007923676</td><td> 0.003123274</td><td>0.007843334 </td></tr>\n",
       "\t<tr><td> 0.003123274</td><td>-0.005350239</td><td>0.011483806 </td></tr>\n",
       "\t<tr><td> 0.007843334</td><td> 0.011483806</td><td>0.017584735 </td></tr>\n",
       "</tbody>\n",
       "</table>\n"
      ],
      "text/latex": [
       "\\begin{tabular}{lll}\n",
       "\t -0.007923676 &  0.003123274 & 0.007843334 \\\\\n",
       "\t  0.003123274 & -0.005350239 & 0.011483806 \\\\\n",
       "\t  0.007843334 &  0.011483806 & 0.017584735 \\\\\n",
       "\\end{tabular}\n"
      ],
      "text/markdown": [
       "\n",
       "| -0.007923676 |  0.003123274 | 0.007843334  | \n",
       "|  0.003123274 | -0.005350239 | 0.011483806  | \n",
       "|  0.007843334 |  0.011483806 | 0.017584735  | \n",
       "\n",
       "\n"
      ],
      "text/plain": [
       "     [,1]         [,2]         [,3]       \n",
       "[1,] -0.007923676  0.003123274 0.007843334\n",
       "[2,]  0.003123274 -0.005350239 0.011483806\n",
       "[3,]  0.007843334  0.011483806 0.017584735"
      ]
     },
     "metadata": {},
     "output_type": "display_data"
    }
   ],
   "source": [
    "A <- matrix( c(1,2,7), nrow = 3)\n",
    "B <- matrix(c(3,4,8), nrow = 3)\n",
    "print(\"Matriz A\")\n",
    "A\n",
    "print(\"Dimensión de A:\")\n",
    "dim(A)\n",
    "print(\"Matriz B\")\n",
    "B\n",
    "print(\"Dimensión de B:\")\n",
    "dim(B)\n",
    "\n",
    "# A x B, no se puede realizar ya que las matrices no son de 3x1 y 1x3. \n",
    "# t(A) x B si se puede ya que sus argumentos o dimensiones son compatibles para la multiplicación usual de matrices\n",
    "t(A) %*% B\n",
    "\n",
    "# t(B)* (A*t(A)) también se puede realizar la operación\n",
    "t(B) %*% (A%*%t(A))\n",
    "\n",
    "# ((B*t(B)) + (A*t(A) - 100*I3)) ^ -1, tambien se puede realizar ya que sus indices son compatibles. \n",
    "I3 <- diag(1, nrow = 3) #matriz identidad de dim 3x3\n",
    "solve(((B %*% t(B)) + (A %*% t(A)) - 100*I3))\n"
   ]
  },
  {
   "cell_type": "markdown",
   "metadata": {},
   "source": [
    "6) La función diag tiene varios usos, uno de los cuales es tomar un vector como entrada y crea una\n",
    "matriz cuadrada con ese vector en la diagonal. Crea una matriz 21 × 21 con la secuencia de 10 a 0 y\n",
    "a 11 (es decir, 11, 10, . . . , 1, 0, 1, . . . , 11)."
   ]
  },
  {
   "cell_type": "code",
   "execution_count": 21,
   "metadata": {},
   "outputs": [
    {
     "data": {
      "text/html": [
       "<table>\n",
       "<tbody>\n",
       "\t<tr><td>10</td><td>0 </td><td>0 </td><td>0 </td><td>0 </td><td>0 </td><td>0 </td><td>0 </td><td>0 </td><td>0 </td><td>⋯ </td><td>0 </td><td>0 </td><td>0 </td><td>0 </td><td>0 </td><td>0 </td><td>0 </td><td>0 </td><td>0 </td><td> 0</td></tr>\n",
       "\t<tr><td> 0</td><td>9 </td><td>0 </td><td>0 </td><td>0 </td><td>0 </td><td>0 </td><td>0 </td><td>0 </td><td>0 </td><td>⋯ </td><td>0 </td><td>0 </td><td>0 </td><td>0 </td><td>0 </td><td>0 </td><td>0 </td><td>0 </td><td>0 </td><td> 0</td></tr>\n",
       "\t<tr><td> 0</td><td>0 </td><td>8 </td><td>0 </td><td>0 </td><td>0 </td><td>0 </td><td>0 </td><td>0 </td><td>0 </td><td>⋯ </td><td>0 </td><td>0 </td><td>0 </td><td>0 </td><td>0 </td><td>0 </td><td>0 </td><td>0 </td><td>0 </td><td> 0</td></tr>\n",
       "\t<tr><td> 0</td><td>0 </td><td>0 </td><td>7 </td><td>0 </td><td>0 </td><td>0 </td><td>0 </td><td>0 </td><td>0 </td><td>⋯ </td><td>0 </td><td>0 </td><td>0 </td><td>0 </td><td>0 </td><td>0 </td><td>0 </td><td>0 </td><td>0 </td><td> 0</td></tr>\n",
       "\t<tr><td> 0</td><td>0 </td><td>0 </td><td>0 </td><td>6 </td><td>0 </td><td>0 </td><td>0 </td><td>0 </td><td>0 </td><td>⋯ </td><td>0 </td><td>0 </td><td>0 </td><td>0 </td><td>0 </td><td>0 </td><td>0 </td><td>0 </td><td>0 </td><td> 0</td></tr>\n",
       "\t<tr><td> 0</td><td>0 </td><td>0 </td><td>0 </td><td>0 </td><td>5 </td><td>0 </td><td>0 </td><td>0 </td><td>0 </td><td>⋯ </td><td>0 </td><td>0 </td><td>0 </td><td>0 </td><td>0 </td><td>0 </td><td>0 </td><td>0 </td><td>0 </td><td> 0</td></tr>\n",
       "\t<tr><td> 0</td><td>0 </td><td>0 </td><td>0 </td><td>0 </td><td>0 </td><td>4 </td><td>0 </td><td>0 </td><td>0 </td><td>⋯ </td><td>0 </td><td>0 </td><td>0 </td><td>0 </td><td>0 </td><td>0 </td><td>0 </td><td>0 </td><td>0 </td><td> 0</td></tr>\n",
       "\t<tr><td> 0</td><td>0 </td><td>0 </td><td>0 </td><td>0 </td><td>0 </td><td>0 </td><td>3 </td><td>0 </td><td>0 </td><td>⋯ </td><td>0 </td><td>0 </td><td>0 </td><td>0 </td><td>0 </td><td>0 </td><td>0 </td><td>0 </td><td>0 </td><td> 0</td></tr>\n",
       "\t<tr><td> 0</td><td>0 </td><td>0 </td><td>0 </td><td>0 </td><td>0 </td><td>0 </td><td>0 </td><td>2 </td><td>0 </td><td>⋯ </td><td>0 </td><td>0 </td><td>0 </td><td>0 </td><td>0 </td><td>0 </td><td>0 </td><td>0 </td><td>0 </td><td> 0</td></tr>\n",
       "\t<tr><td> 0</td><td>0 </td><td>0 </td><td>0 </td><td>0 </td><td>0 </td><td>0 </td><td>0 </td><td>0 </td><td>1 </td><td>⋯ </td><td>0 </td><td>0 </td><td>0 </td><td>0 </td><td>0 </td><td>0 </td><td>0 </td><td>0 </td><td>0 </td><td> 0</td></tr>\n",
       "\t<tr><td> 0</td><td>0 </td><td>0 </td><td>0 </td><td>0 </td><td>0 </td><td>0 </td><td>0 </td><td>0 </td><td>0 </td><td>⋯ </td><td>0 </td><td>0 </td><td>0 </td><td>0 </td><td>0 </td><td>0 </td><td>0 </td><td>0 </td><td>0 </td><td> 0</td></tr>\n",
       "\t<tr><td> 0</td><td>0 </td><td>0 </td><td>0 </td><td>0 </td><td>0 </td><td>0 </td><td>0 </td><td>0 </td><td>0 </td><td>⋯ </td><td>1 </td><td>0 </td><td>0 </td><td>0 </td><td>0 </td><td>0 </td><td>0 </td><td>0 </td><td>0 </td><td> 0</td></tr>\n",
       "\t<tr><td> 0</td><td>0 </td><td>0 </td><td>0 </td><td>0 </td><td>0 </td><td>0 </td><td>0 </td><td>0 </td><td>0 </td><td>⋯ </td><td>0 </td><td>2 </td><td>0 </td><td>0 </td><td>0 </td><td>0 </td><td>0 </td><td>0 </td><td>0 </td><td> 0</td></tr>\n",
       "\t<tr><td> 0</td><td>0 </td><td>0 </td><td>0 </td><td>0 </td><td>0 </td><td>0 </td><td>0 </td><td>0 </td><td>0 </td><td>⋯ </td><td>0 </td><td>0 </td><td>3 </td><td>0 </td><td>0 </td><td>0 </td><td>0 </td><td>0 </td><td>0 </td><td> 0</td></tr>\n",
       "\t<tr><td> 0</td><td>0 </td><td>0 </td><td>0 </td><td>0 </td><td>0 </td><td>0 </td><td>0 </td><td>0 </td><td>0 </td><td>⋯ </td><td>0 </td><td>0 </td><td>0 </td><td>4 </td><td>0 </td><td>0 </td><td>0 </td><td>0 </td><td>0 </td><td> 0</td></tr>\n",
       "\t<tr><td> 0</td><td>0 </td><td>0 </td><td>0 </td><td>0 </td><td>0 </td><td>0 </td><td>0 </td><td>0 </td><td>0 </td><td>⋯ </td><td>0 </td><td>0 </td><td>0 </td><td>0 </td><td>5 </td><td>0 </td><td>0 </td><td>0 </td><td>0 </td><td> 0</td></tr>\n",
       "\t<tr><td> 0</td><td>0 </td><td>0 </td><td>0 </td><td>0 </td><td>0 </td><td>0 </td><td>0 </td><td>0 </td><td>0 </td><td>⋯ </td><td>0 </td><td>0 </td><td>0 </td><td>0 </td><td>0 </td><td>6 </td><td>0 </td><td>0 </td><td>0 </td><td> 0</td></tr>\n",
       "\t<tr><td> 0</td><td>0 </td><td>0 </td><td>0 </td><td>0 </td><td>0 </td><td>0 </td><td>0 </td><td>0 </td><td>0 </td><td>⋯ </td><td>0 </td><td>0 </td><td>0 </td><td>0 </td><td>0 </td><td>0 </td><td>7 </td><td>0 </td><td>0 </td><td> 0</td></tr>\n",
       "\t<tr><td> 0</td><td>0 </td><td>0 </td><td>0 </td><td>0 </td><td>0 </td><td>0 </td><td>0 </td><td>0 </td><td>0 </td><td>⋯ </td><td>0 </td><td>0 </td><td>0 </td><td>0 </td><td>0 </td><td>0 </td><td>0 </td><td>8 </td><td>0 </td><td> 0</td></tr>\n",
       "\t<tr><td> 0</td><td>0 </td><td>0 </td><td>0 </td><td>0 </td><td>0 </td><td>0 </td><td>0 </td><td>0 </td><td>0 </td><td>⋯ </td><td>0 </td><td>0 </td><td>0 </td><td>0 </td><td>0 </td><td>0 </td><td>0 </td><td>0 </td><td>9 </td><td> 0</td></tr>\n",
       "\t<tr><td> 0</td><td>0 </td><td>0 </td><td>0 </td><td>0 </td><td>0 </td><td>0 </td><td>0 </td><td>0 </td><td>0 </td><td>⋯ </td><td>0 </td><td>0 </td><td>0 </td><td>0 </td><td>0 </td><td>0 </td><td>0 </td><td>0 </td><td>0 </td><td>10</td></tr>\n",
       "</tbody>\n",
       "</table>\n"
      ],
      "text/latex": [
       "\\begin{tabular}{lllllllllllllllllllll}\n",
       "\t 10 & 0  & 0  & 0  & 0  & 0  & 0  & 0  & 0  & 0  & ⋯  & 0  & 0  & 0  & 0  & 0  & 0  & 0  & 0  & 0  &  0\\\\\n",
       "\t  0 & 9  & 0  & 0  & 0  & 0  & 0  & 0  & 0  & 0  & ⋯  & 0  & 0  & 0  & 0  & 0  & 0  & 0  & 0  & 0  &  0\\\\\n",
       "\t  0 & 0  & 8  & 0  & 0  & 0  & 0  & 0  & 0  & 0  & ⋯  & 0  & 0  & 0  & 0  & 0  & 0  & 0  & 0  & 0  &  0\\\\\n",
       "\t  0 & 0  & 0  & 7  & 0  & 0  & 0  & 0  & 0  & 0  & ⋯  & 0  & 0  & 0  & 0  & 0  & 0  & 0  & 0  & 0  &  0\\\\\n",
       "\t  0 & 0  & 0  & 0  & 6  & 0  & 0  & 0  & 0  & 0  & ⋯  & 0  & 0  & 0  & 0  & 0  & 0  & 0  & 0  & 0  &  0\\\\\n",
       "\t  0 & 0  & 0  & 0  & 0  & 5  & 0  & 0  & 0  & 0  & ⋯  & 0  & 0  & 0  & 0  & 0  & 0  & 0  & 0  & 0  &  0\\\\\n",
       "\t  0 & 0  & 0  & 0  & 0  & 0  & 4  & 0  & 0  & 0  & ⋯  & 0  & 0  & 0  & 0  & 0  & 0  & 0  & 0  & 0  &  0\\\\\n",
       "\t  0 & 0  & 0  & 0  & 0  & 0  & 0  & 3  & 0  & 0  & ⋯  & 0  & 0  & 0  & 0  & 0  & 0  & 0  & 0  & 0  &  0\\\\\n",
       "\t  0 & 0  & 0  & 0  & 0  & 0  & 0  & 0  & 2  & 0  & ⋯  & 0  & 0  & 0  & 0  & 0  & 0  & 0  & 0  & 0  &  0\\\\\n",
       "\t  0 & 0  & 0  & 0  & 0  & 0  & 0  & 0  & 0  & 1  & ⋯  & 0  & 0  & 0  & 0  & 0  & 0  & 0  & 0  & 0  &  0\\\\\n",
       "\t  0 & 0  & 0  & 0  & 0  & 0  & 0  & 0  & 0  & 0  & ⋯  & 0  & 0  & 0  & 0  & 0  & 0  & 0  & 0  & 0  &  0\\\\\n",
       "\t  0 & 0  & 0  & 0  & 0  & 0  & 0  & 0  & 0  & 0  & ⋯  & 1  & 0  & 0  & 0  & 0  & 0  & 0  & 0  & 0  &  0\\\\\n",
       "\t  0 & 0  & 0  & 0  & 0  & 0  & 0  & 0  & 0  & 0  & ⋯  & 0  & 2  & 0  & 0  & 0  & 0  & 0  & 0  & 0  &  0\\\\\n",
       "\t  0 & 0  & 0  & 0  & 0  & 0  & 0  & 0  & 0  & 0  & ⋯  & 0  & 0  & 3  & 0  & 0  & 0  & 0  & 0  & 0  &  0\\\\\n",
       "\t  0 & 0  & 0  & 0  & 0  & 0  & 0  & 0  & 0  & 0  & ⋯  & 0  & 0  & 0  & 4  & 0  & 0  & 0  & 0  & 0  &  0\\\\\n",
       "\t  0 & 0  & 0  & 0  & 0  & 0  & 0  & 0  & 0  & 0  & ⋯  & 0  & 0  & 0  & 0  & 5  & 0  & 0  & 0  & 0  &  0\\\\\n",
       "\t  0 & 0  & 0  & 0  & 0  & 0  & 0  & 0  & 0  & 0  & ⋯  & 0  & 0  & 0  & 0  & 0  & 6  & 0  & 0  & 0  &  0\\\\\n",
       "\t  0 & 0  & 0  & 0  & 0  & 0  & 0  & 0  & 0  & 0  & ⋯  & 0  & 0  & 0  & 0  & 0  & 0  & 7  & 0  & 0  &  0\\\\\n",
       "\t  0 & 0  & 0  & 0  & 0  & 0  & 0  & 0  & 0  & 0  & ⋯  & 0  & 0  & 0  & 0  & 0  & 0  & 0  & 8  & 0  &  0\\\\\n",
       "\t  0 & 0  & 0  & 0  & 0  & 0  & 0  & 0  & 0  & 0  & ⋯  & 0  & 0  & 0  & 0  & 0  & 0  & 0  & 0  & 9  &  0\\\\\n",
       "\t  0 & 0  & 0  & 0  & 0  & 0  & 0  & 0  & 0  & 0  & ⋯  & 0  & 0  & 0  & 0  & 0  & 0  & 0  & 0  & 0  & 10\\\\\n",
       "\\end{tabular}\n"
      ],
      "text/markdown": [
       "\n",
       "| 10 | 0  | 0  | 0  | 0  | 0  | 0  | 0  | 0  | 0  | ⋯  | 0  | 0  | 0  | 0  | 0  | 0  | 0  | 0  | 0  |  0 | \n",
       "|  0 | 9  | 0  | 0  | 0  | 0  | 0  | 0  | 0  | 0  | ⋯  | 0  | 0  | 0  | 0  | 0  | 0  | 0  | 0  | 0  |  0 | \n",
       "|  0 | 0  | 8  | 0  | 0  | 0  | 0  | 0  | 0  | 0  | ⋯  | 0  | 0  | 0  | 0  | 0  | 0  | 0  | 0  | 0  |  0 | \n",
       "|  0 | 0  | 0  | 7  | 0  | 0  | 0  | 0  | 0  | 0  | ⋯  | 0  | 0  | 0  | 0  | 0  | 0  | 0  | 0  | 0  |  0 | \n",
       "|  0 | 0  | 0  | 0  | 6  | 0  | 0  | 0  | 0  | 0  | ⋯  | 0  | 0  | 0  | 0  | 0  | 0  | 0  | 0  | 0  |  0 | \n",
       "|  0 | 0  | 0  | 0  | 0  | 5  | 0  | 0  | 0  | 0  | ⋯  | 0  | 0  | 0  | 0  | 0  | 0  | 0  | 0  | 0  |  0 | \n",
       "|  0 | 0  | 0  | 0  | 0  | 0  | 4  | 0  | 0  | 0  | ⋯  | 0  | 0  | 0  | 0  | 0  | 0  | 0  | 0  | 0  |  0 | \n",
       "|  0 | 0  | 0  | 0  | 0  | 0  | 0  | 3  | 0  | 0  | ⋯  | 0  | 0  | 0  | 0  | 0  | 0  | 0  | 0  | 0  |  0 | \n",
       "|  0 | 0  | 0  | 0  | 0  | 0  | 0  | 0  | 2  | 0  | ⋯  | 0  | 0  | 0  | 0  | 0  | 0  | 0  | 0  | 0  |  0 | \n",
       "|  0 | 0  | 0  | 0  | 0  | 0  | 0  | 0  | 0  | 1  | ⋯  | 0  | 0  | 0  | 0  | 0  | 0  | 0  | 0  | 0  |  0 | \n",
       "|  0 | 0  | 0  | 0  | 0  | 0  | 0  | 0  | 0  | 0  | ⋯  | 0  | 0  | 0  | 0  | 0  | 0  | 0  | 0  | 0  |  0 | \n",
       "|  0 | 0  | 0  | 0  | 0  | 0  | 0  | 0  | 0  | 0  | ⋯  | 1  | 0  | 0  | 0  | 0  | 0  | 0  | 0  | 0  |  0 | \n",
       "|  0 | 0  | 0  | 0  | 0  | 0  | 0  | 0  | 0  | 0  | ⋯  | 0  | 2  | 0  | 0  | 0  | 0  | 0  | 0  | 0  |  0 | \n",
       "|  0 | 0  | 0  | 0  | 0  | 0  | 0  | 0  | 0  | 0  | ⋯  | 0  | 0  | 3  | 0  | 0  | 0  | 0  | 0  | 0  |  0 | \n",
       "|  0 | 0  | 0  | 0  | 0  | 0  | 0  | 0  | 0  | 0  | ⋯  | 0  | 0  | 0  | 4  | 0  | 0  | 0  | 0  | 0  |  0 | \n",
       "|  0 | 0  | 0  | 0  | 0  | 0  | 0  | 0  | 0  | 0  | ⋯  | 0  | 0  | 0  | 0  | 5  | 0  | 0  | 0  | 0  |  0 | \n",
       "|  0 | 0  | 0  | 0  | 0  | 0  | 0  | 0  | 0  | 0  | ⋯  | 0  | 0  | 0  | 0  | 0  | 6  | 0  | 0  | 0  |  0 | \n",
       "|  0 | 0  | 0  | 0  | 0  | 0  | 0  | 0  | 0  | 0  | ⋯  | 0  | 0  | 0  | 0  | 0  | 0  | 7  | 0  | 0  |  0 | \n",
       "|  0 | 0  | 0  | 0  | 0  | 0  | 0  | 0  | 0  | 0  | ⋯  | 0  | 0  | 0  | 0  | 0  | 0  | 0  | 8  | 0  |  0 | \n",
       "|  0 | 0  | 0  | 0  | 0  | 0  | 0  | 0  | 0  | 0  | ⋯  | 0  | 0  | 0  | 0  | 0  | 0  | 0  | 0  | 9  |  0 | \n",
       "|  0 | 0  | 0  | 0  | 0  | 0  | 0  | 0  | 0  | 0  | ⋯  | 0  | 0  | 0  | 0  | 0  | 0  | 0  | 0  | 0  | 10 | \n",
       "\n",
       "\n"
      ],
      "text/plain": [
       "      [,1] [,2] [,3] [,4] [,5] [,6] [,7] [,8] [,9] [,10] [,11] [,12] [,13]\n",
       " [1,] 10   0    0    0    0    0    0    0    0    0     ⋯     0     0    \n",
       " [2,]  0   9    0    0    0    0    0    0    0    0     ⋯     0     0    \n",
       " [3,]  0   0    8    0    0    0    0    0    0    0     ⋯     0     0    \n",
       " [4,]  0   0    0    7    0    0    0    0    0    0     ⋯     0     0    \n",
       " [5,]  0   0    0    0    6    0    0    0    0    0     ⋯     0     0    \n",
       " [6,]  0   0    0    0    0    5    0    0    0    0     ⋯     0     0    \n",
       " [7,]  0   0    0    0    0    0    4    0    0    0     ⋯     0     0    \n",
       " [8,]  0   0    0    0    0    0    0    3    0    0     ⋯     0     0    \n",
       " [9,]  0   0    0    0    0    0    0    0    2    0     ⋯     0     0    \n",
       "[10,]  0   0    0    0    0    0    0    0    0    1     ⋯     0     0    \n",
       "[11,]  0   0    0    0    0    0    0    0    0    0     ⋯     0     0    \n",
       "[12,]  0   0    0    0    0    0    0    0    0    0     ⋯     1     0    \n",
       "[13,]  0   0    0    0    0    0    0    0    0    0     ⋯     0     2    \n",
       "[14,]  0   0    0    0    0    0    0    0    0    0     ⋯     0     0    \n",
       "[15,]  0   0    0    0    0    0    0    0    0    0     ⋯     0     0    \n",
       "[16,]  0   0    0    0    0    0    0    0    0    0     ⋯     0     0    \n",
       "[17,]  0   0    0    0    0    0    0    0    0    0     ⋯     0     0    \n",
       "[18,]  0   0    0    0    0    0    0    0    0    0     ⋯     0     0    \n",
       "[19,]  0   0    0    0    0    0    0    0    0    0     ⋯     0     0    \n",
       "[20,]  0   0    0    0    0    0    0    0    0    0     ⋯     0     0    \n",
       "[21,]  0   0    0    0    0    0    0    0    0    0     ⋯     0     0    \n",
       "      [,14] [,15] [,16] [,17] [,18] [,19] [,20] [,21]\n",
       " [1,] 0     0     0     0     0     0     0      0   \n",
       " [2,] 0     0     0     0     0     0     0      0   \n",
       " [3,] 0     0     0     0     0     0     0      0   \n",
       " [4,] 0     0     0     0     0     0     0      0   \n",
       " [5,] 0     0     0     0     0     0     0      0   \n",
       " [6,] 0     0     0     0     0     0     0      0   \n",
       " [7,] 0     0     0     0     0     0     0      0   \n",
       " [8,] 0     0     0     0     0     0     0      0   \n",
       " [9,] 0     0     0     0     0     0     0      0   \n",
       "[10,] 0     0     0     0     0     0     0      0   \n",
       "[11,] 0     0     0     0     0     0     0      0   \n",
       "[12,] 0     0     0     0     0     0     0      0   \n",
       "[13,] 0     0     0     0     0     0     0      0   \n",
       "[14,] 3     0     0     0     0     0     0      0   \n",
       "[15,] 0     4     0     0     0     0     0      0   \n",
       "[16,] 0     0     5     0     0     0     0      0   \n",
       "[17,] 0     0     0     6     0     0     0      0   \n",
       "[18,] 0     0     0     0     7     0     0      0   \n",
       "[19,] 0     0     0     0     0     8     0      0   \n",
       "[20,] 0     0     0     0     0     0     9      0   \n",
       "[21,] 0     0     0     0     0     0     0     10   "
      ]
     },
     "metadata": {},
     "output_type": "display_data"
    }
   ],
   "source": [
    "     matriz <- diag( c(seq(10,0), seq(1,10)), nrow= 21)\n",
    "     matriz"
   ]
  },
  {
   "cell_type": "markdown",
   "metadata": {},
   "source": [
    "7) Para\n",
    "\n",
    "<center/> $ A = \\begin{bmatrix}\n",
    " 2 & 0 & 0 & 0 \\\\ \n",
    " 0 & 3 & 0 & 0 \\\\ \n",
    " 0&  0 & 5 &  0\\\\ \n",
    " 0 & 0 & 0 & -1 \n",
    "\\end{bmatrix}$ <center/>  \n",
    "\n",
    "Comprueba que $A^{-1}\\cdot A \\, \\, - I_{4}$ proporciona una matriz 4 × 4 de ceros."
   ]
  },
  {
   "cell_type": "code",
   "execution_count": 23,
   "metadata": {},
   "outputs": [
    {
     "name": "stdout",
     "output_type": "stream",
     "text": [
      "[1] \"Matriz A\"\n"
     ]
    },
    {
     "data": {
      "text/html": [
       "<table>\n",
       "<tbody>\n",
       "\t<tr><td>2 </td><td>0 </td><td>0 </td><td> 0</td></tr>\n",
       "\t<tr><td>0 </td><td>3 </td><td>0 </td><td> 0</td></tr>\n",
       "\t<tr><td>0 </td><td>0 </td><td>5 </td><td> 0</td></tr>\n",
       "\t<tr><td>0 </td><td>0 </td><td>0 </td><td>-1</td></tr>\n",
       "</tbody>\n",
       "</table>\n"
      ],
      "text/latex": [
       "\\begin{tabular}{llll}\n",
       "\t 2  & 0  & 0  &  0\\\\\n",
       "\t 0  & 3  & 0  &  0\\\\\n",
       "\t 0  & 0  & 5  &  0\\\\\n",
       "\t 0  & 0  & 0  & -1\\\\\n",
       "\\end{tabular}\n"
      ],
      "text/markdown": [
       "\n",
       "| 2  | 0  | 0  |  0 | \n",
       "| 0  | 3  | 0  |  0 | \n",
       "| 0  | 0  | 5  |  0 | \n",
       "| 0  | 0  | 0  | -1 | \n",
       "\n",
       "\n"
      ],
      "text/plain": [
       "     [,1] [,2] [,3] [,4]\n",
       "[1,] 2    0    0     0  \n",
       "[2,] 0    3    0     0  \n",
       "[3,] 0    0    5     0  \n",
       "[4,] 0    0    0    -1  "
      ]
     },
     "metadata": {},
     "output_type": "display_data"
    },
    {
     "name": "stdout",
     "output_type": "stream",
     "text": [
      "[1] \"Matriz identidad de 4x4\"\n"
     ]
    },
    {
     "data": {
      "text/html": [
       "<table>\n",
       "<tbody>\n",
       "\t<tr><td>1</td><td>0</td><td>0</td><td>0</td></tr>\n",
       "\t<tr><td>0</td><td>1</td><td>0</td><td>0</td></tr>\n",
       "\t<tr><td>0</td><td>0</td><td>1</td><td>0</td></tr>\n",
       "\t<tr><td>0</td><td>0</td><td>0</td><td>1</td></tr>\n",
       "</tbody>\n",
       "</table>\n"
      ],
      "text/latex": [
       "\\begin{tabular}{llll}\n",
       "\t 1 & 0 & 0 & 0\\\\\n",
       "\t 0 & 1 & 0 & 0\\\\\n",
       "\t 0 & 0 & 1 & 0\\\\\n",
       "\t 0 & 0 & 0 & 1\\\\\n",
       "\\end{tabular}\n"
      ],
      "text/markdown": [
       "\n",
       "| 1 | 0 | 0 | 0 | \n",
       "| 0 | 1 | 0 | 0 | \n",
       "| 0 | 0 | 1 | 0 | \n",
       "| 0 | 0 | 0 | 1 | \n",
       "\n",
       "\n"
      ],
      "text/plain": [
       "     [,1] [,2] [,3] [,4]\n",
       "[1,] 1    0    0    0   \n",
       "[2,] 0    1    0    0   \n",
       "[3,] 0    0    1    0   \n",
       "[4,] 0    0    0    1   "
      ]
     },
     "metadata": {},
     "output_type": "display_data"
    },
    {
     "name": "stdout",
     "output_type": "stream",
     "text": [
      "[1] \"Resultado\"\n"
     ]
    },
    {
     "data": {
      "text/html": [
       "<table>\n",
       "<tbody>\n",
       "\t<tr><td>0</td><td>0</td><td>0</td><td>0</td></tr>\n",
       "\t<tr><td>0</td><td>0</td><td>0</td><td>0</td></tr>\n",
       "\t<tr><td>0</td><td>0</td><td>0</td><td>0</td></tr>\n",
       "\t<tr><td>0</td><td>0</td><td>0</td><td>0</td></tr>\n",
       "</tbody>\n",
       "</table>\n"
      ],
      "text/latex": [
       "\\begin{tabular}{llll}\n",
       "\t 0 & 0 & 0 & 0\\\\\n",
       "\t 0 & 0 & 0 & 0\\\\\n",
       "\t 0 & 0 & 0 & 0\\\\\n",
       "\t 0 & 0 & 0 & 0\\\\\n",
       "\\end{tabular}\n"
      ],
      "text/markdown": [
       "\n",
       "| 0 | 0 | 0 | 0 | \n",
       "| 0 | 0 | 0 | 0 | \n",
       "| 0 | 0 | 0 | 0 | \n",
       "| 0 | 0 | 0 | 0 | \n",
       "\n",
       "\n"
      ],
      "text/plain": [
       "     [,1] [,2] [,3] [,4]\n",
       "[1,] 0    0    0    0   \n",
       "[2,] 0    0    0    0   \n",
       "[3,] 0    0    0    0   \n",
       "[4,] 0    0    0    0   "
      ]
     },
     "metadata": {},
     "output_type": "display_data"
    }
   ],
   "source": [
    " A <- diag( c(2,3,5,-1), nrow = 4) # matriz A \n",
    " print(\"Matriz A\")\n",
    " A\n",
    " I4 <- diag(1, nrow = 4) #matriz identidad de 4x4\n",
    " print(\"Matriz identidad de 4x4\")\n",
    " I4\n",
    " print(\"Resultado\")\n",
    " solve(A) %*% A - I4 # comprobación del resultado \n"
   ]
  },
  {
   "cell_type": "markdown",
   "metadata": {
    "collapsed": true
   },
   "source": [
    "8) Usa las funciones `matrix()`, `seq()` y `rep()` para construir la matrices de Hankel $5 \\times 5$."
   ]
  },
  {
   "cell_type": "code",
   "execution_count": 25,
   "metadata": {},
   "outputs": [
    {
     "name": "stdout",
     "output_type": "stream",
     "text": [
      "[1] \"Matriz Hankel 5x5\"\n"
     ]
    },
    {
     "data": {
      "text/html": [
       "<table>\n",
       "<tbody>\n",
       "\t<tr><td>1</td><td>2</td><td>3</td><td>4</td><td>5</td></tr>\n",
       "\t<tr><td>2</td><td>3</td><td>4</td><td>5</td><td>6</td></tr>\n",
       "\t<tr><td>3</td><td>4</td><td>5</td><td>6</td><td>7</td></tr>\n",
       "\t<tr><td>4</td><td>5</td><td>6</td><td>7</td><td>8</td></tr>\n",
       "\t<tr><td>5</td><td>6</td><td>7</td><td>8</td><td>9</td></tr>\n",
       "</tbody>\n",
       "</table>\n"
      ],
      "text/latex": [
       "\\begin{tabular}{lllll}\n",
       "\t 1 & 2 & 3 & 4 & 5\\\\\n",
       "\t 2 & 3 & 4 & 5 & 6\\\\\n",
       "\t 3 & 4 & 5 & 6 & 7\\\\\n",
       "\t 4 & 5 & 6 & 7 & 8\\\\\n",
       "\t 5 & 6 & 7 & 8 & 9\\\\\n",
       "\\end{tabular}\n"
      ],
      "text/markdown": [
       "\n",
       "| 1 | 2 | 3 | 4 | 5 | \n",
       "| 2 | 3 | 4 | 5 | 6 | \n",
       "| 3 | 4 | 5 | 6 | 7 | \n",
       "| 4 | 5 | 6 | 7 | 8 | \n",
       "| 5 | 6 | 7 | 8 | 9 | \n",
       "\n",
       "\n"
      ],
      "text/plain": [
       "     [,1] [,2] [,3] [,4] [,5]\n",
       "[1,] 1    2    3    4    5   \n",
       "[2,] 2    3    4    5    6   \n",
       "[3,] 3    4    5    6    7   \n",
       "[4,] 4    5    6    7    8   \n",
       "[5,] 5    6    7    8    9   "
      ]
     },
     "metadata": {},
     "output_type": "display_data"
    }
   ],
   "source": [
    "    p<- rep (1:5, 5) + rep(0:4,each = 5)\n",
    "    han <- matrix(p, nrow = 5, byrow = F)\n",
    "    print(\"Matriz Hankel 5x5\")\n",
    "    han"
   ]
  },
  {
   "attachments": {},
   "cell_type": "markdown",
   "metadata": {
    "collapsed": true
   },
   "source": [
    "* Convierte el código en una función que puede ser usado para construir matrices de dimensión $n \\times n$."
   ]
  },
  {
   "cell_type": "code",
   "execution_count": 34,
   "metadata": {},
   "outputs": [],
   "source": [
    "# Ingresamos una cadena de longitud r \n",
    "Matrix_Hankel <- function(m) {\n",
    "  n = (length(m) + 1 ) / 2\n",
    "  matriz <- matrix(m[rep(seq(1:n),n) + rep(seq(0,n-1), each = n )], nrow= n, byrow = F )\n",
    "  matriz\n",
    "}"
   ]
  },
  {
   "cell_type": "markdown",
   "metadata": {},
   "source": [
    "* Usa esa función para mostrar las salida de Matrices de Hankel de orden $10 \\times 10$ y $12 \\times 12$."
   ]
  },
  {
   "cell_type": "code",
   "execution_count": 38,
   "metadata": {},
   "outputs": [
    {
     "name": "stdout",
     "output_type": "stream",
     "text": [
      "[1] \"Matriz de Hankel 5x5\"\n"
     ]
    },
    {
     "data": {
      "text/html": [
       "<table>\n",
       "<tbody>\n",
       "\t<tr><td>1</td><td>2</td><td>3</td><td>4</td><td>5</td></tr>\n",
       "\t<tr><td>2</td><td>3</td><td>4</td><td>5</td><td>6</td></tr>\n",
       "\t<tr><td>3</td><td>4</td><td>5</td><td>6</td><td>7</td></tr>\n",
       "\t<tr><td>4</td><td>5</td><td>6</td><td>7</td><td>8</td></tr>\n",
       "\t<tr><td>5</td><td>6</td><td>7</td><td>8</td><td>9</td></tr>\n",
       "</tbody>\n",
       "</table>\n"
      ],
      "text/latex": [
       "\\begin{tabular}{lllll}\n",
       "\t 1 & 2 & 3 & 4 & 5\\\\\n",
       "\t 2 & 3 & 4 & 5 & 6\\\\\n",
       "\t 3 & 4 & 5 & 6 & 7\\\\\n",
       "\t 4 & 5 & 6 & 7 & 8\\\\\n",
       "\t 5 & 6 & 7 & 8 & 9\\\\\n",
       "\\end{tabular}\n"
      ],
      "text/markdown": [
       "\n",
       "| 1 | 2 | 3 | 4 | 5 | \n",
       "| 2 | 3 | 4 | 5 | 6 | \n",
       "| 3 | 4 | 5 | 6 | 7 | \n",
       "| 4 | 5 | 6 | 7 | 8 | \n",
       "| 5 | 6 | 7 | 8 | 9 | \n",
       "\n",
       "\n"
      ],
      "text/plain": [
       "     [,1] [,2] [,3] [,4] [,5]\n",
       "[1,] 1    2    3    4    5   \n",
       "[2,] 2    3    4    5    6   \n",
       "[3,] 3    4    5    6    7   \n",
       "[4,] 4    5    6    7    8   \n",
       "[5,] 5    6    7    8    9   "
      ]
     },
     "metadata": {},
     "output_type": "display_data"
    },
    {
     "name": "stdout",
     "output_type": "stream",
     "text": [
      "[1] \"Matriz de Hankel 10x10\"\n"
     ]
    },
    {
     "data": {
      "text/html": [
       "<table>\n",
       "<tbody>\n",
       "\t<tr><td> 6</td><td> 7</td><td> 8</td><td> 9</td><td>10</td><td>11</td><td>12</td><td>13</td><td>14</td><td>15</td></tr>\n",
       "\t<tr><td> 7</td><td> 8</td><td> 9</td><td>10</td><td>11</td><td>12</td><td>13</td><td>14</td><td>15</td><td>16</td></tr>\n",
       "\t<tr><td> 8</td><td> 9</td><td>10</td><td>11</td><td>12</td><td>13</td><td>14</td><td>15</td><td>16</td><td>17</td></tr>\n",
       "\t<tr><td> 9</td><td>10</td><td>11</td><td>12</td><td>13</td><td>14</td><td>15</td><td>16</td><td>17</td><td>18</td></tr>\n",
       "\t<tr><td>10</td><td>11</td><td>12</td><td>13</td><td>14</td><td>15</td><td>16</td><td>17</td><td>18</td><td>19</td></tr>\n",
       "\t<tr><td>11</td><td>12</td><td>13</td><td>14</td><td>15</td><td>16</td><td>17</td><td>18</td><td>19</td><td>20</td></tr>\n",
       "\t<tr><td>12</td><td>13</td><td>14</td><td>15</td><td>16</td><td>17</td><td>18</td><td>19</td><td>20</td><td>21</td></tr>\n",
       "\t<tr><td>13</td><td>14</td><td>15</td><td>16</td><td>17</td><td>18</td><td>19</td><td>20</td><td>21</td><td>22</td></tr>\n",
       "\t<tr><td>14</td><td>15</td><td>16</td><td>17</td><td>18</td><td>19</td><td>20</td><td>21</td><td>22</td><td>23</td></tr>\n",
       "\t<tr><td>15</td><td>16</td><td>17</td><td>18</td><td>19</td><td>20</td><td>21</td><td>22</td><td>23</td><td>24</td></tr>\n",
       "</tbody>\n",
       "</table>\n"
      ],
      "text/latex": [
       "\\begin{tabular}{llllllllll}\n",
       "\t  6 &  7 &  8 &  9 & 10 & 11 & 12 & 13 & 14 & 15\\\\\n",
       "\t  7 &  8 &  9 & 10 & 11 & 12 & 13 & 14 & 15 & 16\\\\\n",
       "\t  8 &  9 & 10 & 11 & 12 & 13 & 14 & 15 & 16 & 17\\\\\n",
       "\t  9 & 10 & 11 & 12 & 13 & 14 & 15 & 16 & 17 & 18\\\\\n",
       "\t 10 & 11 & 12 & 13 & 14 & 15 & 16 & 17 & 18 & 19\\\\\n",
       "\t 11 & 12 & 13 & 14 & 15 & 16 & 17 & 18 & 19 & 20\\\\\n",
       "\t 12 & 13 & 14 & 15 & 16 & 17 & 18 & 19 & 20 & 21\\\\\n",
       "\t 13 & 14 & 15 & 16 & 17 & 18 & 19 & 20 & 21 & 22\\\\\n",
       "\t 14 & 15 & 16 & 17 & 18 & 19 & 20 & 21 & 22 & 23\\\\\n",
       "\t 15 & 16 & 17 & 18 & 19 & 20 & 21 & 22 & 23 & 24\\\\\n",
       "\\end{tabular}\n"
      ],
      "text/markdown": [
       "\n",
       "|  6 |  7 |  8 |  9 | 10 | 11 | 12 | 13 | 14 | 15 | \n",
       "|  7 |  8 |  9 | 10 | 11 | 12 | 13 | 14 | 15 | 16 | \n",
       "|  8 |  9 | 10 | 11 | 12 | 13 | 14 | 15 | 16 | 17 | \n",
       "|  9 | 10 | 11 | 12 | 13 | 14 | 15 | 16 | 17 | 18 | \n",
       "| 10 | 11 | 12 | 13 | 14 | 15 | 16 | 17 | 18 | 19 | \n",
       "| 11 | 12 | 13 | 14 | 15 | 16 | 17 | 18 | 19 | 20 | \n",
       "| 12 | 13 | 14 | 15 | 16 | 17 | 18 | 19 | 20 | 21 | \n",
       "| 13 | 14 | 15 | 16 | 17 | 18 | 19 | 20 | 21 | 22 | \n",
       "| 14 | 15 | 16 | 17 | 18 | 19 | 20 | 21 | 22 | 23 | \n",
       "| 15 | 16 | 17 | 18 | 19 | 20 | 21 | 22 | 23 | 24 | \n",
       "\n",
       "\n"
      ],
      "text/plain": [
       "      [,1] [,2] [,3] [,4] [,5] [,6] [,7] [,8] [,9] [,10]\n",
       " [1,]  6    7    8    9   10   11   12   13   14   15   \n",
       " [2,]  7    8    9   10   11   12   13   14   15   16   \n",
       " [3,]  8    9   10   11   12   13   14   15   16   17   \n",
       " [4,]  9   10   11   12   13   14   15   16   17   18   \n",
       " [5,] 10   11   12   13   14   15   16   17   18   19   \n",
       " [6,] 11   12   13   14   15   16   17   18   19   20   \n",
       " [7,] 12   13   14   15   16   17   18   19   20   21   \n",
       " [8,] 13   14   15   16   17   18   19   20   21   22   \n",
       " [9,] 14   15   16   17   18   19   20   21   22   23   \n",
       "[10,] 15   16   17   18   19   20   21   22   23   24   "
      ]
     },
     "metadata": {},
     "output_type": "display_data"
    },
    {
     "name": "stdout",
     "output_type": "stream",
     "text": [
      "[1] \"Matriz de Hankel 12x12\"\n"
     ]
    },
    {
     "data": {
      "text/html": [
       "<table>\n",
       "<tbody>\n",
       "\t<tr><td>34</td><td>35</td><td>36</td><td>37</td><td>38</td><td>39</td><td>40</td><td>41</td><td>42</td><td>43</td><td>44</td><td>45</td></tr>\n",
       "\t<tr><td>35</td><td>36</td><td>37</td><td>38</td><td>39</td><td>40</td><td>41</td><td>42</td><td>43</td><td>44</td><td>45</td><td>46</td></tr>\n",
       "\t<tr><td>36</td><td>37</td><td>38</td><td>39</td><td>40</td><td>41</td><td>42</td><td>43</td><td>44</td><td>45</td><td>46</td><td>47</td></tr>\n",
       "\t<tr><td>37</td><td>38</td><td>39</td><td>40</td><td>41</td><td>42</td><td>43</td><td>44</td><td>45</td><td>46</td><td>47</td><td>48</td></tr>\n",
       "\t<tr><td>38</td><td>39</td><td>40</td><td>41</td><td>42</td><td>43</td><td>44</td><td>45</td><td>46</td><td>47</td><td>48</td><td>49</td></tr>\n",
       "\t<tr><td>39</td><td>40</td><td>41</td><td>42</td><td>43</td><td>44</td><td>45</td><td>46</td><td>47</td><td>48</td><td>49</td><td>50</td></tr>\n",
       "\t<tr><td>40</td><td>41</td><td>42</td><td>43</td><td>44</td><td>45</td><td>46</td><td>47</td><td>48</td><td>49</td><td>50</td><td>51</td></tr>\n",
       "\t<tr><td>41</td><td>42</td><td>43</td><td>44</td><td>45</td><td>46</td><td>47</td><td>48</td><td>49</td><td>50</td><td>51</td><td>52</td></tr>\n",
       "\t<tr><td>42</td><td>43</td><td>44</td><td>45</td><td>46</td><td>47</td><td>48</td><td>49</td><td>50</td><td>51</td><td>52</td><td>53</td></tr>\n",
       "\t<tr><td>43</td><td>44</td><td>45</td><td>46</td><td>47</td><td>48</td><td>49</td><td>50</td><td>51</td><td>52</td><td>53</td><td>54</td></tr>\n",
       "\t<tr><td>44</td><td>45</td><td>46</td><td>47</td><td>48</td><td>49</td><td>50</td><td>51</td><td>52</td><td>53</td><td>54</td><td>55</td></tr>\n",
       "\t<tr><td>45</td><td>46</td><td>47</td><td>48</td><td>49</td><td>50</td><td>51</td><td>52</td><td>53</td><td>54</td><td>55</td><td>56</td></tr>\n",
       "</tbody>\n",
       "</table>\n"
      ],
      "text/latex": [
       "\\begin{tabular}{llllllllllll}\n",
       "\t 34 & 35 & 36 & 37 & 38 & 39 & 40 & 41 & 42 & 43 & 44 & 45\\\\\n",
       "\t 35 & 36 & 37 & 38 & 39 & 40 & 41 & 42 & 43 & 44 & 45 & 46\\\\\n",
       "\t 36 & 37 & 38 & 39 & 40 & 41 & 42 & 43 & 44 & 45 & 46 & 47\\\\\n",
       "\t 37 & 38 & 39 & 40 & 41 & 42 & 43 & 44 & 45 & 46 & 47 & 48\\\\\n",
       "\t 38 & 39 & 40 & 41 & 42 & 43 & 44 & 45 & 46 & 47 & 48 & 49\\\\\n",
       "\t 39 & 40 & 41 & 42 & 43 & 44 & 45 & 46 & 47 & 48 & 49 & 50\\\\\n",
       "\t 40 & 41 & 42 & 43 & 44 & 45 & 46 & 47 & 48 & 49 & 50 & 51\\\\\n",
       "\t 41 & 42 & 43 & 44 & 45 & 46 & 47 & 48 & 49 & 50 & 51 & 52\\\\\n",
       "\t 42 & 43 & 44 & 45 & 46 & 47 & 48 & 49 & 50 & 51 & 52 & 53\\\\\n",
       "\t 43 & 44 & 45 & 46 & 47 & 48 & 49 & 50 & 51 & 52 & 53 & 54\\\\\n",
       "\t 44 & 45 & 46 & 47 & 48 & 49 & 50 & 51 & 52 & 53 & 54 & 55\\\\\n",
       "\t 45 & 46 & 47 & 48 & 49 & 50 & 51 & 52 & 53 & 54 & 55 & 56\\\\\n",
       "\\end{tabular}\n"
      ],
      "text/markdown": [
       "\n",
       "| 34 | 35 | 36 | 37 | 38 | 39 | 40 | 41 | 42 | 43 | 44 | 45 | \n",
       "| 35 | 36 | 37 | 38 | 39 | 40 | 41 | 42 | 43 | 44 | 45 | 46 | \n",
       "| 36 | 37 | 38 | 39 | 40 | 41 | 42 | 43 | 44 | 45 | 46 | 47 | \n",
       "| 37 | 38 | 39 | 40 | 41 | 42 | 43 | 44 | 45 | 46 | 47 | 48 | \n",
       "| 38 | 39 | 40 | 41 | 42 | 43 | 44 | 45 | 46 | 47 | 48 | 49 | \n",
       "| 39 | 40 | 41 | 42 | 43 | 44 | 45 | 46 | 47 | 48 | 49 | 50 | \n",
       "| 40 | 41 | 42 | 43 | 44 | 45 | 46 | 47 | 48 | 49 | 50 | 51 | \n",
       "| 41 | 42 | 43 | 44 | 45 | 46 | 47 | 48 | 49 | 50 | 51 | 52 | \n",
       "| 42 | 43 | 44 | 45 | 46 | 47 | 48 | 49 | 50 | 51 | 52 | 53 | \n",
       "| 43 | 44 | 45 | 46 | 47 | 48 | 49 | 50 | 51 | 52 | 53 | 54 | \n",
       "| 44 | 45 | 46 | 47 | 48 | 49 | 50 | 51 | 52 | 53 | 54 | 55 | \n",
       "| 45 | 46 | 47 | 48 | 49 | 50 | 51 | 52 | 53 | 54 | 55 | 56 | \n",
       "\n",
       "\n"
      ],
      "text/plain": [
       "      [,1] [,2] [,3] [,4] [,5] [,6] [,7] [,8] [,9] [,10] [,11] [,12]\n",
       " [1,] 34   35   36   37   38   39   40   41   42   43    44    45   \n",
       " [2,] 35   36   37   38   39   40   41   42   43   44    45    46   \n",
       " [3,] 36   37   38   39   40   41   42   43   44   45    46    47   \n",
       " [4,] 37   38   39   40   41   42   43   44   45   46    47    48   \n",
       " [5,] 38   39   40   41   42   43   44   45   46   47    48    49   \n",
       " [6,] 39   40   41   42   43   44   45   46   47   48    49    50   \n",
       " [7,] 40   41   42   43   44   45   46   47   48   49    50    51   \n",
       " [8,] 41   42   43   44   45   46   47   48   49   50    51    52   \n",
       " [9,] 42   43   44   45   46   47   48   49   50   51    52    53   \n",
       "[10,] 43   44   45   46   47   48   49   50   51   52    53    54   \n",
       "[11,] 44   45   46   47   48   49   50   51   52   53    54    55   \n",
       "[12,] 45   46   47   48   49   50   51   52   53   54    55    56   "
      ]
     },
     "metadata": {},
     "output_type": "display_data"
    }
   ],
   "source": [
    "# Matriz Hankel 5x5 \n",
    "\n",
    "MH5 <- c(1,2,3,4,5,6,7,8,9)\n",
    "print(\"Matriz de Hankel 5x5\")\n",
    "Matrix_Hankel(MH5)\n",
    "\n",
    "MH10 <- 6:24\n",
    "print(\"Matriz de Hankel 10x10\")\n",
    "Matrix_Hankel(MH10)\n",
    "\n",
    "MH12 <- 34:56\n",
    "print(\"Matriz de Hankel 12x12\")\n",
    "Matrix_Hankel(MH12)"
   ]
  },
  {
   "attachments": {},
   "cell_type": "markdown",
   "metadata": {},
   "source": [
    "9) La matriz de Hilbert $n \\times n$ tiene a los elementos $(i,j)$ dados por $1/(i + j-1)$.  \n",
    "\n",
    "* Escribe una función que muestra una matriz de Hilbert $n \\times n$ como salida para entero positivo $n$."
   ]
  },
  {
   "cell_type": "code",
   "execution_count": 43,
   "metadata": {},
   "outputs": [
    {
     "name": "stdout",
     "output_type": "stream",
     "text": [
      "[1] \"Matriz Hilbert 4x4\"\n"
     ]
    },
    {
     "data": {
      "text/html": [
       "<table>\n",
       "<tbody>\n",
       "\t<tr><td>1.0000000</td><td>0.5000000</td><td>0.3333333</td><td>0.2500000</td></tr>\n",
       "\t<tr><td>0.5000000</td><td>0.3333333</td><td>0.2500000</td><td>0.2000000</td></tr>\n",
       "\t<tr><td>0.3333333</td><td>0.2500000</td><td>0.2000000</td><td>0.1666667</td></tr>\n",
       "\t<tr><td>0.2500000</td><td>0.2000000</td><td>0.1666667</td><td>0.1428571</td></tr>\n",
       "</tbody>\n",
       "</table>\n"
      ],
      "text/latex": [
       "\\begin{tabular}{llll}\n",
       "\t 1.0000000 & 0.5000000 & 0.3333333 & 0.2500000\\\\\n",
       "\t 0.5000000 & 0.3333333 & 0.2500000 & 0.2000000\\\\\n",
       "\t 0.3333333 & 0.2500000 & 0.2000000 & 0.1666667\\\\\n",
       "\t 0.2500000 & 0.2000000 & 0.1666667 & 0.1428571\\\\\n",
       "\\end{tabular}\n"
      ],
      "text/markdown": [
       "\n",
       "| 1.0000000 | 0.5000000 | 0.3333333 | 0.2500000 | \n",
       "| 0.5000000 | 0.3333333 | 0.2500000 | 0.2000000 | \n",
       "| 0.3333333 | 0.2500000 | 0.2000000 | 0.1666667 | \n",
       "| 0.2500000 | 0.2000000 | 0.1666667 | 0.1428571 | \n",
       "\n",
       "\n"
      ],
      "text/plain": [
       "     [,1]      [,2]      [,3]      [,4]     \n",
       "[1,] 1.0000000 0.5000000 0.3333333 0.2500000\n",
       "[2,] 0.5000000 0.3333333 0.2500000 0.2000000\n",
       "[3,] 0.3333333 0.2500000 0.2000000 0.1666667\n",
       "[4,] 0.2500000 0.2000000 0.1666667 0.1428571"
      ]
     },
     "metadata": {},
     "output_type": "display_data"
    }
   ],
   "source": [
    "# Matriz Hilbert \n",
    "# n es la dimension de la matriz \n",
    "  hilbert <- function(n){ \n",
    "      i<- 1:n ; \n",
    "      1/ outer(i-1,i,\"+\")  \n",
    "  }\n",
    "\n",
    "print(\"Matriz Hilbert 4x4\")\n",
    "hilbert(4)"
   ]
  },
  {
   "cell_type": "markdown",
   "metadata": {},
   "source": [
    " * ¿Son todas las matrices de Hilbert invertibles?  \n",
    " \n",
    " Sí, ya que al calcular su inversa siempre saldrán valores de tipo entero, aunque a veces se debe redondear. "
   ]
  },
  {
   "cell_type": "markdown",
   "metadata": {},
   "source": [
    "* Usa solve() y qr.solve() para calcular la inversa de las matrices Hilbert, por ejemplo, cuando $n = 10$."
   ]
  },
  {
   "cell_type": "code",
   "execution_count": 48,
   "metadata": {},
   "outputs": [
    {
     "name": "stdout",
     "output_type": "stream",
     "text": [
      "[1] \"Usando solve para una matriz de Hilbert de dimensión 10x10\"\n"
     ]
    },
    {
     "data": {
      "text/html": [
       "<table>\n",
       "<tbody>\n",
       "\t<tr><td> 9.999719e+01</td><td>-4.949757e+03</td><td> 7.919482e+04</td><td>-6.005529e+05</td><td>      2522295</td><td>-6.305682e+06</td><td> 9.608586e+06</td><td>-8.750620e+06</td><td> 4.375286e+06</td><td>-9.236669e+05</td></tr>\n",
       "\t<tr><td>-4.949756e+03</td><td> 3.266790e+05</td><td>-5.880152e+06</td><td> 4.756344e+07</td><td>   -208088462</td><td> 5.350812e+08</td><td>-8.323439e+08</td><td> 7.700561e+08</td><td>-3.898393e+08</td><td> 8.313042e+07</td></tr>\n",
       "\t<tr><td> 7.919480e+04</td><td>-5.880151e+06</td><td> 1.128980e+08</td><td>-9.512635e+08</td><td>   4280662450</td><td>-1.123669e+10</td><td> 1.775667e+10</td><td>-1.663324e+10</td><td> 8.505608e+09</td><td>-1.828876e+09</td></tr>\n",
       "\t<tr><td>-6.005527e+05</td><td> 4.756343e+07</td><td>-9.512634e+08</td><td> 8.244246e+09</td><td> -37871868827</td><td> 1.009913e+11</td><td>-1.615857e+11</td><td> 1.528915e+11</td><td>-7.883455e+10</td><td> 1.706956e+10</td></tr>\n",
       "\t<tr><td> 2.522294e+06</td><td>-2.080884e+08</td><td> 4.280662e+09</td><td>-3.787187e+10</td><td> 176734991839</td><td>-4.771836e+11</td><td> 7.712047e+11</td><td>-7.357912e+11</td><td> 3.820450e+11</td><td>-8.321430e+10</td></tr>\n",
       "\t<tr><td>-6.305679e+06</td><td> 5.350810e+08</td><td>-1.123668e+10</td><td> 1.009913e+11</td><td>-477183582308</td><td> 1.301409e+12</td><td>-2.120813e+12</td><td> 2.037577e+12</td><td>-1.064270e+12</td><td> 2.330005e+11</td></tr>\n",
       "\t<tr><td> 9.608580e+06</td><td>-8.323436e+08</td><td> 1.775667e+10</td><td>-1.615857e+11</td><td> 771204559101</td><td>-2.120813e+12</td><td> 3.480308e+12</td><td>-3.363622e+12</td><td> 1.765901e+12</td><td>-3.883348e+11</td></tr>\n",
       "\t<tr><td>-8.750614e+06</td><td> 7.700557e+08</td><td>-1.663323e+10</td><td> 1.528915e+11</td><td>-735791094422</td><td> 2.037577e+12</td><td>-3.363622e+12</td><td> 3.267520e+12</td><td>-1.723107e+12</td><td> 3.804102e+11</td></tr>\n",
       "\t<tr><td> 4.375282e+06</td><td>-3.898391e+08</td><td> 8.505604e+09</td><td>-7.883452e+10</td><td> 382044919568</td><td>-1.064270e+12</td><td> 1.765901e+12</td><td>-1.723107e+12</td><td> 9.122340e+11</td><td>-2.020931e+11</td></tr>\n",
       "\t<tr><td>-9.236661e+05</td><td> 8.313037e+07</td><td>-1.828875e+09</td><td> 1.706955e+10</td><td> -83214282335</td><td> 2.330005e+11</td><td>-3.883348e+11</td><td> 3.804101e+11</td><td>-2.020931e+11</td><td> 4.490964e+10</td></tr>\n",
       "</tbody>\n",
       "</table>\n"
      ],
      "text/latex": [
       "\\begin{tabular}{llllllllll}\n",
       "\t  9.999719e+01 & -4.949757e+03 &  7.919482e+04 & -6.005529e+05 &       2522295 & -6.305682e+06 &  9.608586e+06 & -8.750620e+06 &  4.375286e+06 & -9.236669e+05\\\\\n",
       "\t -4.949756e+03 &  3.266790e+05 & -5.880152e+06 &  4.756344e+07 &    -208088462 &  5.350812e+08 & -8.323439e+08 &  7.700561e+08 & -3.898393e+08 &  8.313042e+07\\\\\n",
       "\t  7.919480e+04 & -5.880151e+06 &  1.128980e+08 & -9.512635e+08 &    4280662450 & -1.123669e+10 &  1.775667e+10 & -1.663324e+10 &  8.505608e+09 & -1.828876e+09\\\\\n",
       "\t -6.005527e+05 &  4.756343e+07 & -9.512634e+08 &  8.244246e+09 &  -37871868827 &  1.009913e+11 & -1.615857e+11 &  1.528915e+11 & -7.883455e+10 &  1.706956e+10\\\\\n",
       "\t  2.522294e+06 & -2.080884e+08 &  4.280662e+09 & -3.787187e+10 &  176734991839 & -4.771836e+11 &  7.712047e+11 & -7.357912e+11 &  3.820450e+11 & -8.321430e+10\\\\\n",
       "\t -6.305679e+06 &  5.350810e+08 & -1.123668e+10 &  1.009913e+11 & -477183582308 &  1.301409e+12 & -2.120813e+12 &  2.037577e+12 & -1.064270e+12 &  2.330005e+11\\\\\n",
       "\t  9.608580e+06 & -8.323436e+08 &  1.775667e+10 & -1.615857e+11 &  771204559101 & -2.120813e+12 &  3.480308e+12 & -3.363622e+12 &  1.765901e+12 & -3.883348e+11\\\\\n",
       "\t -8.750614e+06 &  7.700557e+08 & -1.663323e+10 &  1.528915e+11 & -735791094422 &  2.037577e+12 & -3.363622e+12 &  3.267520e+12 & -1.723107e+12 &  3.804102e+11\\\\\n",
       "\t  4.375282e+06 & -3.898391e+08 &  8.505604e+09 & -7.883452e+10 &  382044919568 & -1.064270e+12 &  1.765901e+12 & -1.723107e+12 &  9.122340e+11 & -2.020931e+11\\\\\n",
       "\t -9.236661e+05 &  8.313037e+07 & -1.828875e+09 &  1.706955e+10 &  -83214282335 &  2.330005e+11 & -3.883348e+11 &  3.804101e+11 & -2.020931e+11 &  4.490964e+10\\\\\n",
       "\\end{tabular}\n"
      ],
      "text/markdown": [
       "\n",
       "|  9.999719e+01 | -4.949757e+03 |  7.919482e+04 | -6.005529e+05 |       2522295 | -6.305682e+06 |  9.608586e+06 | -8.750620e+06 |  4.375286e+06 | -9.236669e+05 | \n",
       "| -4.949756e+03 |  3.266790e+05 | -5.880152e+06 |  4.756344e+07 |    -208088462 |  5.350812e+08 | -8.323439e+08 |  7.700561e+08 | -3.898393e+08 |  8.313042e+07 | \n",
       "|  7.919480e+04 | -5.880151e+06 |  1.128980e+08 | -9.512635e+08 |    4280662450 | -1.123669e+10 |  1.775667e+10 | -1.663324e+10 |  8.505608e+09 | -1.828876e+09 | \n",
       "| -6.005527e+05 |  4.756343e+07 | -9.512634e+08 |  8.244246e+09 |  -37871868827 |  1.009913e+11 | -1.615857e+11 |  1.528915e+11 | -7.883455e+10 |  1.706956e+10 | \n",
       "|  2.522294e+06 | -2.080884e+08 |  4.280662e+09 | -3.787187e+10 |  176734991839 | -4.771836e+11 |  7.712047e+11 | -7.357912e+11 |  3.820450e+11 | -8.321430e+10 | \n",
       "| -6.305679e+06 |  5.350810e+08 | -1.123668e+10 |  1.009913e+11 | -477183582308 |  1.301409e+12 | -2.120813e+12 |  2.037577e+12 | -1.064270e+12 |  2.330005e+11 | \n",
       "|  9.608580e+06 | -8.323436e+08 |  1.775667e+10 | -1.615857e+11 |  771204559101 | -2.120813e+12 |  3.480308e+12 | -3.363622e+12 |  1.765901e+12 | -3.883348e+11 | \n",
       "| -8.750614e+06 |  7.700557e+08 | -1.663323e+10 |  1.528915e+11 | -735791094422 |  2.037577e+12 | -3.363622e+12 |  3.267520e+12 | -1.723107e+12 |  3.804102e+11 | \n",
       "|  4.375282e+06 | -3.898391e+08 |  8.505604e+09 | -7.883452e+10 |  382044919568 | -1.064270e+12 |  1.765901e+12 | -1.723107e+12 |  9.122340e+11 | -2.020931e+11 | \n",
       "| -9.236661e+05 |  8.313037e+07 | -1.828875e+09 |  1.706955e+10 |  -83214282335 |  2.330005e+11 | -3.883348e+11 |  3.804101e+11 | -2.020931e+11 |  4.490964e+10 | \n",
       "\n",
       "\n"
      ],
      "text/plain": [
       "      [,1]          [,2]          [,3]          [,4]          [,5]         \n",
       " [1,]  9.999719e+01 -4.949757e+03  7.919482e+04 -6.005529e+05       2522295\n",
       " [2,] -4.949756e+03  3.266790e+05 -5.880152e+06  4.756344e+07    -208088462\n",
       " [3,]  7.919480e+04 -5.880151e+06  1.128980e+08 -9.512635e+08    4280662450\n",
       " [4,] -6.005527e+05  4.756343e+07 -9.512634e+08  8.244246e+09  -37871868827\n",
       " [5,]  2.522294e+06 -2.080884e+08  4.280662e+09 -3.787187e+10  176734991839\n",
       " [6,] -6.305679e+06  5.350810e+08 -1.123668e+10  1.009913e+11 -477183582308\n",
       " [7,]  9.608580e+06 -8.323436e+08  1.775667e+10 -1.615857e+11  771204559101\n",
       " [8,] -8.750614e+06  7.700557e+08 -1.663323e+10  1.528915e+11 -735791094422\n",
       " [9,]  4.375282e+06 -3.898391e+08  8.505604e+09 -7.883452e+10  382044919568\n",
       "[10,] -9.236661e+05  8.313037e+07 -1.828875e+09  1.706955e+10  -83214282335\n",
       "      [,6]          [,7]          [,8]          [,9]          [,10]        \n",
       " [1,] -6.305682e+06  9.608586e+06 -8.750620e+06  4.375286e+06 -9.236669e+05\n",
       " [2,]  5.350812e+08 -8.323439e+08  7.700561e+08 -3.898393e+08  8.313042e+07\n",
       " [3,] -1.123669e+10  1.775667e+10 -1.663324e+10  8.505608e+09 -1.828876e+09\n",
       " [4,]  1.009913e+11 -1.615857e+11  1.528915e+11 -7.883455e+10  1.706956e+10\n",
       " [5,] -4.771836e+11  7.712047e+11 -7.357912e+11  3.820450e+11 -8.321430e+10\n",
       " [6,]  1.301409e+12 -2.120813e+12  2.037577e+12 -1.064270e+12  2.330005e+11\n",
       " [7,] -2.120813e+12  3.480308e+12 -3.363622e+12  1.765901e+12 -3.883348e+11\n",
       " [8,]  2.037577e+12 -3.363622e+12  3.267520e+12 -1.723107e+12  3.804102e+11\n",
       " [9,] -1.064270e+12  1.765901e+12 -1.723107e+12  9.122340e+11 -2.020931e+11\n",
       "[10,]  2.330005e+11 -3.883348e+11  3.804101e+11 -2.020931e+11  4.490964e+10"
      ]
     },
     "metadata": {},
     "output_type": "display_data"
    },
    {
     "name": "stdout",
     "output_type": "stream",
     "text": [
      "[1] \"Usando qr.solve para una matriz de Hilbert de dimensión 10x10\"\n"
     ]
    },
    {
     "data": {
      "text/html": [
       "<table>\n",
       "<tbody>\n",
       "\t<tr><td> 9.999763e+01</td><td>-4.949796e+03</td><td> 7.919566e+04</td><td>-6.005606e+05</td><td>      2522332</td><td>-6.305784e+06</td><td> 9.608755e+06</td><td>-8.750784e+06</td><td> 4.375372e+06</td><td>-9.236858e+05</td></tr>\n",
       "\t<tr><td>-4.949794e+03</td><td> 3.266822e+05</td><td>-5.880222e+06</td><td> 4.756409e+07</td><td>   -208091541</td><td> 5.350897e+08</td><td>-8.323580e+08</td><td> 7.700697e+08</td><td>-3.898465e+08</td><td> 8.313200e+07</td></tr>\n",
       "\t<tr><td> 7.919557e+04</td><td>-5.880218e+06</td><td> 1.128994e+08</td><td>-9.512768e+08</td><td>   4280726081</td><td>-1.123686e+10</td><td> 1.775696e+10</td><td>-1.663352e+10</td><td> 8.505756e+09</td><td>-1.828909e+09</td></tr>\n",
       "\t<tr><td>-6.005595e+05</td><td> 4.756403e+07</td><td>-9.512762e+08</td><td> 8.244364e+09</td><td> -37872432943</td><td> 1.009929e+11</td><td>-1.615883e+11</td><td> 1.528940e+11</td><td>-7.883586e+10</td><td> 1.706985e+10</td></tr>\n",
       "\t<tr><td> 2.522326e+06</td><td>-2.080912e+08</td><td> 4.280722e+09</td><td>-3.787241e+10</td><td> 176737626224</td><td>-4.771909e+11</td><td> 7.712167e+11</td><td>-7.358029e+11</td><td> 3.820511e+11</td><td>-8.321566e+10</td></tr>\n",
       "\t<tr><td>-6.305764e+06</td><td> 5.350885e+08</td><td>-1.123685e+10</td><td> 1.009928e+11</td><td>-477190694526</td><td> 1.301428e+12</td><td>-2.120845e+12</td><td> 2.037609e+12</td><td>-1.064286e+12</td><td> 2.330042e+11</td></tr>\n",
       "\t<tr><td> 9.608718e+06</td><td>-8.323557e+08</td><td> 1.775693e+10</td><td>-1.615881e+11</td><td> 771216047252</td><td>-2.120844e+12</td><td> 3.480361e+12</td><td>-3.363673e+12</td><td> 1.765928e+12</td><td>-3.883407e+11</td></tr>\n",
       "\t<tr><td>-8.750745e+06</td><td> 7.700672e+08</td><td>-1.663348e+10</td><td> 1.528938e+11</td><td>-735802046037</td><td> 2.037607e+12</td><td>-3.363671e+12</td><td> 3.267568e+12</td><td>-1.723133e+12</td><td> 3.804158e+11</td></tr>\n",
       "\t<tr><td> 4.375350e+06</td><td>-3.898451e+08</td><td> 8.505733e+09</td><td>-7.883571e+10</td><td> 382050600435</td><td>-1.064285e+12</td><td> 1.765927e+12</td><td>-1.723132e+12</td><td> 9.122472e+11</td><td>-2.020961e+11</td></tr>\n",
       "\t<tr><td>-9.236809e+05</td><td> 8.313167e+07</td><td>-1.828903e+09</td><td> 1.706981e+10</td><td> -83215518397</td><td> 2.330039e+11</td><td>-3.883404e+11</td><td> 3.804156e+11</td><td>-2.020960e+11</td><td> 4.491027e+10</td></tr>\n",
       "</tbody>\n",
       "</table>\n"
      ],
      "text/latex": [
       "\\begin{tabular}{llllllllll}\n",
       "\t  9.999763e+01 & -4.949796e+03 &  7.919566e+04 & -6.005606e+05 &       2522332 & -6.305784e+06 &  9.608755e+06 & -8.750784e+06 &  4.375372e+06 & -9.236858e+05\\\\\n",
       "\t -4.949794e+03 &  3.266822e+05 & -5.880222e+06 &  4.756409e+07 &    -208091541 &  5.350897e+08 & -8.323580e+08 &  7.700697e+08 & -3.898465e+08 &  8.313200e+07\\\\\n",
       "\t  7.919557e+04 & -5.880218e+06 &  1.128994e+08 & -9.512768e+08 &    4280726081 & -1.123686e+10 &  1.775696e+10 & -1.663352e+10 &  8.505756e+09 & -1.828909e+09\\\\\n",
       "\t -6.005595e+05 &  4.756403e+07 & -9.512762e+08 &  8.244364e+09 &  -37872432943 &  1.009929e+11 & -1.615883e+11 &  1.528940e+11 & -7.883586e+10 &  1.706985e+10\\\\\n",
       "\t  2.522326e+06 & -2.080912e+08 &  4.280722e+09 & -3.787241e+10 &  176737626224 & -4.771909e+11 &  7.712167e+11 & -7.358029e+11 &  3.820511e+11 & -8.321566e+10\\\\\n",
       "\t -6.305764e+06 &  5.350885e+08 & -1.123685e+10 &  1.009928e+11 & -477190694526 &  1.301428e+12 & -2.120845e+12 &  2.037609e+12 & -1.064286e+12 &  2.330042e+11\\\\\n",
       "\t  9.608718e+06 & -8.323557e+08 &  1.775693e+10 & -1.615881e+11 &  771216047252 & -2.120844e+12 &  3.480361e+12 & -3.363673e+12 &  1.765928e+12 & -3.883407e+11\\\\\n",
       "\t -8.750745e+06 &  7.700672e+08 & -1.663348e+10 &  1.528938e+11 & -735802046037 &  2.037607e+12 & -3.363671e+12 &  3.267568e+12 & -1.723133e+12 &  3.804158e+11\\\\\n",
       "\t  4.375350e+06 & -3.898451e+08 &  8.505733e+09 & -7.883571e+10 &  382050600435 & -1.064285e+12 &  1.765927e+12 & -1.723132e+12 &  9.122472e+11 & -2.020961e+11\\\\\n",
       "\t -9.236809e+05 &  8.313167e+07 & -1.828903e+09 &  1.706981e+10 &  -83215518397 &  2.330039e+11 & -3.883404e+11 &  3.804156e+11 & -2.020960e+11 &  4.491027e+10\\\\\n",
       "\\end{tabular}\n"
      ],
      "text/markdown": [
       "\n",
       "|  9.999763e+01 | -4.949796e+03 |  7.919566e+04 | -6.005606e+05 |       2522332 | -6.305784e+06 |  9.608755e+06 | -8.750784e+06 |  4.375372e+06 | -9.236858e+05 | \n",
       "| -4.949794e+03 |  3.266822e+05 | -5.880222e+06 |  4.756409e+07 |    -208091541 |  5.350897e+08 | -8.323580e+08 |  7.700697e+08 | -3.898465e+08 |  8.313200e+07 | \n",
       "|  7.919557e+04 | -5.880218e+06 |  1.128994e+08 | -9.512768e+08 |    4280726081 | -1.123686e+10 |  1.775696e+10 | -1.663352e+10 |  8.505756e+09 | -1.828909e+09 | \n",
       "| -6.005595e+05 |  4.756403e+07 | -9.512762e+08 |  8.244364e+09 |  -37872432943 |  1.009929e+11 | -1.615883e+11 |  1.528940e+11 | -7.883586e+10 |  1.706985e+10 | \n",
       "|  2.522326e+06 | -2.080912e+08 |  4.280722e+09 | -3.787241e+10 |  176737626224 | -4.771909e+11 |  7.712167e+11 | -7.358029e+11 |  3.820511e+11 | -8.321566e+10 | \n",
       "| -6.305764e+06 |  5.350885e+08 | -1.123685e+10 |  1.009928e+11 | -477190694526 |  1.301428e+12 | -2.120845e+12 |  2.037609e+12 | -1.064286e+12 |  2.330042e+11 | \n",
       "|  9.608718e+06 | -8.323557e+08 |  1.775693e+10 | -1.615881e+11 |  771216047252 | -2.120844e+12 |  3.480361e+12 | -3.363673e+12 |  1.765928e+12 | -3.883407e+11 | \n",
       "| -8.750745e+06 |  7.700672e+08 | -1.663348e+10 |  1.528938e+11 | -735802046037 |  2.037607e+12 | -3.363671e+12 |  3.267568e+12 | -1.723133e+12 |  3.804158e+11 | \n",
       "|  4.375350e+06 | -3.898451e+08 |  8.505733e+09 | -7.883571e+10 |  382050600435 | -1.064285e+12 |  1.765927e+12 | -1.723132e+12 |  9.122472e+11 | -2.020961e+11 | \n",
       "| -9.236809e+05 |  8.313167e+07 | -1.828903e+09 |  1.706981e+10 |  -83215518397 |  2.330039e+11 | -3.883404e+11 |  3.804156e+11 | -2.020960e+11 |  4.491027e+10 | \n",
       "\n",
       "\n"
      ],
      "text/plain": [
       "      [,1]          [,2]          [,3]          [,4]          [,5]         \n",
       " [1,]  9.999763e+01 -4.949796e+03  7.919566e+04 -6.005606e+05       2522332\n",
       " [2,] -4.949794e+03  3.266822e+05 -5.880222e+06  4.756409e+07    -208091541\n",
       " [3,]  7.919557e+04 -5.880218e+06  1.128994e+08 -9.512768e+08    4280726081\n",
       " [4,] -6.005595e+05  4.756403e+07 -9.512762e+08  8.244364e+09  -37872432943\n",
       " [5,]  2.522326e+06 -2.080912e+08  4.280722e+09 -3.787241e+10  176737626224\n",
       " [6,] -6.305764e+06  5.350885e+08 -1.123685e+10  1.009928e+11 -477190694526\n",
       " [7,]  9.608718e+06 -8.323557e+08  1.775693e+10 -1.615881e+11  771216047252\n",
       " [8,] -8.750745e+06  7.700672e+08 -1.663348e+10  1.528938e+11 -735802046037\n",
       " [9,]  4.375350e+06 -3.898451e+08  8.505733e+09 -7.883571e+10  382050600435\n",
       "[10,] -9.236809e+05  8.313167e+07 -1.828903e+09  1.706981e+10  -83215518397\n",
       "      [,6]          [,7]          [,8]          [,9]          [,10]        \n",
       " [1,] -6.305784e+06  9.608755e+06 -8.750784e+06  4.375372e+06 -9.236858e+05\n",
       " [2,]  5.350897e+08 -8.323580e+08  7.700697e+08 -3.898465e+08  8.313200e+07\n",
       " [3,] -1.123686e+10  1.775696e+10 -1.663352e+10  8.505756e+09 -1.828909e+09\n",
       " [4,]  1.009929e+11 -1.615883e+11  1.528940e+11 -7.883586e+10  1.706985e+10\n",
       " [5,] -4.771909e+11  7.712167e+11 -7.358029e+11  3.820511e+11 -8.321566e+10\n",
       " [6,]  1.301428e+12 -2.120845e+12  2.037609e+12 -1.064286e+12  2.330042e+11\n",
       " [7,] -2.120844e+12  3.480361e+12 -3.363673e+12  1.765928e+12 -3.883407e+11\n",
       " [8,]  2.037607e+12 -3.363671e+12  3.267568e+12 -1.723133e+12  3.804158e+11\n",
       " [9,] -1.064285e+12  1.765927e+12 -1.723132e+12  9.122472e+11 -2.020961e+11\n",
       "[10,]  2.330039e+11 -3.883404e+11  3.804156e+11 -2.020960e+11  4.491027e+10"
      ]
     },
     "metadata": {},
     "output_type": "display_data"
    }
   ],
   "source": [
    "print(\"Usando solve para una matriz de Hilbert de dimensión 10x10\")\n",
    "solve(hilbert(10))\n",
    "\n",
    "print(\"Usando qr.solve para una matriz de Hilbert de dimensión 10x10\")\n",
    "qr.solve(hilbert(10), tol = 0)"
   ]
  },
  {
   "cell_type": "markdown",
   "metadata": {},
   "source": [
    "10) "
   ]
  },
  {
   "cell_type": "markdown",
   "metadata": {},
   "source": [
    "* Genere un array tridimensional con dimensiones $4 \\times 3 \\times 2$ que contengan los números del $1$ al $24$."
   ]
  },
  {
   "cell_type": "code",
   "execution_count": 59,
   "metadata": {},
   "outputs": [
    {
     "name": "stdout",
     "output_type": "stream",
     "text": [
      "[1] \" Array generado\"\n"
     ]
    },
    {
     "data": {
      "text/html": [
       "<ol class=list-inline>\n",
       "\t<li>1</li>\n",
       "\t<li>2</li>\n",
       "\t<li>3</li>\n",
       "\t<li>4</li>\n",
       "\t<li>5</li>\n",
       "\t<li>6</li>\n",
       "\t<li>7</li>\n",
       "\t<li>8</li>\n",
       "\t<li>9</li>\n",
       "\t<li>10</li>\n",
       "\t<li>11</li>\n",
       "\t<li>12</li>\n",
       "\t<li>13</li>\n",
       "\t<li>14</li>\n",
       "\t<li>15</li>\n",
       "\t<li>16</li>\n",
       "\t<li>17</li>\n",
       "\t<li>18</li>\n",
       "\t<li>19</li>\n",
       "\t<li>20</li>\n",
       "\t<li>21</li>\n",
       "\t<li>22</li>\n",
       "\t<li>23</li>\n",
       "\t<li>24</li>\n",
       "</ol>\n"
      ],
      "text/latex": [
       "\\begin{enumerate*}\n",
       "\\item 1\n",
       "\\item 2\n",
       "\\item 3\n",
       "\\item 4\n",
       "\\item 5\n",
       "\\item 6\n",
       "\\item 7\n",
       "\\item 8\n",
       "\\item 9\n",
       "\\item 10\n",
       "\\item 11\n",
       "\\item 12\n",
       "\\item 13\n",
       "\\item 14\n",
       "\\item 15\n",
       "\\item 16\n",
       "\\item 17\n",
       "\\item 18\n",
       "\\item 19\n",
       "\\item 20\n",
       "\\item 21\n",
       "\\item 22\n",
       "\\item 23\n",
       "\\item 24\n",
       "\\end{enumerate*}\n"
      ],
      "text/markdown": [
       "1. 1\n",
       "2. 2\n",
       "3. 3\n",
       "4. 4\n",
       "5. 5\n",
       "6. 6\n",
       "7. 7\n",
       "8. 8\n",
       "9. 9\n",
       "10. 10\n",
       "11. 11\n",
       "12. 12\n",
       "13. 13\n",
       "14. 14\n",
       "15. 15\n",
       "16. 16\n",
       "17. 17\n",
       "18. 18\n",
       "19. 19\n",
       "20. 20\n",
       "21. 21\n",
       "22. 22\n",
       "23. 23\n",
       "24. 24\n",
       "\n",
       "\n"
      ],
      "text/plain": [
       ", , 1\n",
       "\n",
       "     [,1] [,2] [,3]\n",
       "[1,]    1    5    9\n",
       "[2,]    2    6   10\n",
       "[3,]    3    7   11\n",
       "[4,]    4    8   12\n",
       "\n",
       ", , 2\n",
       "\n",
       "     [,1] [,2] [,3]\n",
       "[1,]   13   17   21\n",
       "[2,]   14   18   22\n",
       "[3,]   15   19   23\n",
       "[4,]   16   20   24\n"
      ]
     },
     "metadata": {},
     "output_type": "display_data"
    }
   ],
   "source": [
    "  miArray <- array(1:24, c(4,3,2))\n",
    "  print(\" Array generado\")\n",
    "  miArray"
   ]
  },
  {
   "cell_type": "markdown",
   "metadata": {},
   "source": [
    "* Extraiga la última porción (a[,, 2]) del array y guárdela como una matriz $M$."
   ]
  },
  {
   "cell_type": "code",
   "execution_count": 57,
   "metadata": {},
   "outputs": [
    {
     "name": "stdout",
     "output_type": "stream",
     "text": [
      "[1] \"Matriz M \"\n"
     ]
    },
    {
     "data": {
      "text/html": [
       "<table>\n",
       "<tbody>\n",
       "\t<tr><td>13</td><td>17</td><td>21</td></tr>\n",
       "\t<tr><td>14</td><td>18</td><td>22</td></tr>\n",
       "\t<tr><td>15</td><td>19</td><td>23</td></tr>\n",
       "\t<tr><td>16</td><td>20</td><td>24</td></tr>\n",
       "</tbody>\n",
       "</table>\n"
      ],
      "text/latex": [
       "\\begin{tabular}{lll}\n",
       "\t 13 & 17 & 21\\\\\n",
       "\t 14 & 18 & 22\\\\\n",
       "\t 15 & 19 & 23\\\\\n",
       "\t 16 & 20 & 24\\\\\n",
       "\\end{tabular}\n"
      ],
      "text/markdown": [
       "\n",
       "| 13 | 17 | 21 | \n",
       "| 14 | 18 | 22 | \n",
       "| 15 | 19 | 23 | \n",
       "| 16 | 20 | 24 | \n",
       "\n",
       "\n"
      ],
      "text/plain": [
       "     [,1] [,2] [,3]\n",
       "[1,] 13   17   21  \n",
       "[2,] 14   18   22  \n",
       "[3,] 15   19   23  \n",
       "[4,] 16   20   24  "
      ]
     },
     "metadata": {},
     "output_type": "display_data"
    },
    {
     "name": "stdout",
     "output_type": "stream",
     "text": [
      "[1] \"¿Es una matriz?\"\n"
     ]
    },
    {
     "data": {
      "text/html": [
       "TRUE"
      ],
      "text/latex": [
       "TRUE"
      ],
      "text/markdown": [
       "TRUE"
      ],
      "text/plain": [
       "[1] TRUE"
      ]
     },
     "metadata": {},
     "output_type": "display_data"
    }
   ],
   "source": [
    "  # Extrayendo   \n",
    "   M <- miArray[,,2]\n",
    "   print(\"Matriz M \")\n",
    "   M\n",
    "   print(\"¿Es una matriz?\")\n",
    "   is.matrix(M)"
   ]
  },
  {
   "cell_type": "markdown",
   "metadata": {},
   "source": [
    "* Genera un nuevo array de dimensiones $4 \\times 3 \\times 3$ que es idéntica a la matriz anterior, pero añade la matriz $M$ como la tercera entrada en la tercera dimensión."
   ]
  },
  {
   "cell_type": "code",
   "execution_count": 61,
   "metadata": {},
   "outputs": [
    {
     "name": "stdout",
     "output_type": "stream",
     "text": [
      "[1] \"Nuevo array de 4x3x3\"\n"
     ]
    },
    {
     "data": {
      "text/html": [
       "<ol class=list-inline>\n",
       "\t<li>1</li>\n",
       "\t<li>2</li>\n",
       "\t<li>3</li>\n",
       "\t<li>4</li>\n",
       "\t<li>5</li>\n",
       "\t<li>6</li>\n",
       "\t<li>7</li>\n",
       "\t<li>8</li>\n",
       "\t<li>9</li>\n",
       "\t<li>10</li>\n",
       "\t<li>11</li>\n",
       "\t<li>12</li>\n",
       "\t<li>13</li>\n",
       "\t<li>14</li>\n",
       "\t<li>15</li>\n",
       "\t<li>16</li>\n",
       "\t<li>17</li>\n",
       "\t<li>18</li>\n",
       "\t<li>19</li>\n",
       "\t<li>20</li>\n",
       "\t<li>21</li>\n",
       "\t<li>22</li>\n",
       "\t<li>23</li>\n",
       "\t<li>24</li>\n",
       "\t<li>13</li>\n",
       "\t<li>14</li>\n",
       "\t<li>15</li>\n",
       "\t<li>16</li>\n",
       "\t<li>17</li>\n",
       "\t<li>18</li>\n",
       "\t<li>19</li>\n",
       "\t<li>20</li>\n",
       "\t<li>21</li>\n",
       "\t<li>22</li>\n",
       "\t<li>23</li>\n",
       "\t<li>24</li>\n",
       "</ol>\n"
      ],
      "text/latex": [
       "\\begin{enumerate*}\n",
       "\\item 1\n",
       "\\item 2\n",
       "\\item 3\n",
       "\\item 4\n",
       "\\item 5\n",
       "\\item 6\n",
       "\\item 7\n",
       "\\item 8\n",
       "\\item 9\n",
       "\\item 10\n",
       "\\item 11\n",
       "\\item 12\n",
       "\\item 13\n",
       "\\item 14\n",
       "\\item 15\n",
       "\\item 16\n",
       "\\item 17\n",
       "\\item 18\n",
       "\\item 19\n",
       "\\item 20\n",
       "\\item 21\n",
       "\\item 22\n",
       "\\item 23\n",
       "\\item 24\n",
       "\\item 13\n",
       "\\item 14\n",
       "\\item 15\n",
       "\\item 16\n",
       "\\item 17\n",
       "\\item 18\n",
       "\\item 19\n",
       "\\item 20\n",
       "\\item 21\n",
       "\\item 22\n",
       "\\item 23\n",
       "\\item 24\n",
       "\\end{enumerate*}\n"
      ],
      "text/markdown": [
       "1. 1\n",
       "2. 2\n",
       "3. 3\n",
       "4. 4\n",
       "5. 5\n",
       "6. 6\n",
       "7. 7\n",
       "8. 8\n",
       "9. 9\n",
       "10. 10\n",
       "11. 11\n",
       "12. 12\n",
       "13. 13\n",
       "14. 14\n",
       "15. 15\n",
       "16. 16\n",
       "17. 17\n",
       "18. 18\n",
       "19. 19\n",
       "20. 20\n",
       "21. 21\n",
       "22. 22\n",
       "23. 23\n",
       "24. 24\n",
       "25. 13\n",
       "26. 14\n",
       "27. 15\n",
       "28. 16\n",
       "29. 17\n",
       "30. 18\n",
       "31. 19\n",
       "32. 20\n",
       "33. 21\n",
       "34. 22\n",
       "35. 23\n",
       "36. 24\n",
       "\n",
       "\n"
      ],
      "text/plain": [
       ", , 1\n",
       "\n",
       "     [,1] [,2] [,3]\n",
       "[1,]    1    5    9\n",
       "[2,]    2    6   10\n",
       "[3,]    3    7   11\n",
       "[4,]    4    8   12\n",
       "\n",
       ", , 2\n",
       "\n",
       "     [,1] [,2] [,3]\n",
       "[1,]   13   17   21\n",
       "[2,]   14   18   22\n",
       "[3,]   15   19   23\n",
       "[4,]   16   20   24\n",
       "\n",
       ", , 3\n",
       "\n",
       "     [,1] [,2] [,3]\n",
       "[1,]   13   17   21\n",
       "[2,]   14   18   22\n",
       "[3,]   15   19   23\n",
       "[4,]   16   20   24\n"
      ]
     },
     "metadata": {},
     "output_type": "display_data"
    }
   ],
   "source": [
    "arr <- array(c(miArray,M), c(4,3,3))\n",
    "print(\"Nuevo array de 4x3x3\")\n",
    "arr "
   ]
  },
  {
   "cell_type": "markdown",
   "metadata": {},
   "source": [
    "11) Crea una matriz aleatoria entera $6 \\times 10$ escogidos entre $1,2,\\dots, 10$, ejecutando las siguientes líneas de código."
   ]
  },
  {
   "cell_type": "code",
   "execution_count": 62,
   "metadata": {},
   "outputs": [
    {
     "name": "stdout",
     "output_type": "stream",
     "text": [
      "[1] \"Matriz aMat\"\n"
     ]
    },
    {
     "data": {
      "text/html": [
       "<table>\n",
       "<tbody>\n",
       "\t<tr><td>3 </td><td> 6</td><td>7 </td><td>7 </td><td> 2</td><td> 4</td><td> 3</td><td>7 </td><td> 1</td><td>4 </td></tr>\n",
       "\t<tr><td>1 </td><td> 9</td><td>8 </td><td>7 </td><td> 2</td><td> 6</td><td>10</td><td>9 </td><td> 5</td><td>2 </td></tr>\n",
       "\t<tr><td>7 </td><td>10</td><td>8 </td><td>4 </td><td>10</td><td> 5</td><td> 4</td><td>8 </td><td> 4</td><td>4 </td></tr>\n",
       "\t<tr><td>4 </td><td> 3</td><td>1 </td><td>1 </td><td> 3</td><td> 3</td><td> 9</td><td>7 </td><td> 4</td><td>2 </td></tr>\n",
       "\t<tr><td>1 </td><td> 8</td><td>1 </td><td>9 </td><td> 9</td><td> 8</td><td> 1</td><td>3 </td><td> 7</td><td>7 </td></tr>\n",
       "\t<tr><td>2 </td><td> 6</td><td>7 </td><td>5 </td><td> 6</td><td>10</td><td> 4</td><td>6 </td><td>10</td><td>1 </td></tr>\n",
       "</tbody>\n",
       "</table>\n"
      ],
      "text/latex": [
       "\\begin{tabular}{llllllllll}\n",
       "\t 3  &  6 & 7  & 7  &  2 &  4 &  3 & 7  &  1 & 4 \\\\\n",
       "\t 1  &  9 & 8  & 7  &  2 &  6 & 10 & 9  &  5 & 2 \\\\\n",
       "\t 7  & 10 & 8  & 4  & 10 &  5 &  4 & 8  &  4 & 4 \\\\\n",
       "\t 4  &  3 & 1  & 1  &  3 &  3 &  9 & 7  &  4 & 2 \\\\\n",
       "\t 1  &  8 & 1  & 9  &  9 &  8 &  1 & 3  &  7 & 7 \\\\\n",
       "\t 2  &  6 & 7  & 5  &  6 & 10 &  4 & 6  & 10 & 1 \\\\\n",
       "\\end{tabular}\n"
      ],
      "text/markdown": [
       "\n",
       "| 3  |  6 | 7  | 7  |  2 |  4 |  3 | 7  |  1 | 4  | \n",
       "| 1  |  9 | 8  | 7  |  2 |  6 | 10 | 9  |  5 | 2  | \n",
       "| 7  | 10 | 8  | 4  | 10 |  5 |  4 | 8  |  4 | 4  | \n",
       "| 4  |  3 | 1  | 1  |  3 |  3 |  9 | 7  |  4 | 2  | \n",
       "| 1  |  8 | 1  | 9  |  9 |  8 |  1 | 3  |  7 | 7  | \n",
       "| 2  |  6 | 7  | 5  |  6 | 10 |  4 | 6  | 10 | 1  | \n",
       "\n",
       "\n"
      ],
      "text/plain": [
       "     [,1] [,2] [,3] [,4] [,5] [,6] [,7] [,8] [,9] [,10]\n",
       "[1,] 3     6   7    7     2    4    3   7     1   4    \n",
       "[2,] 1     9   8    7     2    6   10   9     5   2    \n",
       "[3,] 7    10   8    4    10    5    4   8     4   4    \n",
       "[4,] 4     3   1    1     3    3    9   7     4   2    \n",
       "[5,] 1     8   1    9     9    8    1   3     7   7    \n",
       "[6,] 2     6   7    5     6   10    4   6    10   1    "
      ]
     },
     "metadata": {},
     "output_type": "display_data"
    }
   ],
   "source": [
    "# Generando la matriz \n",
    "\n",
    "  set.seed(75)\n",
    "  aMat <- matrix(sample(10, size = 60, replace = T), nr = 6)\n",
    "  print(\"Matriz aMat\")\n",
    "  aMat"
   ]
  },
  {
   "cell_type": "markdown",
   "metadata": {},
   "source": [
    "(a) Encuentra el número de entradas en cada fila que son mayores que $4$."
   ]
  },
  {
   "cell_type": "code",
   "execution_count": 64,
   "metadata": {},
   "outputs": [
    {
     "name": "stdout",
     "output_type": "stream",
     "text": [
      "[1] \"Cantidad de entradas de filas que son mayores que 4\"\n"
     ]
    },
    {
     "data": {
      "text/html": [
       "<ol class=list-inline>\n",
       "\t<li>4</li>\n",
       "\t<li>7</li>\n",
       "\t<li>6</li>\n",
       "\t<li>2</li>\n",
       "\t<li>6</li>\n",
       "\t<li>7</li>\n",
       "</ol>\n"
      ],
      "text/latex": [
       "\\begin{enumerate*}\n",
       "\\item 4\n",
       "\\item 7\n",
       "\\item 6\n",
       "\\item 2\n",
       "\\item 6\n",
       "\\item 7\n",
       "\\end{enumerate*}\n"
      ],
      "text/markdown": [
       "1. 4\n",
       "2. 7\n",
       "3. 6\n",
       "4. 2\n",
       "5. 6\n",
       "6. 7\n",
       "\n",
       "\n"
      ],
      "text/plain": [
       "[1] 4 7 6 2 6 7"
      ]
     },
     "metadata": {},
     "output_type": "display_data"
    }
   ],
   "source": [
    "print(\"Cantidad de entradas de filas que son mayores que 4\")\n",
    "apply(aMat,1, function(x) {sum(x>4)})"
   ]
  },
  {
   "cell_type": "markdown",
   "metadata": {},
   "source": [
    "(b) ¿Qué filas contienen exactamente dos ocurrencias del número siete?"
   ]
  },
  {
   "cell_type": "code",
   "execution_count": 66,
   "metadata": {},
   "outputs": [
    {
     "name": "stdout",
     "output_type": "stream",
     "text": [
      "[1] \"Fila(s) con dos ocurrencias del número siete\"\n"
     ]
    },
    {
     "data": {
      "text/html": [
       "5"
      ],
      "text/latex": [
       "5"
      ],
      "text/markdown": [
       "5"
      ],
      "text/plain": [
       "[1] 5"
      ]
     },
     "metadata": {},
     "output_type": "display_data"
    }
   ],
   "source": [
    "# Averiguamos cuantas veces se repite 7 en una fila \n",
    "num_sietes <- apply(aMat,1, function(x) {sum(x==7)})\n",
    "p <- which(num_sietes == 2) #utilizamos which para saber que indice de fila cumple con dos ocurrencias de siete \n",
    "print(\"Fila(s) con dos ocurrencias del número siete\")\n",
    "p"
   ]
  },
  {
   "cell_type": "markdown",
   "metadata": {},
   "source": [
    "(c) Encuentra aquellos pares de columnas cuyo total (sobre ambas columnas) es mayor que 75. La respuesta debería ser una matriz con dos columnas; así, por ejemplo, la fila $(1, 2)$ en la matriz de salida significa que la suma de las columnas $1$ y $2$ en la matriz original es mayor que 75. Se permite repetir una columna; por ejemplo, la matriz de salida final podría contener las filas $(1, 2), (2, 1)$ y $(2, 2)$."
   ]
  },
  {
   "cell_type": "code",
   "execution_count": 67,
   "metadata": {},
   "outputs": [
    {
     "name": "stdout",
     "output_type": "stream",
     "text": [
      "[1] \"Suma de cada columna\"\n"
     ]
    },
    {
     "data": {
      "text/html": [
       "<ol class=list-inline>\n",
       "\t<li>18</li>\n",
       "\t<li>42</li>\n",
       "\t<li>32</li>\n",
       "\t<li>33</li>\n",
       "\t<li>32</li>\n",
       "\t<li>36</li>\n",
       "\t<li>31</li>\n",
       "\t<li>40</li>\n",
       "\t<li>31</li>\n",
       "\t<li>20</li>\n",
       "</ol>\n"
      ],
      "text/latex": [
       "\\begin{enumerate*}\n",
       "\\item 18\n",
       "\\item 42\n",
       "\\item 32\n",
       "\\item 33\n",
       "\\item 32\n",
       "\\item 36\n",
       "\\item 31\n",
       "\\item 40\n",
       "\\item 31\n",
       "\\item 20\n",
       "\\end{enumerate*}\n"
      ],
      "text/markdown": [
       "1. 18\n",
       "2. 42\n",
       "3. 32\n",
       "4. 33\n",
       "5. 32\n",
       "6. 36\n",
       "7. 31\n",
       "8. 40\n",
       "9. 31\n",
       "10. 20\n",
       "\n",
       "\n"
      ],
      "text/plain": [
       " [1] 18 42 32 33 32 36 31 40 31 20"
      ]
     },
     "metadata": {},
     "output_type": "display_data"
    },
    {
     "name": "stdout",
     "output_type": "stream",
     "text": [
      "[1] \"Matriz donde cada valor sea (i,j) contiene la suma de la i-ésima y j-ésima columna\"\n"
     ]
    },
    {
     "data": {
      "text/html": [
       "<table>\n",
       "<tbody>\n",
       "\t<tr><td>36</td><td>60</td><td>50</td><td>51</td><td>50</td><td>54</td><td>49</td><td>58</td><td>49</td><td>38</td></tr>\n",
       "\t<tr><td>60</td><td>84</td><td>74</td><td>75</td><td>74</td><td>78</td><td>73</td><td>82</td><td>73</td><td>62</td></tr>\n",
       "\t<tr><td>50</td><td>74</td><td>64</td><td>65</td><td>64</td><td>68</td><td>63</td><td>72</td><td>63</td><td>52</td></tr>\n",
       "\t<tr><td>51</td><td>75</td><td>65</td><td>66</td><td>65</td><td>69</td><td>64</td><td>73</td><td>64</td><td>53</td></tr>\n",
       "\t<tr><td>50</td><td>74</td><td>64</td><td>65</td><td>64</td><td>68</td><td>63</td><td>72</td><td>63</td><td>52</td></tr>\n",
       "\t<tr><td>54</td><td>78</td><td>68</td><td>69</td><td>68</td><td>72</td><td>67</td><td>76</td><td>67</td><td>56</td></tr>\n",
       "\t<tr><td>49</td><td>73</td><td>63</td><td>64</td><td>63</td><td>67</td><td>62</td><td>71</td><td>62</td><td>51</td></tr>\n",
       "\t<tr><td>58</td><td>82</td><td>72</td><td>73</td><td>72</td><td>76</td><td>71</td><td>80</td><td>71</td><td>60</td></tr>\n",
       "\t<tr><td>49</td><td>73</td><td>63</td><td>64</td><td>63</td><td>67</td><td>62</td><td>71</td><td>62</td><td>51</td></tr>\n",
       "\t<tr><td>38</td><td>62</td><td>52</td><td>53</td><td>52</td><td>56</td><td>51</td><td>60</td><td>51</td><td>40</td></tr>\n",
       "</tbody>\n",
       "</table>\n"
      ],
      "text/latex": [
       "\\begin{tabular}{llllllllll}\n",
       "\t 36 & 60 & 50 & 51 & 50 & 54 & 49 & 58 & 49 & 38\\\\\n",
       "\t 60 & 84 & 74 & 75 & 74 & 78 & 73 & 82 & 73 & 62\\\\\n",
       "\t 50 & 74 & 64 & 65 & 64 & 68 & 63 & 72 & 63 & 52\\\\\n",
       "\t 51 & 75 & 65 & 66 & 65 & 69 & 64 & 73 & 64 & 53\\\\\n",
       "\t 50 & 74 & 64 & 65 & 64 & 68 & 63 & 72 & 63 & 52\\\\\n",
       "\t 54 & 78 & 68 & 69 & 68 & 72 & 67 & 76 & 67 & 56\\\\\n",
       "\t 49 & 73 & 63 & 64 & 63 & 67 & 62 & 71 & 62 & 51\\\\\n",
       "\t 58 & 82 & 72 & 73 & 72 & 76 & 71 & 80 & 71 & 60\\\\\n",
       "\t 49 & 73 & 63 & 64 & 63 & 67 & 62 & 71 & 62 & 51\\\\\n",
       "\t 38 & 62 & 52 & 53 & 52 & 56 & 51 & 60 & 51 & 40\\\\\n",
       "\\end{tabular}\n"
      ],
      "text/markdown": [
       "\n",
       "| 36 | 60 | 50 | 51 | 50 | 54 | 49 | 58 | 49 | 38 | \n",
       "| 60 | 84 | 74 | 75 | 74 | 78 | 73 | 82 | 73 | 62 | \n",
       "| 50 | 74 | 64 | 65 | 64 | 68 | 63 | 72 | 63 | 52 | \n",
       "| 51 | 75 | 65 | 66 | 65 | 69 | 64 | 73 | 64 | 53 | \n",
       "| 50 | 74 | 64 | 65 | 64 | 68 | 63 | 72 | 63 | 52 | \n",
       "| 54 | 78 | 68 | 69 | 68 | 72 | 67 | 76 | 67 | 56 | \n",
       "| 49 | 73 | 63 | 64 | 63 | 67 | 62 | 71 | 62 | 51 | \n",
       "| 58 | 82 | 72 | 73 | 72 | 76 | 71 | 80 | 71 | 60 | \n",
       "| 49 | 73 | 63 | 64 | 63 | 67 | 62 | 71 | 62 | 51 | \n",
       "| 38 | 62 | 52 | 53 | 52 | 56 | 51 | 60 | 51 | 40 | \n",
       "\n",
       "\n"
      ],
      "text/plain": [
       "      [,1] [,2] [,3] [,4] [,5] [,6] [,7] [,8] [,9] [,10]\n",
       " [1,] 36   60   50   51   50   54   49   58   49   38   \n",
       " [2,] 60   84   74   75   74   78   73   82   73   62   \n",
       " [3,] 50   74   64   65   64   68   63   72   63   52   \n",
       " [4,] 51   75   65   66   65   69   64   73   64   53   \n",
       " [5,] 50   74   64   65   64   68   63   72   63   52   \n",
       " [6,] 54   78   68   69   68   72   67   76   67   56   \n",
       " [7,] 49   73   63   64   63   67   62   71   62   51   \n",
       " [8,] 58   82   72   73   72   76   71   80   71   60   \n",
       " [9,] 49   73   63   64   63   67   62   71   62   51   \n",
       "[10,] 38   62   52   53   52   56   51   60   51   40   "
      ]
     },
     "metadata": {},
     "output_type": "display_data"
    },
    {
     "name": "stdout",
     "output_type": "stream",
     "text": [
      "[1] \"Matriz de pares de columnas donde su suma es mayor que 75\"\n"
     ]
    },
    {
     "data": {
      "text/html": [
       "<table>\n",
       "<thead><tr><th scope=col>row</th><th scope=col>col</th></tr></thead>\n",
       "<tbody>\n",
       "\t<tr><td>2</td><td>2</td></tr>\n",
       "\t<tr><td>6</td><td>2</td></tr>\n",
       "\t<tr><td>8</td><td>2</td></tr>\n",
       "\t<tr><td>2</td><td>6</td></tr>\n",
       "\t<tr><td>8</td><td>6</td></tr>\n",
       "\t<tr><td>2</td><td>8</td></tr>\n",
       "\t<tr><td>6</td><td>8</td></tr>\n",
       "\t<tr><td>8</td><td>8</td></tr>\n",
       "</tbody>\n",
       "</table>\n"
      ],
      "text/latex": [
       "\\begin{tabular}{ll}\n",
       " row & col\\\\\n",
       "\\hline\n",
       "\t 2 & 2\\\\\n",
       "\t 6 & 2\\\\\n",
       "\t 8 & 2\\\\\n",
       "\t 2 & 6\\\\\n",
       "\t 8 & 6\\\\\n",
       "\t 2 & 8\\\\\n",
       "\t 6 & 8\\\\\n",
       "\t 8 & 8\\\\\n",
       "\\end{tabular}\n"
      ],
      "text/markdown": [
       "\n",
       "row | col | \n",
       "|---|---|---|---|---|---|---|---|\n",
       "| 2 | 2 | \n",
       "| 6 | 2 | \n",
       "| 8 | 2 | \n",
       "| 2 | 6 | \n",
       "| 8 | 6 | \n",
       "| 2 | 8 | \n",
       "| 6 | 8 | \n",
       "| 8 | 8 | \n",
       "\n",
       "\n"
      ],
      "text/plain": [
       "     row col\n",
       "[1,] 2   2  \n",
       "[2,] 6   2  \n",
       "[3,] 8   2  \n",
       "[4,] 2   6  \n",
       "[5,] 8   6  \n",
       "[6,] 2   8  \n",
       "[7,] 6   8  \n",
       "[8,] 8   8  "
      ]
     },
     "metadata": {},
     "output_type": "display_data"
    }
   ],
   "source": [
    "# Esta variable guarda la suma de cada columna \n",
    "sum_col <- apply(aMat,2, function(x) { sum(x)})\n",
    "print(\"Suma de cada columna\")\n",
    "sum_col\n",
    "\n",
    "#Ahora guardaremos todas las sumas posibles entre columnas en una matriz \n",
    "col_matrix <- matrix(sum_col + rep(sum_col, each = 10), nrow = 10, byrow =  F)\n",
    "print(\"Matriz donde cada valor sea (i,j) contiene la suma de la i-ésima y j-ésima columna\")       \n",
    "col_matrix\n",
    "      \n",
    "#Luego aplicamos la funcion which, el cual nos devolverá los índices que cumplen con la condición en el argumento\n",
    "matrix_resul <- which(col_matrix>75, arr.ind = TRUE)\n",
    "print(\"Matriz de pares de columnas donde su suma es mayor que 75\")\n",
    "matrix_resul"
   ]
  },
  {
   "cell_type": "markdown",
   "metadata": {},
   "source": [
    "¿Qué sucede si no se permiten repeticiones? Entonces, sólo se permitiría $(1, 2)$ de $(1, 2), (2, 1)$ y $(2, 2)$?"
   ]
  },
  {
   "cell_type": "code",
   "execution_count": 68,
   "metadata": {},
   "outputs": [
    {
     "name": "stdout",
     "output_type": "stream",
     "text": [
      "[1] \"Matriz solo con los valores que son de la forma (i,j)\"\n"
     ]
    },
    {
     "data": {
      "text/html": [
       "<table>\n",
       "<tbody>\n",
       "\t<tr><td>NA</td><td>60</td><td>50</td><td>51</td><td>50</td><td>54</td><td>49</td><td>58</td><td>49</td><td>38</td></tr>\n",
       "\t<tr><td>NA</td><td>NA</td><td>74</td><td>75</td><td>74</td><td>78</td><td>73</td><td>82</td><td>73</td><td>62</td></tr>\n",
       "\t<tr><td>NA</td><td>NA</td><td>NA</td><td>65</td><td>64</td><td>68</td><td>63</td><td>72</td><td>63</td><td>52</td></tr>\n",
       "\t<tr><td>NA</td><td>NA</td><td>NA</td><td>NA</td><td>65</td><td>69</td><td>64</td><td>73</td><td>64</td><td>53</td></tr>\n",
       "\t<tr><td>NA</td><td>NA</td><td>NA</td><td>NA</td><td>NA</td><td>68</td><td>63</td><td>72</td><td>63</td><td>52</td></tr>\n",
       "\t<tr><td>NA</td><td>NA</td><td>NA</td><td>NA</td><td>NA</td><td>NA</td><td>67</td><td>76</td><td>67</td><td>56</td></tr>\n",
       "\t<tr><td>NA</td><td>NA</td><td>NA</td><td>NA</td><td>NA</td><td>NA</td><td>NA</td><td>71</td><td>62</td><td>51</td></tr>\n",
       "\t<tr><td>NA</td><td>NA</td><td>NA</td><td>NA</td><td>NA</td><td>NA</td><td>NA</td><td>NA</td><td>71</td><td>60</td></tr>\n",
       "\t<tr><td>NA</td><td>NA</td><td>NA</td><td>NA</td><td>NA</td><td>NA</td><td>NA</td><td>NA</td><td>NA</td><td>51</td></tr>\n",
       "\t<tr><td>NA</td><td>NA</td><td>NA</td><td>NA</td><td>NA</td><td>NA</td><td>NA</td><td>NA</td><td>NA</td><td>NA</td></tr>\n",
       "</tbody>\n",
       "</table>\n"
      ],
      "text/latex": [
       "\\begin{tabular}{llllllllll}\n",
       "\t NA & 60 & 50 & 51 & 50 & 54 & 49 & 58 & 49 & 38\\\\\n",
       "\t NA & NA & 74 & 75 & 74 & 78 & 73 & 82 & 73 & 62\\\\\n",
       "\t NA & NA & NA & 65 & 64 & 68 & 63 & 72 & 63 & 52\\\\\n",
       "\t NA & NA & NA & NA & 65 & 69 & 64 & 73 & 64 & 53\\\\\n",
       "\t NA & NA & NA & NA & NA & 68 & 63 & 72 & 63 & 52\\\\\n",
       "\t NA & NA & NA & NA & NA & NA & 67 & 76 & 67 & 56\\\\\n",
       "\t NA & NA & NA & NA & NA & NA & NA & 71 & 62 & 51\\\\\n",
       "\t NA & NA & NA & NA & NA & NA & NA & NA & 71 & 60\\\\\n",
       "\t NA & NA & NA & NA & NA & NA & NA & NA & NA & 51\\\\\n",
       "\t NA & NA & NA & NA & NA & NA & NA & NA & NA & NA\\\\\n",
       "\\end{tabular}\n"
      ],
      "text/markdown": [
       "\n",
       "| NA | 60 | 50 | 51 | 50 | 54 | 49 | 58 | 49 | 38 | \n",
       "| NA | NA | 74 | 75 | 74 | 78 | 73 | 82 | 73 | 62 | \n",
       "| NA | NA | NA | 65 | 64 | 68 | 63 | 72 | 63 | 52 | \n",
       "| NA | NA | NA | NA | 65 | 69 | 64 | 73 | 64 | 53 | \n",
       "| NA | NA | NA | NA | NA | 68 | 63 | 72 | 63 | 52 | \n",
       "| NA | NA | NA | NA | NA | NA | 67 | 76 | 67 | 56 | \n",
       "| NA | NA | NA | NA | NA | NA | NA | 71 | 62 | 51 | \n",
       "| NA | NA | NA | NA | NA | NA | NA | NA | 71 | 60 | \n",
       "| NA | NA | NA | NA | NA | NA | NA | NA | NA | 51 | \n",
       "| NA | NA | NA | NA | NA | NA | NA | NA | NA | NA | \n",
       "\n",
       "\n"
      ],
      "text/plain": [
       "      [,1] [,2] [,3] [,4] [,5] [,6] [,7] [,8] [,9] [,10]\n",
       " [1,] NA   60   50   51   50   54   49   58   49   38   \n",
       " [2,] NA   NA   74   75   74   78   73   82   73   62   \n",
       " [3,] NA   NA   NA   65   64   68   63   72   63   52   \n",
       " [4,] NA   NA   NA   NA   65   69   64   73   64   53   \n",
       " [5,] NA   NA   NA   NA   NA   68   63   72   63   52   \n",
       " [6,] NA   NA   NA   NA   NA   NA   67   76   67   56   \n",
       " [7,] NA   NA   NA   NA   NA   NA   NA   71   62   51   \n",
       " [8,] NA   NA   NA   NA   NA   NA   NA   NA   71   60   \n",
       " [9,] NA   NA   NA   NA   NA   NA   NA   NA   NA   51   \n",
       "[10,] NA   NA   NA   NA   NA   NA   NA   NA   NA   NA   "
      ]
     },
     "metadata": {},
     "output_type": "display_data"
    },
    {
     "name": "stdout",
     "output_type": "stream",
     "text": [
      "[1] \"Matriz con índices que cumplen que la suma es mayor a 75\"\n"
     ]
    },
    {
     "data": {
      "text/html": [
       "<table>\n",
       "<thead><tr><th scope=col>row</th><th scope=col>col</th></tr></thead>\n",
       "<tbody>\n",
       "\t<tr><td>2</td><td>6</td></tr>\n",
       "\t<tr><td>2</td><td>8</td></tr>\n",
       "\t<tr><td>6</td><td>8</td></tr>\n",
       "</tbody>\n",
       "</table>\n"
      ],
      "text/latex": [
       "\\begin{tabular}{ll}\n",
       " row & col\\\\\n",
       "\\hline\n",
       "\t 2 & 6\\\\\n",
       "\t 2 & 8\\\\\n",
       "\t 6 & 8\\\\\n",
       "\\end{tabular}\n"
      ],
      "text/markdown": [
       "\n",
       "row | col | \n",
       "|---|---|---|\n",
       "| 2 | 6 | \n",
       "| 2 | 8 | \n",
       "| 6 | 8 | \n",
       "\n",
       "\n"
      ],
      "text/plain": [
       "     row col\n",
       "[1,] 2   6  \n",
       "[2,] 2   8  \n",
       "[3,] 6   8  "
      ]
     },
     "metadata": {},
     "output_type": "display_data"
    }
   ],
   "source": [
    "#Colocamos a los valores que son (j,i) de (i,j) ya que no los contamos para el cálculo \n",
    "col_matrix[lower.tri(col_matrix, diag = TRUE)] <- NA\n",
    "print(\"Matriz solo con los valores que son de la forma (i,j)\")\n",
    "col_matrix\n",
    "\n",
    "#Ahora hacemos el mismo procedimiento que en el caso anterior \n",
    "matrix_resul_1<- which(col_matrix>75, arr.ind = TRUE)  \n",
    "print(\"Matriz con índices que cumplen que la suma es mayor a 75\")\n",
    "matrix_resul_1"
   ]
  }
 ],
 "metadata": {
  "anaconda-cloud": {},
  "kernelspec": {
   "display_name": "R",
   "language": "R",
   "name": "ir"
  },
  "language_info": {
   "codemirror_mode": "r",
   "file_extension": ".r",
   "mimetype": "text/x-r-source",
   "name": "R",
   "pygments_lexer": "r",
   "version": "3.4.1"
  }
 },
 "nbformat": 4,
 "nbformat_minor": 1
}
