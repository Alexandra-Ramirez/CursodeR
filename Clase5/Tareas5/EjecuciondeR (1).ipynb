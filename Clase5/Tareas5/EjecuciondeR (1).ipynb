{
 "cells": [
  {
   "cell_type": "markdown",
   "metadata": {},
   "source": [
    "# Estrategias para acelerar el código en R \n",
    "---"
   ]
  },
  {
   "cell_type": "markdown",
   "metadata": {},
   "source": [
    "El autor nos informa sobre algunas desventajas del **bucle for** y sobre como podemos optimizar todo ese proceso. Solo basta ajustar algunos detalles para poder incrementar la velocidad.  \n",
    "\n",
    "Ahora el autor nos da como ejemplo un conjunto de datos que lo almacenará en un data.frame.  \n",
    "Inicializando el código de la siguiente manera:"
   ]
  },
  {
   "cell_type": "code",
   "execution_count": 2,
   "metadata": {},
   "outputs": [
    {
     "data": {
      "text/html": [
       "<ol class=list-inline>\n",
       "\t<li>248832</li>\n",
       "\t<li>4</li>\n",
       "</ol>\n"
      ],
      "text/latex": [
       "\\begin{enumerate*}\n",
       "\\item 248832\n",
       "\\item 4\n",
       "\\end{enumerate*}\n"
      ],
      "text/markdown": [
       "1. 248832\n",
       "2. 4\n",
       "\n",
       "\n"
      ],
      "text/plain": [
       "[1] 248832      4"
      ]
     },
     "metadata": {},
     "output_type": "display_data"
    }
   ],
   "source": [
    "# Create the data frame\n",
    "col1 <- runif (12^5, 0, 2)\n",
    "col2 <- rnorm (12^5, 0, 2)\n",
    "col3 <- rpois (12^5, 3)\n",
    "col4 <- rchisq (12^5, 2)\n",
    "df <- data.frame (col1, col2, col3, col4)\n",
    "dim(df) #dimensiones del data.frame df "
   ]
  },
  {
   "cell_type": "markdown",
   "metadata": {},
   "source": [
    "Podemos observar que se tiene 248832 filas y 4 columnas, en total hay 995328 datos.  \n",
    "\n",
    "Ahora el autor nos da el siguiente ejercicio. Sumar todas las filas del data.frame y verificar si la suma es mayor a 4 o menor que 4. Si fuese el primer caso, introducirá una quinta columna con el valor \"mayor que 4\" o \" menor que 4\"."
   ]
  },
  {
   "cell_type": "code",
   "execution_count": null,
   "metadata": {},
   "outputs": [
    {
     "name": "stderr",
     "output_type": "stream",
     "text": [
      "Timing stopped at: 977.1 23.32 1002\n"
     ]
    }
   ],
   "source": [
    "# Original R code: Before vectorization and pre-allocation\n",
    "system.time({\n",
    "  for (i in 1:nrow(df)) { # una iteración para cada fila \n",
    "    if ((df[i, \"col1\"] + df[i, \"col2\"] + df[i, \"col3\"] + df[i, \"col4\"]) > 4) { # check if > 4\n",
    "      df[i, 5] <- \"greater_than_4\" # lo asigna a la quinta columna \n",
    "    } else {\n",
    "      df[i, 5] <- \"lesser_than_4\" # lo asigna a la quinta columna\n",
    "    }\n",
    "  }\n",
    "\n",
    "})"
   ]
  },
  {
   "cell_type": "markdown",
   "metadata": {},
   "source": [
    "Tiempo de ejecución:\n",
    "\n",
    "user | system | elapsed\n",
    "-- | -- | --\n",
    "377.264 | 0.516 | 378.366 "
   ]
  },
  {
   "cell_type": "markdown",
   "metadata": {},
   "source": [
    "Ahora vamos a inicializar nuestra estructura de datos antes de usarla. Este método se llama vectorización. "
   ]
  },
  {
   "cell_type": "code",
   "execution_count": null,
   "metadata": {
    "collapsed": true
   },
   "outputs": [],
   "source": [
    "# after vectorization and pre-allocation\n",
    "output <- character (nrow(df)) # initialize output vector\n",
    "system.time({\n",
    "  for (i in 1:nrow(df)) {\n",
    "    if ((df[i, \"col1\"] + df[i, \"col2\"] + df[i, \"col3\"] + df[i, \"col4\"]) > 4) {\n",
    "      output[i] <- \"greater_than_4\"\n",
    "    } else {\n",
    "      output[i] <- \"lesser_than_4\"\n",
    "    }\n",
    "  }\n",
    "df$output})"
   ]
  },
  {
   "cell_type": "markdown",
   "metadata": {},
   "source": [
    "Tiempo de ejecución\n",
    "\n",
    "user | system | elapsed\n",
    "-- | -- | --\n",
    "12.936| 0.008 | 13.007 "
   ]
  },
  {
   "cell_type": "markdown",
   "metadata": {},
   "source": [
    "Comparando el tiempo de ejecución antes de la vectorización con el ya vectorizado, se observa que disminuye considerablemente. Haciéndolo más rápido.  \n",
    "\n",
    "Ahora veamos la velocidad usando la condición `if-else` afuera del bucle `for`."
   ]
  },
  {
   "cell_type": "code",
   "execution_count": null,
   "metadata": {
    "collapsed": true
   },
   "outputs": [],
   "source": [
    "# after vectorization and pre-allocation, taking the condition checking outside the loop.\n",
    "output <- character (nrow(df))\n",
    "condition <- (df$col1 + df$col2 + df$col3 + df$col4) > 4  # condition check outside the loop\n",
    "system.time({\n",
    "  for (i in 1:nrow(df)) {\n",
    "    if (condition[i]) {\n",
    "      output[i] <- \"greater_than_4\"\n",
    "    } else {\n",
    "      output[i] <- \"lesser_than_4\"\n",
    "    }\n",
    "  }\n",
    "  df$output <- output\n",
    "})"
   ]
  },
  {
   "cell_type": "markdown",
   "metadata": {},
   "source": [
    "Tiempo de ejecución\n",
    "\n",
    "user | system | elapsed\n",
    "-- | -- | --\n",
    "0.284| 0.000 |  0.283 "
   ]
  },
  {
   "cell_type": "markdown",
   "metadata": {},
   "source": [
    "Ahora ejecutamos el código solo para las sentencias verdaderas. Así si hay una cantidad mayor de casos verdaderos posiblemente la velocidad será mejor. El código es de la siguiente forma:"
   ]
  },
  {
   "cell_type": "code",
   "execution_count": null,
   "metadata": {
    "collapsed": true
   },
   "outputs": [],
   "source": [
    "output <- character(nrow(df))\n",
    "condition <- (df$col1 + df$col2 + df$col3 + df$col4) > 4\n",
    "system.time({\n",
    "  for (i in (1:nrow(df))[condition]) {  # El for solo es para condiciones verdaderas \n",
    "    if (condition[i]) {\n",
    "      output[i] <- \"greater_than_4\"\n",
    "    } else {\n",
    "      output[i] <- \"lesser_than_4\"\n",
    "    }\n",
    "  }\n",
    "  df$output })"
   ]
  },
  {
   "cell_type": "markdown",
   "metadata": {},
   "source": [
    "Tiempo de ejecución\n",
    "\n",
    "user | system | elapsed\n",
    "-- | -- | --\n",
    "0.204| 0.000| 0.206"
   ]
  },
  {
   "cell_type": "markdown",
   "metadata": {
    "collapsed": true
   },
   "source": [
    "Notamos que el tiempo es menor comparado con el caso anterior.  \n",
    "\n",
    "Luego hacemos otro tipo de hacer menor el tiempo de velocidad. Para esto usamos una condición `ifelse()` que siempre sea posible. "
   ]
  },
  {
   "cell_type": "code",
   "execution_count": null,
   "metadata": {
    "collapsed": true
   },
   "outputs": [],
   "source": [
    "#Código donde solo se usa un ifelse()\n",
    "system.time({\n",
    "  output <- ifelse ((df$col1 + df$col2 + df$col3 + df$col4) > 4, \"greater_than_4\", \"lesser_than_4\")\n",
    "  df$output <- output\n",
    "});"
   ]
  },
  {
   "cell_type": "markdown",
   "metadata": {},
   "source": [
    "Tiempo de ejecución\n",
    "\n",
    "user | system | elapsed\n",
    "-- | -- | --\n",
    "0.132| 0.004| 0.138"
   ]
  },
  {
   "cell_type": "markdown",
   "metadata": {},
   "source": [
    "Notamos que el tiempo comparado con los anteriores `if` es menor. Ya que no hay una asignación previa y se verifica la condición en todos los casos.  \n",
    "\n",
    "Otra forma de poder hallar la misma operación pero con una mayor velocidad es con `which()`."
   ]
  },
  {
   "cell_type": "code",
   "execution_count": null,
   "metadata": {
    "collapsed": true
   },
   "outputs": [],
   "source": [
    "system.time({\n",
    "  want = which(rowSums(df) > 4)\n",
    "  output = rep(\"less than 4\", times = nrow(df))\n",
    "  output[want] = \"greater than 4\"\n",
    "}) "
   ]
  },
  {
   "cell_type": "markdown",
   "metadata": {},
   "source": [
    "Tiempo de ejecución\n",
    "\n",
    "user | system | elapsed\n",
    "-- | -- | --\n",
    "0.020 | 0.000| 0.017 "
   ]
  },
  {
   "cell_type": "markdown",
   "metadata": {},
   "source": [
    "Usamos ahora la  función `apply` en vez del bucle `for`"
   ]
  },
  {
   "cell_type": "code",
   "execution_count": null,
   "metadata": {
    "collapsed": true
   },
   "outputs": [],
   "source": [
    "# funcion apply\n",
    "system.time({\n",
    "  myfunc <- function(x) {\n",
    "    if ((x['col1'] + x['col2'] + x['col3'] + x['col4']) > 4) {\n",
    "      \"greater_than_4\"\n",
    "    } else {\n",
    "      \"lesser_than_4\"\n",
    "    }\n",
    "  }\n",
    "  output <- apply(df[, c(1:4)], 1, FUN=myfunc)  # apply 'myfunc' on every row\n",
    "  df$output <- output\n",
    "})"
   ]
  },
  {
   "cell_type": "markdown",
   "metadata": {},
   "source": [
    "Tiempo de ejecución\n",
    "\n",
    "user | system | elapsed\n",
    "-- | -- | --\n",
    "1.204 | 0.000|  1.211   "
   ]
  },
  {
   "cell_type": "markdown",
   "metadata": {},
   "source": [
    "Comparando estos tiempos con el método de vectorización, códigos anteriores, el tiempo es mucho menor.  \n",
    "\n",
    "Usamos ahora la función `cmpfun()`. "
   ]
  },
  {
   "cell_type": "code",
   "execution_count": null,
   "metadata": {
    "collapsed": true
   },
   "outputs": [],
   "source": [
    "library(compiler) \n",
    "myFuncCmp <- cmpfun(myfunc)\n",
    "system.time({\n",
    "  output <- apply(df[, c (1:4)], 1, FUN=myFuncCmp)\n",
    "})"
   ]
  },
  {
   "cell_type": "markdown",
   "metadata": {},
   "source": [
    "Tiempo de ejecución\n",
    "\n",
    "user | system | elapsed\n",
    "-- | -- | --\n",
    "1.06 | 0.00|  1.06   "
   ]
  },
  {
   "cell_type": "markdown",
   "metadata": {},
   "source": [
    "Aquí notamos que el tiempo es regularmente bajo, comparado con `apply`, ya que este método se usa para funciones más complejas.  \n",
    "\n",
    "Ahora usaremos Rcpp, es una libreria donde podemos exportar código de **C/C++** para usarlo junto con **R**.  \n",
    "El código ahora usa alrededor de un millón de datos. "
   ]
  },
  {
   "cell_type": "code",
   "execution_count": null,
   "metadata": {
    "collapsed": true
   },
   "outputs": [],
   "source": [
    "library(Rcpp) # llamando a la libreria Rcpp\n",
    "sourceCpp(\"MyFunc.cpp\")  # exportamos un código en C++ llamado Myfunc.cpp\n",
    "system.time (output <- myFunc(df))"
   ]
  },
  {
   "cell_type": "code",
   "execution_count": null,
   "metadata": {
    "collapsed": true
   },
   "outputs": [],
   "source": [
    "// Esta es la función en c++\n",
    "// Source for MyFunc.cpp\n",
    "#include \n",
    "using namespace Rcpp;\n",
    "// [[Rcpp::export]]\n",
    "CharacterVector myFunc(DataFrame x) {\n",
    "  NumericVector col1 = as(x[\"col1\"]);\n",
    "  NumericVector col2 = as(x[\"col2\"]);\n",
    "  NumericVector col3 = as(x[\"col3\"]);\n",
    "  NumericVector col4 = as(x[\"col4\"]);\n",
    "  int n = col1.size();\n",
    "  CharacterVector out(n);\n",
    "  for (int i=0; i 4){\n",
    "      out[i] = \"greater_than_4\";\n",
    "    } else {\n",
    "      out[i] = \"lesser_than_4\";\n",
    "    }\n",
    "  }\n",
    "  return out;\n",
    "}"
   ]
  },
  {
   "cell_type": "markdown",
   "metadata": {},
   "source": [
    "Viendo los tiempos de ejecución del código anterior, comparado con el código `ifelse()`, se concluye que es mucho menor. "
   ]
  },
  {
   "cell_type": "markdown",
   "metadata": {},
   "source": [
    "Usamos ahora la ejecución del código en paralelo de la siguiente manera."
   ]
  },
  {
   "cell_type": "code",
   "execution_count": null,
   "metadata": {
    "collapsed": true
   },
   "outputs": [],
   "source": [
    "# proceso paralelo \n",
    "library(foreach)\n",
    "library(doSNOW)\n",
    "cl <- makeCluster(4, type=\"SOCK\") # para 4 máquinas \n",
    "registerDoSNOW (cl)\n",
    "condition <- (df$col1 + df$col2 + df$col3 + df$col4) > 4\n",
    "# paralelizacion con vectorización\n",
    "system.time({\n",
    "  output <- foreach(i = 1:nrow(df), .combine=c) %dopar% {\n",
    "    if (condition[i]) {\n",
    "      return(\"greater_than_4\")\n",
    "    } else {\n",
    "      return(\"lesser_than_4\")\n",
    "    }\n",
    "  }\n",
    "})\n",
    "df$output <- output"
   ]
  },
  {
   "cell_type": "markdown",
   "metadata": {
    "collapsed": true
   },
   "source": [
    "Finalmente usamos una estructura de datos que consuma menos memoria. "
   ]
  },
  {
   "cell_type": "code",
   "execution_count": null,
   "metadata": {
    "collapsed": true
   },
   "outputs": [],
   "source": [
    "dt <- data.table(df)  # creamos el data.table\n",
    "system.time({\n",
    "  for (i in 1:nrow (dt)) {\n",
    "    if ((dt[i, col1] + dt[i, col2] + dt[i, col3] + dt[i, col4]) > 4) {\n",
    "      dt[i, col5:=\"greater_than_4\"]  # le asignamos \"mayor_que_4\" a la 5ta columna\n",
    "    } else {\n",
    "      dt[i, col5:=\"lesser_than_4\"]  # le asignamos \"menor_que_4\" a la 5ta columna \n",
    "    }\n",
    "  }\n",
    "})\n"
   ]
  },
  {
   "cell_type": "markdown",
   "metadata": {
    "collapsed": true
   },
   "source": [
    "Comparando los datos con el primer ejemplo, sin vectorización y con `data.frame`, los tiempos con una estructura de datos `data.table` es mucho menor, ya que agiliza las operaciones al reducir la sobrecarga de la memoria.  "
   ]
  },
  {
   "cell_type": "markdown",
   "metadata": {},
   "source": [
    "### Fuentes:  \n",
    " * Strategies to Speedup R Code. Selva Prabhakaran. Link: <https://datascienceplus.com/strategies-to-speedup-r-code/> "
   ]
  }
 ],
 "metadata": {
  "anaconda-cloud": {},
  "kernelspec": {
   "display_name": "R",
   "language": "R",
   "name": "ir"
  },
  "language_info": {
   "codemirror_mode": "r",
   "file_extension": ".r",
   "mimetype": "text/x-r-source",
   "name": "R",
   "pygments_lexer": "r",
   "version": "3.4.1"
  }
 },
 "nbformat": 4,
 "nbformat_minor": 1
}
